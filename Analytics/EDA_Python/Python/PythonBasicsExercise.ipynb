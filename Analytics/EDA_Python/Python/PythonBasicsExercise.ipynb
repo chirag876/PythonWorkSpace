{
 "cells": [
  {
   "cell_type": "markdown",
   "metadata": {},
   "source": [
    "# Basic Exercise "
   ]
  },
  {
   "cell_type": "markdown",
   "metadata": {},
   "source": [
    "Exercise 1: Print the table of a number entered by user"
   ]
  },
  {
   "cell_type": "code",
   "execution_count": 1,
   "metadata": {},
   "outputs": [
    {
     "name": "stdout",
     "output_type": "stream",
     "text": [
      "5 x 1 = 5\n",
      "5 x 2 = 10\n",
      "5 x 3 = 15\n",
      "5 x 4 = 20\n",
      "5 x 5 = 25\n",
      "5 x 6 = 30\n",
      "5 x 7 = 35\n",
      "5 x 8 = 40\n",
      "5 x 9 = 45\n",
      "5 x 10 = 50\n"
     ]
    }
   ],
   "source": [
    "# a = int(input())\n",
    "# for i in range(1, 11):\n",
    "#     print(a,'x', i, '=', a*i)    \n",
    "\n",
    "a = int(input())\n",
    "def multitable(a):\n",
    "    for i in range(1, 11):\n",
    "        print(a,'x', i, '=', a*i)\n",
    "multitable(a)    "
   ]
  },
  {
   "cell_type": "markdown",
   "metadata": {},
   "source": [
    "Exercice 2: keep on adding the numbers until 0 as input given"
   ]
  },
  {
   "cell_type": "code",
   "execution_count": null,
   "metadata": {},
   "outputs": [],
   "source": [
    "# total = 0\n",
    "# a = int(input())\n",
    "# while a!=0:\n",
    "#     total = total+a\n",
    "#     a = int(input())\n",
    "# print(total)\n",
    "\n",
    "total = 0\n",
    "a = int(input())\n",
    "def addnumbers(a,total):\n",
    "    while a!=0:\n",
    "        total = total+a\n",
    "        a = int(input())\n",
    "    print(\"The sum of numbers entered is:\", total)\n",
    "addnumbers(a,total)"
   ]
  },
  {
   "cell_type": "markdown",
   "metadata": {},
   "source": [
    "Exercise 3: printing the characters of a word at even index"
   ]
  },
  {
   "cell_type": "code",
   "execution_count": null,
   "metadata": {},
   "outputs": [],
   "source": [
    "# a = str(input())\n",
    "# lenght_of_a = len(a)\n",
    "# for length in range(0, lenght_of_a-1, 2):\n",
    "#     print(\"The characters at the even position are: \", a[length])\n",
    "\n",
    "# a = str(input())\n",
    "# lenght_of_a = len(a)\n",
    "# def evenindexchar(a):\n",
    "#     for length in range(0, lenght_of_a-1, 2):\n",
    "#         print(\"The characters at the even position are: \", a[length])\n",
    "# evenindexchar(a)\n",
    "\n",
    "# list slicing\n",
    "a = str(input())\n",
    "n = list(a)\n",
    "for i in n[0::2]:\n",
    "    print(\"The characters at the even position are: \", i)"
   ]
  },
  {
   "cell_type": "markdown",
   "metadata": {},
   "source": [
    "Exercise 4: Remove first n characters from a string (removing first/last n characters of string)"
   ]
  },
  {
   "cell_type": "code",
   "execution_count": null,
   "metadata": {},
   "outputs": [],
   "source": [
    "# n = int(input())\n",
    "# a = str(input())\n",
    "# c = a[:-n]\n",
    "# # c = a[n:]\n",
    "# print(c)\n",
    "    \n",
    "n = int(input())\n",
    "a = str(input())\n",
    "def removecharacter(a,n):\n",
    "    c = a[:-n]\n",
    "    # c = a[n:]\n",
    "    return c\n",
    "removecharacter(a,n)"
   ]
  },
  {
   "cell_type": "markdown",
   "metadata": {},
   "source": [
    "Exercise 5: Check if the first and last number of a list is the same"
   ]
  },
  {
   "cell_type": "code",
   "execution_count": null,
   "metadata": {},
   "outputs": [],
   "source": [
    "# list1 = [10,20,30,10]\n",
    "# for i in enumerate(list1):\n",
    "#     if list1[0] == list1[-1]:\n",
    "#         print(True)\n",
    "#     else:\n",
    "#         print(False)\n",
    "        \n",
    "list1 = [10, 20, 30, 10]\n",
    "# length = len(list1)\n",
    "def list_match(list1):\n",
    "    for i in enumerate(list1):\n",
    "        if list1[0] == list1[-1]:\n",
    "            return True\n",
    "        else:\n",
    "            return False\n",
    "list_match(list1)"
   ]
  },
  {
   "cell_type": "markdown",
   "metadata": {},
   "source": [
    "Exercise 6: Display numbers divisible by 5 from a list"
   ]
  },
  {
   "cell_type": "code",
   "execution_count": null,
   "metadata": {},
   "outputs": [],
   "source": [
    "# number = [10, 20, 18, 35, 78]\n",
    "# for i in number:\n",
    "#     if i%5==0:\n",
    "#         print(i)\n",
    "# number = [10, 20, 18, 35, 78]\n",
    "# def divisibility(number):\n",
    "#     for i in number:\n",
    "#         if i%5==0:\n",
    "#             print(i)\n",
    "# divisibility(number)\n",
    "\n",
    "# li2 =[]\n",
    "# li = []\n",
    "# n = int(input())\n",
    "# print(\"Total number of elements in the list: \", n)\n",
    "# print('\\n')\n",
    "# for i in range(0,n):\n",
    "#     e = int(input())\n",
    "#     li2.append(e)\n",
    "# print(\"Original list: \", li2)\n",
    "# print('\\n')\n",
    "# for j in li2:\n",
    "#     if j%5==0:\n",
    "#         li.append(j)\n",
    "# print(\"List with numbers divisible by 5 from original list: \",li)\n",
    "# n = int(input())\n",
    "def divisibility(numberofelements):\n",
    "    list1 = []\n",
    "    list2 = []\n",
    "    print(\"Number of elements in the list: \", numberofelements)\n",
    "    print('\\n')\n",
    "    for i in range(0,numberofelements):\n",
    "        e = int(input())\n",
    "        list1.append(e)\n",
    "    print(\"Original list: \", list1)\n",
    "    print('\\n')\n",
    "    for j in list1:\n",
    "        if j%5==0:\n",
    "            list2.append(j)\n",
    "    print(\"List of numbers divisible by 5 from the original list: \", list2)\n",
    "divisibility(4)"
   ]
  },
  {
   "cell_type": "markdown",
   "metadata": {},
   "source": [
    "Exercise 7: Return the count of a given substring from a string"
   ]
  },
  {
   "cell_type": "code",
   "execution_count": null,
   "metadata": {},
   "outputs": [],
   "source": [
    "# str_x = \"Emma is good developer. Emma is a writer\"\n",
    "# repetition = str_x.count('Emma')\n",
    "# repetition\n",
    "\n",
    "str1 = str(input())\n",
    "repetition = str1.count('Emma')\n",
    "repetition"
   ]
  },
  {
   "cell_type": "markdown",
   "metadata": {},
   "source": [
    "Exercise 8: Print the following pattern"
   ]
  },
  {
   "cell_type": "code",
   "execution_count": null,
   "metadata": {},
   "outputs": [],
   "source": [
    "\n",
    "# 1 \n",
    "\n",
    "# 2 2 \n",
    "\n",
    "# 3 3 3 \n",
    "\n",
    "# 4 4 4 4 \n",
    "\n",
    "# 5 5 5 5 5 \n",
    "# for i in range(6):\n",
    "#     for j in range(i):\n",
    "#         print(i, end=' ')\n",
    "#     print('\\n')\n",
    "\n",
    "n = int(input())    \n",
    "def pattern(n):\n",
    "    for i in range(n):\n",
    "        for j in range(i):\n",
    "            print(i, end=' ')\n",
    "        print('\\n')\n",
    "pattern(n)"
   ]
  },
  {
   "cell_type": "markdown",
   "metadata": {},
   "source": [
    "Exercise 9: Check Palindrome Number"
   ]
  },
  {
   "cell_type": "code",
   "execution_count": null,
   "metadata": {},
   "outputs": [],
   "source": [
    "original_num = 121\n",
    "reverse_num = 0\n",
    "while original_num!= 0:\n",
    "    remainder = original_num % 10\n",
    "    reverse_num = reverse_num * 10 + remainder\n",
    "    original_num//= 10\n",
    "    # check numbers\n",
    "if original_num == reverse_num:\n",
    "    print(\"Given number palindrome\")\n",
    "else:\n",
    "    print(\"Given number is not palindrome\")"
   ]
  },
  {
   "cell_type": "markdown",
   "metadata": {},
   "source": [
    " Exercise 10: Create a new list from two list using the following condition\n",
    "\n",
    " Given two list of numbers, write a program to create a new list such that the new list should contain odd numbers from the first list and even numbers from the second list.\n",
    " Expected output\n",
    " result list: [25, 35, 40, 60, 90]"
   ]
  },
  {
   "cell_type": "code",
   "execution_count": null,
   "metadata": {},
   "outputs": [],
   "source": [
    "# list1 = [10, 20, 25, 30, 35]\n",
    "# list2 = [40, 45, 60, 75, 90]\n",
    "# result_list =[]\n",
    "# for i in list1:\n",
    "#     if i%2!=0:\n",
    "#         result_list.append(i)\n",
    "# for j in list2:\n",
    "#     if j%2==0:\n",
    "#         result_list.append(j)\n",
    "# print(result_list)\n",
    "\n",
    "\n",
    "def newcombinelist():\n",
    "    resultlist = []\n",
    "    list1 = [10, 20, 25, 30, 35]\n",
    "    list2 = [40, 45, 60, 75, 90]\n",
    "    for i in list1:\n",
    "        if i%2!=0:\n",
    "            resultlist.append(i)\n",
    "    for j in list2:\n",
    "        if j%2==0:\n",
    "            resultlist.append(j)\n",
    "    return resultlist\n",
    "print(\"The final list with odd numbers from the list1 and even numbers from list2 is: \")\n",
    "newcombinelist()"
   ]
  },
  {
   "cell_type": "markdown",
   "metadata": {},
   "source": [
    "Exercise 11: Write a Program to extract each digit from an integer in the reverse order.\n",
    "\n",
    "For example, If the given int is 7536, the output shall be “6 3 5 7“, with a space separating the digits.\n"
   ]
  },
  {
   "cell_type": "code",
   "execution_count": null,
   "metadata": {},
   "outputs": [],
   "source": [
    "# a = 7536\n",
    "# # reverse = 0\n",
    "# while a>0:\n",
    "#     remainder = a%10\n",
    "#     # reverse = reverse*10+remainder\n",
    "#     a//= 10\n",
    "#     print(remainder, end=' ')\n",
    "# reverse = 0\n",
    "def reversewithspace(a = 0):\n",
    "    \n",
    "    while a>0:\n",
    "        remainder = a%10\n",
    "        # reverse = reverse*10+remainder\n",
    "        a//= 10\n",
    "        print(remainder, end=' ')\n",
    "print(\"reverse of the number with space separating digits: \")\n",
    "reversewithspace(7890)"
   ]
  },
  {
   "cell_type": "markdown",
   "metadata": {},
   "source": [
    "Exercise 12: Calculate income tax for the given income by adhering to the rules below\n",
    "\n",
    " Taxable Income\t    Rate (in %)\n",
    " First $10,000\t        0\n",
    " Next $10,000\t        10\n",
    " The remaining\t        20\n",
    "\n",
    " For example, suppose the taxable income is 45000, and the income tax payable is\n",
    "\n",
    " 10000*0% + 10000*10%  + 25000*20% = $6000."
   ]
  },
  {
   "cell_type": "code",
   "execution_count": null,
   "metadata": {},
   "outputs": [],
   "source": [
    "income = float(input(\"Enter your salary: \"))\n",
    "tax = 0\n",
    "if income<=10000:\n",
    "    tax = 0\n",
    "elif income<=20000:\n",
    "    income2 = income-10000\n",
    "    tax = income2*.1\n",
    "else:\n",
    "    tax = 10000*.1\n",
    "    tax = tax+(income-20000)*.2\n",
    "print(\"Total tax on your income is:\", tax)"
   ]
  },
  {
   "cell_type": "markdown",
   "metadata": {},
   "source": [
    "Exercise 13: Print multiplication table from 1 to 10"
   ]
  },
  {
   "cell_type": "code",
   "execution_count": null,
   "metadata": {},
   "outputs": [
    {
     "name": "stdout",
     "output_type": "stream",
     "text": [
      "1 x 1 = 1   1 x 2 = 2   1 x 3 = 3   1 x 4 = 4   1 x 5 = 5   1 x 6 = 6   1 x 7 = 7   1 x 8 = 8   1 x 9 = 9   1 x 10 = 10   \n",
      "\n",
      "2 x 1 = 2   2 x 2 = 4   2 x 3 = 6   2 x 4 = 8   2 x 5 = 10   2 x 6 = 12   2 x 7 = 14   2 x 8 = 16   2 x 9 = 18   2 x 10 = 20   \n",
      "\n",
      "3 x 1 = 3   3 x 2 = 6   3 x 3 = 9   3 x 4 = 12   3 x 5 = 15   3 x 6 = 18   3 x 7 = 21   3 x 8 = 24   3 x 9 = 27   3 x 10 = 30   \n",
      "\n",
      "4 x 1 = 4   4 x 2 = 8   4 x 3 = 12   4 x 4 = 16   4 x 5 = 20   4 x 6 = 24   4 x 7 = 28   4 x 8 = 32   4 x 9 = 36   4 x 10 = 40   \n",
      "\n",
      "5 x 1 = 5   5 x 2 = 10   5 x 3 = 15   5 x 4 = 20   5 x 5 = 25   5 x 6 = 30   5 x 7 = 35   5 x 8 = 40   5 x 9 = 45   5 x 10 = 50   \n",
      "\n",
      "6 x 1 = 6   6 x 2 = 12   6 x 3 = 18   6 x 4 = 24   6 x 5 = 30   6 x 6 = 36   6 x 7 = 42   6 x 8 = 48   6 x 9 = 54   6 x 10 = 60   \n",
      "\n",
      "7 x 1 = 7   7 x 2 = 14   7 x 3 = 21   7 x 4 = 28   7 x 5 = 35   7 x 6 = 42   7 x 7 = 49   7 x 8 = 56   7 x 9 = 63   7 x 10 = 70   \n",
      "\n",
      "8 x 1 = 8   8 x 2 = 16   8 x 3 = 24   8 x 4 = 32   8 x 5 = 40   8 x 6 = 48   8 x 7 = 56   8 x 8 = 64   8 x 9 = 72   8 x 10 = 80   \n",
      "\n",
      "9 x 1 = 9   9 x 2 = 18   9 x 3 = 27   9 x 4 = 36   9 x 5 = 45   9 x 6 = 54   9 x 7 = 63   9 x 8 = 72   9 x 9 = 81   9 x 10 = 90   \n",
      "\n",
      "10 x 1 = 10   10 x 2 = 20   10 x 3 = 30   10 x 4 = 40   10 x 5 = 50   10 x 6 = 60   10 x 7 = 70   10 x 8 = 80   10 x 9 = 90   10 x 10 = 100   \n",
      "\n"
     ]
    }
   ],
   "source": [
    "# n = 1\n",
    "# m = int(input(\"Enter the number: \"))\n",
    "# for i in range(n,m+1):\n",
    "#     for j in range(n,m+1):\n",
    "#         print(i, 'x', j, '=', i*j,  '' , end=' ')\n",
    "#     print('\\n')\n",
    "\n",
    "def multitabletill10():\n",
    "    n = 1\n",
    "    m = int(input(\"Enter the number: \"))\n",
    "    for i in range(n,m+1):\n",
    "        for j in range(n,m+1):\n",
    "            print(i, 'x', j, '=', i*j, ' ' , end=' ')\n",
    "        print('\\n')\n",
    "multitabletill10()"
   ]
  },
  {
   "cell_type": "markdown",
   "metadata": {},
   "source": [
    "Exercise 14: Print a downward Half-Pyramid Pattern of Star (asterisk).\n"
   ]
  },
  {
   "cell_type": "code",
   "execution_count": null,
   "metadata": {},
   "outputs": [],
   "source": [
    "# * * * * *  \n",
    "# * * * *  \n",
    "# * * *  \n",
    "# * *  \n",
    "# *\n",
    "# n=6\n",
    "# for i in range(n,0,-1):  # Outer loop to iterate from n to 1 in reverse order\n",
    "#     for j in range(0,i-1): # Inner loop to iterate from 0 to i-1\n",
    "#         print('*', end=' ')\n",
    "#     print('\\n')\n",
    "\n",
    "def halfdiamondpattern():\n",
    "    n=int(input())\n",
    "    for i in range(n,0,-1):  # Outer loop to iterate from n to 1 in reverse order\n",
    "        for j in range(0,i-1): # Inner loop to iterate from 0 to i-1\n",
    "            print('*', end=' ')\n",
    "        print('\\n')\n",
    "halfdiamondpattern()"
   ]
  },
  {
   "cell_type": "code",
   "execution_count": 33,
   "metadata": {},
   "outputs": [
    {
     "name": "stdout",
     "output_type": "stream",
     "text": [
      "* \n",
      "\n",
      "* * \n",
      "\n",
      "* * * \n",
      "\n",
      "* * * * \n",
      "\n",
      "* * * * * \n",
      "\n"
     ]
    }
   ],
   "source": [
    "n=int(input())\n",
    "for i in range(n):  # Outer loop to iterate from n to 1 in reverse order\n",
    "    for j in range(i+1): # Inner loop to iterate from 0 to i-1\n",
    "            print('*', end=' ')\n",
    "    print('\\n')\n"
   ]
  },
  {
   "cell_type": "markdown",
   "metadata": {},
   "source": [
    "Exercise 15: Print a downward Square Pattern of Star (asterisk).\n"
   ]
  },
  {
   "cell_type": "code",
   "execution_count": null,
   "metadata": {},
   "outputs": [],
   "source": [
    "# * * * * * \n",
    "\n",
    "# * * * * * \n",
    "\n",
    "# * * * * * \n",
    "\n",
    "# * * * * * \n",
    "\n",
    "# * * * * * \n",
    "n = m = 5\n",
    "for i in range(n,m+1):\n",
    "    for j in range(n,m+n):\n",
    "        for k in range(n,m+n):\n",
    "            print('*', end=' ')\n",
    "        print('\\n')\n",
    "# def squarepattern():\n",
    "#     n = m = int(input())\n",
    "#     for i in range(n,m+1):\n",
    "#         for j in range(n,m+n):\n",
    "#             for k in range(n,m+n):\n",
    "#                 print('*', end=' ')\n",
    "#             print('\\n')\n",
    "# squarepattern()"
   ]
  },
  {
   "cell_type": "markdown",
   "metadata": {},
   "source": [
    "Exercise 16: Use the recursive function for printing the integer in reverse\n"
   ]
  },
  {
   "cell_type": "code",
   "execution_count": null,
   "metadata": {},
   "outputs": [],
   "source": [
    "def revrse_num(num,reverse=0):\n",
    "    if num!=0:\n",
    "        return revrse_num(num//10,reverse*10 + num%10)\n",
    "    else:\n",
    "        return reverse\n",
    "revrse_num(345)"
   ]
  },
  {
   "cell_type": "markdown",
   "metadata": {},
   "source": [
    "Exercise 17: Use the recursive function to print the factorial of a number\n"
   ]
  },
  {
   "cell_type": "code",
   "execution_count": null,
   "metadata": {},
   "outputs": [],
   "source": [
    "num = int(input(\"Enter the number: \"))\n",
    "def factorial(num):\n",
    "    if num==0:\n",
    "        return 1\n",
    "    else:\n",
    "        return num * factorial(num-1)\n",
    "print(\"Factorial of entered number is:\")\n",
    "factorial(num)"
   ]
  },
  {
   "cell_type": "markdown",
   "metadata": {},
   "source": [
    "Exercise 18: Write a program to iterate the first 10 numbers, and in each iteration, print the sum of the current and previous number."
   ]
  },
  {
   "cell_type": "code",
   "execution_count": null,
   "metadata": {},
   "outputs": [],
   "source": [
    "# previous_number = 0\n",
    "# print(\"The sum of current and previous number is : \")\n",
    "# for i in range(0,10):\n",
    "#     current_number = i\n",
    "#     addition = previous_number+current_number\n",
    "#     print(\"current_number:\", current_number, '', \"previous_number:\", previous_number, '', \"Addition:\", addition)\n",
    "#     previous_number = i\n",
    "print(\"The sum of current and previous number is : \")\n",
    "def currentplusprevious():\n",
    "    n = int(input(\"Enter the number till which you want the sum: \"))\n",
    "    previous_number = 0\n",
    "    for i in range(0,n):\n",
    "        current_number = i\n",
    "        addition = previous_number+current_number\n",
    "        print(\"current_number:\", current_number, '', \"previous_number:\", previous_number, '', \"Addition:\", addition)\n",
    "        previous_number = i\n",
    "currentplusprevious()"
   ]
  },
  {
   "cell_type": "markdown",
   "metadata": {},
   "source": [
    "Exercise 19: Write a function called exponent(base, exp) that returns an int value of base raises to the power of exp.\n",
    "Note here exp is a non-negative integer, and the base is an integer.\n",
    "\n",
    "Expected output 1:\n",
    "\n",
    "base = 2\n",
    "exponent = 5\n",
    "\n",
    "2 raises to the power of 5: 32 i.e. (2 *2 * 2 *2 *2 = 32)\n",
    "\n",
    "\n",
    "Expected output 2:\n",
    "\n",
    "base = 5\n",
    "exponent = 4\n",
    "\n",
    "5 raises to the power of 4 is: 625 \n",
    "i.e. (5 *5 * 5 *5 = 625)"
   ]
  },
  {
   "cell_type": "code",
   "execution_count": null,
   "metadata": {},
   "outputs": [],
   "source": [
    "# base = int(input())\n",
    "# exp = int(input())\n",
    "# def expo(base, exp):\n",
    "#     result = base**exp\n",
    "#     print(base, 'raises to the power', exp, 'is:', result)\n",
    "# expo(base, exp)\n",
    "base = int(input())\n",
    "exp = int(input())\n",
    "def expo(base, exp):\n",
    "    result = base**exp\n",
    "    print(base, 'raises to the power', exp, 'is:', result)\n",
    "expo(base, exp)"
   ]
  }
 ],
 "metadata": {
  "kernelspec": {
   "display_name": "Python 3",
   "language": "python",
   "name": "python3"
  },
  "language_info": {
   "codemirror_mode": {
    "name": "ipython",
    "version": 3
   },
   "file_extension": ".py",
   "mimetype": "text/x-python",
   "name": "python",
   "nbconvert_exporter": "python",
   "pygments_lexer": "ipython3",
   "version": "3.8.10"
  },
  "orig_nbformat": 4
 },
 "nbformat": 4,
 "nbformat_minor": 2
}
