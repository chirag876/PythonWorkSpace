{
 "cells": [
  {
   "cell_type": "markdown",
   "metadata": {},
   "source": [
    "# Loop Exercise"
   ]
  },
  {
   "cell_type": "markdown",
   "metadata": {},
   "source": [
    "Exercise 1: Print First 10 natural numbers using while loop"
   ]
  },
  {
   "cell_type": "code",
   "execution_count": null,
   "metadata": {},
   "outputs": [],
   "source": [
    "n = 1\n",
    "while n<=10:\n",
    "    \n",
    "    print(n)\n",
    "    n +=1\n"
   ]
  },
  {
   "cell_type": "markdown",
   "metadata": {},
   "source": [
    "Exercise 2: Write a program to print the following number pattern using a loop."
   ]
  },
  {
   "cell_type": "code",
   "execution_count": null,
   "metadata": {},
   "outputs": [],
   "source": [
    "# 1 \n",
    "# 1 2 \n",
    "# 1 2 3 \n",
    "# 1 2 3 4 \n",
    "# 1 2 3 4 5\n",
    "# n = 5\n",
    "# for i in range(1,n+1):\n",
    "#     for j in range(1,i+1):\n",
    "#         print(j, end=' ')\n",
    "#     print('\\n')\n",
    "\n",
    "def pattern(n):\n",
    "    for i in range(1, n+1):\n",
    "        for j in range(1, i+1):\n",
    "            print(j, end = ' ')\n",
    "        print('\\n')\n",
    "pattern(5)"
   ]
  },
  {
   "cell_type": "markdown",
   "metadata": {},
   "source": [
    "Exercise 3: Write a program to accept a number from a user and calculate the sum of all numbers from 1 to a given number"
   ]
  },
  {
   "cell_type": "code",
   "execution_count": null,
   "metadata": {},
   "outputs": [],
   "source": [
    "# number = int(input(\"Enter the number:\"))\n",
    "# resultaddition = 0\n",
    "# for i in range(1, number+1, 1):\n",
    "#     resultaddition = resultaddition+i\n",
    "# print(\"The sum of numbers from 1 to a given number is:\", resultaddition)\n",
    "\n",
    "def sumofnumberstillrange(number):\n",
    "    resultaddition = 0\n",
    "    for i in range(1,number+1):\n",
    "        resultaddition = resultaddition+i\n",
    "    return resultaddition\n",
    "print(\"The sum of numbers from 1 to a given number is:\"), \n",
    "sumofnumberstillrange(10)"
   ]
  },
  {
   "cell_type": "markdown",
   "metadata": {},
   "source": [
    "Exercise 4: Write a program to display only those numbers from a list that satisfy the following conditions\n",
    "\n",
    "The number must be divisible by five\n",
    "\n",
    "If the number is greater than 150, then skip it and move to the next number\n",
    "\n",
    "If the number is greater than 500, then stop the loop"
   ]
  },
  {
   "cell_type": "code",
   "execution_count": null,
   "metadata": {},
   "outputs": [],
   "source": [
    "# num = [12, 75, 150, 180, 145, 525, 50]\n",
    "# for i in num:\n",
    "#     if i>500:\n",
    "#         break\n",
    "#     elif i>150:\n",
    "#         continue\n",
    "#     elif i%5==0:\n",
    "#         print(i)\n",
    "        \n",
    "def condtionaldivisibility(*num):\n",
    "    for i in num:\n",
    "        if i>500:\n",
    "            break\n",
    "        elif i>150:\n",
    "            continue\n",
    "        elif i%5==0:\n",
    "            i\n",
    "condtionaldivisibility(12, 75, 150, 180, 145, 525, 50)"
   ]
  },
  {
   "cell_type": "markdown",
   "metadata": {},
   "source": [
    "Exercise 5: Write a program to count the total number of digits in a number using a while loop."
   ]
  },
  {
   "cell_type": "code",
   "execution_count": null,
   "metadata": {},
   "outputs": [],
   "source": [
    "# number = 56\n",
    "# count = 0\n",
    "# while number!=0:\n",
    "#     number = number//10\n",
    "#     count = count+1\n",
    "# print(\"number if digits in the number are:\", count)\n",
    "\n",
    "def countofdigits(number, count=0):\n",
    "    while number!=0:\n",
    "        number = number//10\n",
    "        count = count+1\n",
    "    return count\n",
    "countofdigits(346690)"
   ]
  },
  {
   "cell_type": "markdown",
   "metadata": {},
   "source": [
    "Exercise 6: Write a program to use for loop to print the following reverse number pattern"
   ]
  },
  {
   "cell_type": "code",
   "execution_count": null,
   "metadata": {},
   "outputs": [],
   "source": [
    "# 5 4 3 2 1 \n",
    "# 4 3 2 1 \n",
    "# 3 2 1 \n",
    "# 2 1 \n",
    "# 1\n",
    "# n=5\n",
    "# k=5\n",
    "# for i in range(0,n+1):\n",
    "#     for j in range(k-i,0,-1):\n",
    "#         print(j, end=' ')\n",
    "#     print('\\n')\n",
    "    \n",
    "def reversenumberpattern(n,k):\n",
    "    for i in range(0,n+1):\n",
    "        for j in range(k-i,0,-1):\n",
    "            print(j, end=' ')\n",
    "        print('\\n')\n",
    "reversenumberpattern(5,5)"
   ]
  },
  {
   "cell_type": "markdown",
   "metadata": {},
   "source": [
    "Exercise 7: Print list in reverse order using a loop"
   ]
  },
  {
   "cell_type": "code",
   "execution_count": null,
   "metadata": {},
   "outputs": [],
   "source": [
    "# list1 = [10, 20, 30, 40, 50]\n",
    "# listlength = len(list1)-1\n",
    "# for i in range(listlength,-1,-1):\n",
    "#     print(list1[i])\n",
    "\n",
    "def reverselist(*list1):\n",
    "    list2 = []\n",
    "    listlength = len(list1)-1\n",
    "    for i in range(listlength,-1,-1):\n",
    "        list2.append(list1[i])\n",
    "    return list2\n",
    "reverselist(10, 20, 30, 40, 50)"
   ]
  },
  {
   "cell_type": "markdown",
   "metadata": {},
   "source": [
    "Exercise 8: Display numbers from -10 to -1 using for loop"
   ]
  },
  {
   "cell_type": "code",
   "execution_count": null,
   "metadata": {},
   "outputs": [],
   "source": [
    "for num in range(-10, 0, 1):\n",
    "    print(num)"
   ]
  },
  {
   "cell_type": "markdown",
   "metadata": {},
   "source": [
    "Exercise 9: Write a program to display all prime numbers within a range"
   ]
  },
  {
   "cell_type": "code",
   "execution_count": null,
   "metadata": {},
   "outputs": [],
   "source": [
    "start = int(input(\"Enter the first number in the range: \"))\n",
    "end = int(input(\"Enter the second number in the range: \"))\n",
    "print(\"Prime numbers between the specified range are:\")\n",
    "for i in range(start, end+1):\n",
    "    if i>1:\n",
    "        for j in range(2,i):\n",
    "            if (i%j)==0:\n",
    "                break\n",
    "        else:\n",
    "            print(i)"
   ]
  },
  {
   "cell_type": "markdown",
   "metadata": {},
   "source": [
    "Exercise 10: Display Fibonacci series up to 10 terms"
   ]
  },
  {
   "cell_type": "code",
   "execution_count": null,
   "metadata": {},
   "outputs": [],
   "source": [
    "number1 = 0\n",
    "number2=1\n",
    "for i in range(10):\n",
    "    nextnumber = number1+number2\n",
    "    print(number1)\n",
    "    number1 = i\n",
    "    number1 = number2\n",
    "    number2 = nextnumber\n",
    "    "
   ]
  },
  {
   "cell_type": "code",
   "execution_count": null,
   "metadata": {},
   "outputs": [],
   "source": [
    "def fibo(n):\n",
    "    a,b = 0,1\n",
    "    if n<=0:\n",
    "        return a\n",
    "    elif n==1:\n",
    "        return b\n",
    "    else:\n",
    "        return fibo(n-1) + fibo(n-2)\n",
    "fibo(9)"
   ]
  },
  {
   "cell_type": "code",
   "execution_count": null,
   "metadata": {},
   "outputs": [],
   "source": [
    "def fibonacci():\n",
    "    a,b = 0,1\n",
    "    while True:\n",
    "        yield a\n",
    "        a,b = b,a+b\n",
    "\n",
    "obj = fibonacci()\n",
    "\n",
    "for i in range(1,11):\n",
    "    print(next(obj))"
   ]
  },
  {
   "cell_type": "markdown",
   "metadata": {},
   "source": [
    "Exercise 11: Use a loop to display elements from a given list present at odd index positions"
   ]
  },
  {
   "cell_type": "code",
   "execution_count": null,
   "metadata": {},
   "outputs": [],
   "source": [
    "my_list = [10, 20, 30, 40, 50, 60, 70, 80, 90, 100]\n",
    "listlength = len(my_list)\n",
    "print(\"The list of elements present at the odd index position:\")\n",
    "print(my_list[1::2])"
   ]
  },
  {
   "cell_type": "markdown",
   "metadata": {},
   "source": [
    "Exercise 12: Calculate the cube of all numbers from 1 to a given number"
   ]
  },
  {
   "cell_type": "code",
   "execution_count": null,
   "metadata": {},
   "outputs": [],
   "source": [
    "num1 = 1\n",
    "num2 = int(input(\"Enter the last number of the range:\"))\n",
    "for i in range(num1, num2):\n",
    "    cube = i*i*i\n",
    "    print(\"Current number is:\", i, '',  \"and its cube is:\", cube)"
   ]
  },
  {
   "cell_type": "markdown",
   "metadata": {},
   "source": [
    "Exercise 13: Print the following pattern"
   ]
  },
  {
   "cell_type": "code",
   "execution_count": 9,
   "metadata": {},
   "outputs": [
    {
     "name": "stdout",
     "output_type": "stream",
     "text": [
      "* \n",
      "\n",
      "* * \n",
      "\n",
      "* * * \n",
      "\n",
      "* * * * \n",
      "\n",
      "* * * * * \n",
      "\n",
      "* * * * \n",
      "\n",
      "* * * \n",
      "\n",
      "* * \n",
      "\n",
      "* \n",
      "\n"
     ]
    }
   ],
   "source": [
    "# * \n",
    "# * * \n",
    "# * * * \n",
    "# * * * * \n",
    "# * * * * * \n",
    "# * * * * \n",
    "# * * * \n",
    "# * * \n",
    "# *\n",
    "\n",
    "n = 5\n",
    "m = '*'\n",
    "for i in range(1,n+1):\n",
    "    for j in range(i):\n",
    "        print(m, end=' ')\n",
    "    print('\\n')\n",
    "for k in range(n,1,-1):\n",
    "    for l in range(0,k-1):\n",
    "        print(m, end=' ')\n",
    "    print('\\n')\n",
    "    \n",
    "    "
   ]
  },
  {
   "cell_type": "markdown",
   "metadata": {},
   "source": [
    "Exercise 14: Print the following pattern"
   ]
  },
  {
   "cell_type": "code",
   "execution_count": 11,
   "metadata": {},
   "outputs": [
    {
     "name": "stdout",
     "output_type": "stream",
     "text": [
      "       * \n",
      "      * * \n",
      "     * * * \n",
      "    * * * * \n",
      "   * * * * * \n",
      "  * * * * * * \n"
     ]
    }
   ],
   "source": [
    "#        * \n",
    "#       * * \n",
    "#      * * * \n",
    "#     * * * * \n",
    "#    * * * * * \n",
    "#   * * * * * * \n",
    "n = 6 \n",
    "for i in range(n):\n",
    "    print(\" \"*(n-i),end=\" \")\n",
    "    for j in range(i+1):\n",
    "        print(\"*\",end=\" \")\n",
    "    print( )"
   ]
  },
  {
   "cell_type": "markdown",
   "metadata": {},
   "source": [
    "Exercise 15: Print the Following pattern"
   ]
  },
  {
   "cell_type": "code",
   "execution_count": 7,
   "metadata": {},
   "outputs": [
    {
     "name": "stdout",
     "output_type": "stream",
     "text": [
      "* \n",
      "* * \n",
      "* * * \n",
      "* * * * \n",
      "* * * * * \n",
      "* * * * * * \n"
     ]
    }
   ],
   "source": [
    "# * \n",
    "# * * \n",
    "# * * * \n",
    "# * * * * \n",
    "# * * * * * \n",
    "# * * * * * *\n",
    "for i in range(6):\n",
    "        for j in range(i+1):\n",
    "                print(\"*\",end=\" \")\n",
    "        print( )\n",
    "\n",
    "# n = 5\n",
    "# m = '*'\n",
    "# for a in range(1,n+1):\n",
    "#     for b in range(a):\n",
    "#         print(m, end=' ')\n",
    "#     print('\\n')"
   ]
  }
 ],
 "metadata": {
  "kernelspec": {
   "display_name": "Python 3",
   "language": "python",
   "name": "python3"
  },
  "language_info": {
   "codemirror_mode": {
    "name": "ipython",
    "version": 3
   },
   "file_extension": ".py",
   "mimetype": "text/x-python",
   "name": "python",
   "nbconvert_exporter": "python",
   "pygments_lexer": "ipython3",
   "version": "3.8.10"
  },
  "orig_nbformat": 4
 },
 "nbformat": 4,
 "nbformat_minor": 2
}
