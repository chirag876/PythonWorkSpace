{
 "cells": [
  {
   "cell_type": "code",
   "execution_count": 1,
   "metadata": {},
   "outputs": [],
   "source": [
    "import pandas as pd"
   ]
  },
  {
   "cell_type": "code",
   "execution_count": 7,
   "metadata": {},
   "outputs": [],
   "source": [
    "name='insured[0].Address.CountryCode'"
   ]
  },
  {
   "cell_type": "code",
   "execution_count": 8,
   "metadata": {},
   "outputs": [
    {
     "data": {
      "text/plain": [
       "['insured[0]', 'Address', 'CountryCode']"
      ]
     },
     "execution_count": 8,
     "metadata": {},
     "output_type": "execute_result"
    }
   ],
   "source": [
    "name=name.split('.')\n",
    "name"
   ]
  },
  {
   "cell_type": "code",
   "execution_count": 9,
   "metadata": {},
   "outputs": [
    {
     "data": {
      "text/plain": [
       "'0'"
      ]
     },
     "execution_count": 9,
     "metadata": {},
     "output_type": "execute_result"
    }
   ],
   "source": [
    "idx=name[0].split('[')[-1].strip(']')\n",
    "idx"
   ]
  },
  {
   "cell_type": "code",
   "execution_count": 21,
   "metadata": {},
   "outputs": [
    {
     "name": "stdout",
     "output_type": "stream",
     "text": [
      "{'insured': {'0': {'Address': {'CountryCode': '12321'}}}} {'CountryCode': '12321'} {'Address': {'CountryCode': '12321'}} {'0': {'Address': {'CountryCode': '12321'}}} {'insured': {'0': {'Address': {'CountryCode': '12321'}}}}\n"
     ]
    }
   ],
   "source": [
    "empty={}\n",
    "x='12321'\n",
    "dict1={name[-1]:x}\n",
    "dict2={name[1]:dict1}\n",
    "dict3={idx:dict2}\n",
    "empty[name[0].split('[')[0]]=dict3\n",
    "#empty[name[0].split('[')[0]]=\n",
    "print(empty,dict1,dict2,dict3,empty)\n",
    "#empty[name[0].split('[')[0]][int(idx)] [name[1]][name[-1]]='12321'"
   ]
  },
  {
   "cell_type": "code",
   "execution_count": 22,
   "metadata": {},
   "outputs": [
    {
     "data": {
      "text/plain": [
       "{'insured': {'0': {'Address': {'CountryCode': '12321'}}, 'adress': 'wrong'}}"
      ]
     },
     "execution_count": 22,
     "metadata": {},
     "output_type": "execute_result"
    }
   ],
   "source": [
    "empty['insured']['adress']='wrong'\n",
    "empty"
   ]
  },
  {
   "cell_type": "code",
   "execution_count": 10,
   "metadata": {},
   "outputs": [
    {
     "ename": "OperationalError",
     "evalue": "('08001', '[08001] [Microsoft][ODBC Driver 17 for SQL Server]SQL Server Network Interfaces: Connection string is not valid [87].  (87) (SQLDriverConnect); [08001] [Microsoft][ODBC Driver 17 for SQL Server]Login timeout expired (0); [08001] [Microsoft][ODBC Driver 17 for SQL Server]A network-related or instance-specific error has occurred while establishing a connection to SQL Server. Server is not found or not accessible. Check if instance name is correct and if SQL Server is configured to allow remote connections. For more information see SQL Server Books Online. (87)')",
     "output_type": "error",
     "traceback": [
      "\u001b[1;31m---------------------------------------------------------------------------\u001b[0m",
      "\u001b[1;31mOperationalError\u001b[0m                          Traceback (most recent call last)",
      "Cell \u001b[1;32mIn[10], line 14\u001b[0m\n\u001b[0;32m     12\u001b[0m \u001b[38;5;66;03m# Connect to the database\u001b[39;00m\n\u001b[0;32m     13\u001b[0m connection_string \u001b[38;5;241m=\u001b[39m \u001b[38;5;124mf\u001b[39m\u001b[38;5;124m'\u001b[39m\u001b[38;5;124mDRIVER=\u001b[39m\u001b[38;5;132;01m{\u001b[39;00mdriver\u001b[38;5;132;01m}\u001b[39;00m\u001b[38;5;124m;SERVER=\u001b[39m\u001b[38;5;132;01m{\u001b[39;00mserver\u001b[38;5;132;01m}\u001b[39;00m\u001b[38;5;124m;DATABASE=\u001b[39m\u001b[38;5;132;01m{\u001b[39;00mdatabase\u001b[38;5;132;01m}\u001b[39;00m\u001b[38;5;124m;UID=\u001b[39m\u001b[38;5;132;01m{\u001b[39;00musername\u001b[38;5;132;01m}\u001b[39;00m\u001b[38;5;124m;PWD=\u001b[39m\u001b[38;5;132;01m{\u001b[39;00mpassword\u001b[38;5;132;01m}\u001b[39;00m\u001b[38;5;124m'\u001b[39m\n\u001b[1;32m---> 14\u001b[0m conn \u001b[38;5;241m=\u001b[39m \u001b[43mpyodbc\u001b[49m\u001b[38;5;241;43m.\u001b[39;49m\u001b[43mconnect\u001b[49m\u001b[43m(\u001b[49m\u001b[43mconnection_string\u001b[49m\u001b[43m)\u001b[49m\n\u001b[0;32m     15\u001b[0m cursor \u001b[38;5;241m=\u001b[39m conn\u001b[38;5;241m.\u001b[39mcursor()\n\u001b[0;32m     17\u001b[0m \u001b[38;5;66;03m# Function to fetch and process updated data\u001b[39;00m\n",
      "\u001b[1;31mOperationalError\u001b[0m: ('08001', '[08001] [Microsoft][ODBC Driver 17 for SQL Server]SQL Server Network Interfaces: Connection string is not valid [87].  (87) (SQLDriverConnect); [08001] [Microsoft][ODBC Driver 17 for SQL Server]Login timeout expired (0); [08001] [Microsoft][ODBC Driver 17 for SQL Server]A network-related or instance-specific error has occurred while establishing a connection to SQL Server. Server is not found or not accessible. Check if instance name is correct and if SQL Server is configured to allow remote connections. For more information see SQL Server Books Online. (87)')"
     ]
    }
   ],
   "source": [
    "import pyodbc\n",
    "import time\n",
    "\n",
    "# Define your database connection parameters\n",
    "server='10.130.205.31',\n",
    "database='IMS_Base',\n",
    "username='ims_kmg_dev',\n",
    "password='the5.Guide.jested.a.fact.fools.the1.vestibule',\n",
    "\n",
    "driver = 'ODBC Driver 17 for SQL Server'\n",
    "\n",
    "# Connect to the database\n",
    "connection_string = f'DRIVER={driver};SERVER={server};DATABASE={database};UID={username};PWD={password}'\n",
    "conn = pyodbc.connect(connection_string)\n",
    "cursor = conn.cursor()\n",
    "\n",
    "# Function to fetch and process updated data\n",
    "def process_updated_data():\n",
    "    # Fetch the total number of records in the table\n",
    "    total_records_query = \"SELECT COUNT(*) FROM ChangeLog\"\n",
    "    cursor.execute(total_records_query)\n",
    "    total_records = cursor.fetchone()[0]\n",
    "    print(f\"Total records in the table: {total_records}\")\n",
    "    # Execute your SQL query to fetch the updated data\n",
    "    query = \"\"\"\n",
    "            SELECT Column1, Column2, ... FROM ChangeLog\n",
    "            \"\"\"\n",
    "    cursor.execute(query)\n",
    "    \n",
    "    # Fetch the updated data\n",
    "    updated_data = cursor.fetchall()\n",
    "    \n",
    "    # Process the updated data\n",
    "    for row in updated_data:\n",
    "        # Perform your processing tasks here\n",
    "        print(row)  # Example: printing the updated data\n",
    "        \n",
    "    # Commit the transaction\n",
    "    conn.commit()\n",
    "\n",
    "# Main loop to continuously check for updates\n",
    "while True:\n",
    "    try:\n",
    "        # Check for updates every 'n' seconds\n",
    "        process_updated_data()\n",
    "        time.sleep(10)  # Adjust the interval as needed\n",
    "    except KeyboardInterrupt:\n",
    "        print(\"Process interrupted. Exiting...\")\n",
    "        break\n",
    "\n",
    "# Close the database connection\n",
    "conn.close()"
   ]
  },
  {
   "cell_type": "code",
   "execution_count": 1,
   "metadata": {},
   "outputs": [
    {
     "name": "stdout",
     "output_type": "stream",
     "text": [
      "Installed ODBC drivers:\n",
      "SQL Server\n",
      "Microsoft Access Driver (*.mdb, *.accdb)\n",
      "Microsoft Excel Driver (*.xls, *.xlsx, *.xlsm, *.xlsb)\n",
      "Microsoft Access Text Driver (*.txt, *.csv)\n",
      "Devart ODBC Driver for MongoDB\n",
      "SQL Server Native Client RDA 11.0\n",
      "ODBC Driver 17 for SQL Server\n"
     ]
    }
   ],
   "source": [
    "import pyodbc\n",
    "\n",
    "# Get a list of installed ODBC drivers\n",
    "drivers = pyodbc.drivers()\n",
    "\n",
    "if drivers:\n",
    "    print(\"Installed ODBC drivers:\")\n",
    "    for driver in drivers:\n",
    "        print(driver)\n",
    "else:\n",
    "    print(\"No ODBC drivers found.\")"
   ]
  }
 ],
 "metadata": {
  "kernelspec": {
   "display_name": "Python 3",
   "language": "python",
   "name": "python3"
  },
  "language_info": {
   "codemirror_mode": {
    "name": "ipython",
    "version": 3
   },
   "file_extension": ".py",
   "mimetype": "text/x-python",
   "name": "python",
   "nbconvert_exporter": "python",
   "pygments_lexer": "ipython3",
   "version": "3.10.10"
  }
 },
 "nbformat": 4,
 "nbformat_minor": 2
}
