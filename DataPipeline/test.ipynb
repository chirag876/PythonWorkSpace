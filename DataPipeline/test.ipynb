{
 "cells": [
  {
   "cell_type": "code",
   "execution_count": 1,
   "metadata": {},
   "outputs": [],
   "source": [
    "import pandas as pd"
   ]
  },
  {
   "cell_type": "code",
   "execution_count": 7,
   "metadata": {},
   "outputs": [],
   "source": [
    "name='insured[0].Address.CountryCode'"
   ]
  },
  {
   "cell_type": "code",
   "execution_count": 8,
   "metadata": {},
   "outputs": [
    {
     "data": {
      "text/plain": [
       "['insured[0]', 'Address', 'CountryCode']"
      ]
     },
     "execution_count": 8,
     "metadata": {},
     "output_type": "execute_result"
    }
   ],
   "source": [
    "name=name.split('.')\n",
    "name"
   ]
  },
  {
   "cell_type": "code",
   "execution_count": 9,
   "metadata": {},
   "outputs": [
    {
     "data": {
      "text/plain": [
       "'0'"
      ]
     },
     "execution_count": 9,
     "metadata": {},
     "output_type": "execute_result"
    }
   ],
   "source": [
    "idx=name[0].split('[')[-1].strip(']')\n",
    "idx"
   ]
  },
  {
   "cell_type": "code",
   "execution_count": 21,
   "metadata": {},
   "outputs": [
    {
     "name": "stdout",
     "output_type": "stream",
     "text": [
      "{'insured': {'0': {'Address': {'CountryCode': '12321'}}}} {'CountryCode': '12321'} {'Address': {'CountryCode': '12321'}} {'0': {'Address': {'CountryCode': '12321'}}} {'insured': {'0': {'Address': {'CountryCode': '12321'}}}}\n"
     ]
    }
   ],
   "source": [
    "empty={}\n",
    "x='12321'\n",
    "dict1={name[-1]:x}\n",
    "dict2={name[1]:dict1}\n",
    "dict3={idx:dict2}\n",
    "empty[name[0].split('[')[0]]=dict3\n",
    "#empty[name[0].split('[')[0]]=\n",
    "print(empty,dict1,dict2,dict3,empty)\n",
    "#empty[name[0].split('[')[0]][int(idx)] [name[1]][name[-1]]='12321'"
   ]
  },
  {
   "cell_type": "code",
   "execution_count": 22,
   "metadata": {},
   "outputs": [
    {
     "data": {
      "text/plain": [
       "{'insured': {'0': {'Address': {'CountryCode': '12321'}}, 'adress': 'wrong'}}"
      ]
     },
     "execution_count": 22,
     "metadata": {},
     "output_type": "execute_result"
    }
   ],
   "source": [
    "empty['insured']['adress']='wrong'\n",
    "empty"
   ]
  },
  {
   "cell_type": "code",
   "execution_count": 10,
   "metadata": {},
   "outputs": [
    {
     "ename": "OperationalError",
     "evalue": "('08001', '[08001] [Microsoft][ODBC Driver 17 for SQL Server]SQL Server Network Interfaces: Connection string is not valid [87].  (87) (SQLDriverConnect); [08001] [Microsoft][ODBC Driver 17 for SQL Server]Login timeout expired (0); [08001] [Microsoft][ODBC Driver 17 for SQL Server]A network-related or instance-specific error has occurred while establishing a connection to SQL Server. Server is not found or not accessible. Check if instance name is correct and if SQL Server is configured to allow remote connections. For more information see SQL Server Books Online. (87)')",
     "output_type": "error",
     "traceback": [
      "\u001b[1;31m---------------------------------------------------------------------------\u001b[0m",
      "\u001b[1;31mOperationalError\u001b[0m                          Traceback (most recent call last)",
      "Cell \u001b[1;32mIn[10], line 14\u001b[0m\n\u001b[0;32m     12\u001b[0m \u001b[38;5;66;03m# Connect to the database\u001b[39;00m\n\u001b[0;32m     13\u001b[0m connection_string \u001b[38;5;241m=\u001b[39m \u001b[38;5;124mf\u001b[39m\u001b[38;5;124m'\u001b[39m\u001b[38;5;124mDRIVER=\u001b[39m\u001b[38;5;132;01m{\u001b[39;00mdriver\u001b[38;5;132;01m}\u001b[39;00m\u001b[38;5;124m;SERVER=\u001b[39m\u001b[38;5;132;01m{\u001b[39;00mserver\u001b[38;5;132;01m}\u001b[39;00m\u001b[38;5;124m;DATABASE=\u001b[39m\u001b[38;5;132;01m{\u001b[39;00mdatabase\u001b[38;5;132;01m}\u001b[39;00m\u001b[38;5;124m;UID=\u001b[39m\u001b[38;5;132;01m{\u001b[39;00musername\u001b[38;5;132;01m}\u001b[39;00m\u001b[38;5;124m;PWD=\u001b[39m\u001b[38;5;132;01m{\u001b[39;00mpassword\u001b[38;5;132;01m}\u001b[39;00m\u001b[38;5;124m'\u001b[39m\n\u001b[1;32m---> 14\u001b[0m conn \u001b[38;5;241m=\u001b[39m \u001b[43mpyodbc\u001b[49m\u001b[38;5;241;43m.\u001b[39;49m\u001b[43mconnect\u001b[49m\u001b[43m(\u001b[49m\u001b[43mconnection_string\u001b[49m\u001b[43m)\u001b[49m\n\u001b[0;32m     15\u001b[0m cursor \u001b[38;5;241m=\u001b[39m conn\u001b[38;5;241m.\u001b[39mcursor()\n\u001b[0;32m     17\u001b[0m \u001b[38;5;66;03m# Function to fetch and process updated data\u001b[39;00m\n",
      "\u001b[1;31mOperationalError\u001b[0m: ('08001', '[08001] [Microsoft][ODBC Driver 17 for SQL Server]SQL Server Network Interfaces: Connection string is not valid [87].  (87) (SQLDriverConnect); [08001] [Microsoft][ODBC Driver 17 for SQL Server]Login timeout expired (0); [08001] [Microsoft][ODBC Driver 17 for SQL Server]A network-related or instance-specific error has occurred while establishing a connection to SQL Server. Server is not found or not accessible. Check if instance name is correct and if SQL Server is configured to allow remote connections. For more information see SQL Server Books Online. (87)')"
     ]
    }
   ],
   "source": [
    "import pyodbc\n",
    "import time\n",
    "\n",
    "# Define your database connection parameters\n",
    "server='10.130.205.31',\n",
    "database='IMS_Base',\n",
    "username='ims_kmg_dev',\n",
    "password='the5.Guide.jested.a.fact.fools.the1.vestibule',\n",
    "\n",
    "driver = 'ODBC Driver 17 for SQL Server'\n",
    "\n",
    "# Connect to the database\n",
    "connection_string = f'DRIVER={driver};SERVER={server};DATABASE={database};UID={username};PWD={password}'\n",
    "conn = pyodbc.connect(connection_string)\n",
    "cursor = conn.cursor()\n",
    "\n",
    "# Function to fetch and process updated data\n",
    "def process_updated_data():\n",
    "    # Fetch the total number of records in the table\n",
    "    total_records_query = \"SELECT COUNT(*) FROM ChangeLog\"\n",
    "    cursor.execute(total_records_query)\n",
    "    total_records = cursor.fetchone()[0]\n",
    "    print(f\"Total records in the table: {total_records}\")\n",
    "    # Execute your SQL query to fetch the updated data\n",
    "    query = \"\"\"\n",
    "            SELECT Column1, Column2, ... FROM ChangeLog\n",
    "            \"\"\"\n",
    "    cursor.execute(query)\n",
    "    \n",
    "    # Fetch the updated data\n",
    "    updated_data = cursor.fetchall()\n",
    "    \n",
    "    # Process the updated data\n",
    "    for row in updated_data:\n",
    "        # Perform your processing tasks here\n",
    "        print(row)  # Example: printing the updated data\n",
    "        \n",
    "    # Commit the transaction\n",
    "    conn.commit()\n",
    "\n",
    "# Main loop to continuously check for updates\n",
    "while True:\n",
    "    try:\n",
    "        # Check for updates every 'n' seconds\n",
    "        process_updated_data()\n",
    "        time.sleep(10)  # Adjust the interval as needed\n",
    "    except KeyboardInterrupt:\n",
    "        print(\"Process interrupted. Exiting...\")\n",
    "        break\n",
    "\n",
    "# Close the database connection\n",
    "conn.close()"
   ]
  },
  {
   "cell_type": "code",
   "execution_count": 1,
   "metadata": {},
   "outputs": [
    {
     "name": "stdout",
     "output_type": "stream",
     "text": [
      "Installed ODBC drivers:\n",
      "SQL Server\n",
      "Microsoft Access Driver (*.mdb, *.accdb)\n",
      "Microsoft Excel Driver (*.xls, *.xlsx, *.xlsm, *.xlsb)\n",
      "Microsoft Access Text Driver (*.txt, *.csv)\n",
      "Devart ODBC Driver for MongoDB\n",
      "SQL Server Native Client RDA 11.0\n",
      "ODBC Driver 17 for SQL Server\n"
     ]
    }
   ],
   "source": [
    "import pyodbc\n",
    "\n",
    "# Get a list of installed ODBC drivers\n",
    "drivers = pyodbc.drivers()\n",
    "\n",
    "if drivers:\n",
    "    print(\"Installed ODBC drivers:\")\n",
    "    for driver in drivers:\n",
    "        print(driver)\n",
    "else:\n",
    "    print(\"No ODBC drivers found.\")"
   ]
  },
  {
   "cell_type": "code",
   "execution_count": 5,
   "metadata": {},
   "outputs": [
    {
     "data": {
      "text/html": [
       "<div>\n",
       "<style scoped>\n",
       "    .dataframe tbody tr th:only-of-type {\n",
       "        vertical-align: middle;\n",
       "    }\n",
       "\n",
       "    .dataframe tbody tr th {\n",
       "        vertical-align: top;\n",
       "    }\n",
       "\n",
       "    .dataframe thead th {\n",
       "        text-align: right;\n",
       "    }\n",
       "</style>\n",
       "<table border=\"1\" class=\"dataframe\">\n",
       "  <thead>\n",
       "    <tr style=\"text-align: right;\">\n",
       "      <th></th>\n",
       "      <th>_id</th>\n",
       "      <th>AuditableRequestId</th>\n",
       "      <th>CreatedDateTime</th>\n",
       "      <th>EffectiveDate</th>\n",
       "      <th>ExpirationDate</th>\n",
       "      <th>Number</th>\n",
       "      <th>QuoteId</th>\n",
       "      <th>TotalPremium</th>\n",
       "      <th>address</th>\n",
       "      <th>location</th>\n",
       "      <th>...</th>\n",
       "      <th>Address.CountryCode</th>\n",
       "      <th>Address.Line1</th>\n",
       "      <th>Address.PostalCode</th>\n",
       "      <th>Address.StateOrProvinceName</th>\n",
       "      <th>Business.NAICS</th>\n",
       "      <th>Business.SIC</th>\n",
       "      <th>0.Address</th>\n",
       "      <th>0.CountryCode</th>\n",
       "      <th>0.GivenName</th>\n",
       "      <th>0.Surname</th>\n",
       "    </tr>\n",
       "  </thead>\n",
       "  <tbody>\n",
       "    <tr>\n",
       "      <th>0</th>\n",
       "      <td>65c9f9a4b9fd1fc9c8932d6a</td>\n",
       "      <td>True</td>\n",
       "      <td>2020-10-26 11:27:19.980</td>\n",
       "      <td>2020-10-26 11:27:00</td>\n",
       "      <td>2021-10-26 11:27:00</td>\n",
       "      <td>0</td>\n",
       "      <td>1</td>\n",
       "      <td>0</td>\n",
       "      <td>{'0': {'StateOrProvinceCode': 'AL'}}</td>\n",
       "      <td>{'StateOrProvinceCode': 'AL'}</td>\n",
       "      <td>...</td>\n",
       "      <td>USA</td>\n",
       "      <td>123 Main Street</td>\n",
       "      <td>10022</td>\n",
       "      <td>NY</td>\n",
       "      <td>0</td>\n",
       "      <td>0</td>\n",
       "      <td>{'City': 'New York', 'CountryCode': 'USA', 'Li...</td>\n",
       "      <td>USA</td>\n",
       "      <td>0</td>\n",
       "      <td>0</td>\n",
       "    </tr>\n",
       "    <tr>\n",
       "      <th>1</th>\n",
       "      <td>65c9f9a4b9fd1fc9c8932d6b</td>\n",
       "      <td>True</td>\n",
       "      <td>2023-09-26 15:25:08.783</td>\n",
       "      <td>2020-10-26 11:27:00</td>\n",
       "      <td>2021-10-26 11:27:00</td>\n",
       "      <td>0</td>\n",
       "      <td>3</td>\n",
       "      <td>0</td>\n",
       "      <td>{'0': {'StateOrProvinceCode': 'AL'}}</td>\n",
       "      <td>{'StateOrProvinceCode': 'AL'}</td>\n",
       "      <td>...</td>\n",
       "      <td>USA</td>\n",
       "      <td>123 Main Street</td>\n",
       "      <td>10022</td>\n",
       "      <td>NY</td>\n",
       "      <td>0</td>\n",
       "      <td>0</td>\n",
       "      <td>{'City': 'New York', 'CountryCode': 'USA', 'Li...</td>\n",
       "      <td>USA</td>\n",
       "      <td>0</td>\n",
       "      <td>0</td>\n",
       "    </tr>\n",
       "    <tr>\n",
       "      <th>2</th>\n",
       "      <td>65c9f9a4b9fd1fc9c8932d6c</td>\n",
       "      <td>True</td>\n",
       "      <td>2023-11-28 12:31:03.027</td>\n",
       "      <td>2023-11-28 12:31:00</td>\n",
       "      <td>2024-11-28 12:31:00</td>\n",
       "      <td>0</td>\n",
       "      <td>4</td>\n",
       "      <td>0</td>\n",
       "      <td>{'0': {'StateOrProvinceCode': 'AL'}}</td>\n",
       "      <td>{'StateOrProvinceCode': 'AL'}</td>\n",
       "      <td>...</td>\n",
       "      <td>USA</td>\n",
       "      <td>78, test street</td>\n",
       "      <td>00601</td>\n",
       "      <td>PR</td>\n",
       "      <td>0</td>\n",
       "      <td>0</td>\n",
       "      <td>{'City': 'Adjuntas', 'CountryCode': 'USA', 'Li...</td>\n",
       "      <td>USA</td>\n",
       "      <td>test</td>\n",
       "      <td>case</td>\n",
       "    </tr>\n",
       "    <tr>\n",
       "      <th>3</th>\n",
       "      <td>65c9f9a4b9fd1fc9c8932d6d</td>\n",
       "      <td>True</td>\n",
       "      <td>2023-11-28 13:40:44.963</td>\n",
       "      <td>2023-11-28 13:41:00</td>\n",
       "      <td>2024-11-28 13:41:00</td>\n",
       "      <td>0</td>\n",
       "      <td>5</td>\n",
       "      <td>0</td>\n",
       "      <td>{'0': {'StateOrProvinceCode': 'AL'}}</td>\n",
       "      <td>{'StateOrProvinceCode': 'AL'}</td>\n",
       "      <td>...</td>\n",
       "      <td>USA</td>\n",
       "      <td>78, test street</td>\n",
       "      <td>00601</td>\n",
       "      <td>PR</td>\n",
       "      <td>0</td>\n",
       "      <td>0</td>\n",
       "      <td>{'City': 'Adjuntas', 'CountryCode': 'USA', 'Li...</td>\n",
       "      <td>USA</td>\n",
       "      <td>test</td>\n",
       "      <td>case</td>\n",
       "    </tr>\n",
       "    <tr>\n",
       "      <th>4</th>\n",
       "      <td>65c9f9a4b9fd1fc9c8932d6e</td>\n",
       "      <td>True</td>\n",
       "      <td>2023-12-09 00:15:19.023</td>\n",
       "      <td>2023-12-09 00:15:00</td>\n",
       "      <td>2024-12-09 00:15:00</td>\n",
       "      <td>0</td>\n",
       "      <td>6</td>\n",
       "      <td>0</td>\n",
       "      <td>{'0': {'StateOrProvinceCode': 'AL'}}</td>\n",
       "      <td>{'StateOrProvinceCode': 'AL'}</td>\n",
       "      <td>...</td>\n",
       "      <td>USA</td>\n",
       "      <td>125 BAYLIS RD</td>\n",
       "      <td></td>\n",
       "      <td>Ne</td>\n",
       "      <td>0</td>\n",
       "      <td>0</td>\n",
       "      <td>{'City': 'MELVILLE', 'CountryCode': 'USA', 'Li...</td>\n",
       "      <td>USA</td>\n",
       "      <td>John Doe</td>\n",
       "      <td>0</td>\n",
       "    </tr>\n",
       "  </tbody>\n",
       "</table>\n",
       "<p>5 rows × 23 columns</p>\n",
       "</div>"
      ],
      "text/plain": [
       "                        _id AuditableRequestId         CreatedDateTime  \\\n",
       "0  65c9f9a4b9fd1fc9c8932d6a               True 2020-10-26 11:27:19.980   \n",
       "1  65c9f9a4b9fd1fc9c8932d6b               True 2023-09-26 15:25:08.783   \n",
       "2  65c9f9a4b9fd1fc9c8932d6c               True 2023-11-28 12:31:03.027   \n",
       "3  65c9f9a4b9fd1fc9c8932d6d               True 2023-11-28 13:40:44.963   \n",
       "4  65c9f9a4b9fd1fc9c8932d6e               True 2023-12-09 00:15:19.023   \n",
       "\n",
       "        EffectiveDate      ExpirationDate Number  QuoteId TotalPremium  \\\n",
       "0 2020-10-26 11:27:00 2021-10-26 11:27:00      0        1            0   \n",
       "1 2020-10-26 11:27:00 2021-10-26 11:27:00      0        3            0   \n",
       "2 2023-11-28 12:31:00 2024-11-28 12:31:00      0        4            0   \n",
       "3 2023-11-28 13:41:00 2024-11-28 13:41:00      0        5            0   \n",
       "4 2023-12-09 00:15:00 2024-12-09 00:15:00      0        6            0   \n",
       "\n",
       "                                address                       location  ...  \\\n",
       "0  {'0': {'StateOrProvinceCode': 'AL'}}  {'StateOrProvinceCode': 'AL'}  ...   \n",
       "1  {'0': {'StateOrProvinceCode': 'AL'}}  {'StateOrProvinceCode': 'AL'}  ...   \n",
       "2  {'0': {'StateOrProvinceCode': 'AL'}}  {'StateOrProvinceCode': 'AL'}  ...   \n",
       "3  {'0': {'StateOrProvinceCode': 'AL'}}  {'StateOrProvinceCode': 'AL'}  ...   \n",
       "4  {'0': {'StateOrProvinceCode': 'AL'}}  {'StateOrProvinceCode': 'AL'}  ...   \n",
       "\n",
       "  Address.CountryCode    Address.Line1 Address.PostalCode  \\\n",
       "0                 USA  123 Main Street              10022   \n",
       "1                 USA  123 Main Street              10022   \n",
       "2                 USA  78, test street              00601   \n",
       "3                 USA  78, test street              00601   \n",
       "4                 USA    125 BAYLIS RD                      \n",
       "\n",
       "  Address.StateOrProvinceName Business.NAICS Business.SIC  \\\n",
       "0                          NY              0            0   \n",
       "1                          NY              0            0   \n",
       "2                          PR              0            0   \n",
       "3                          PR              0            0   \n",
       "4                          Ne              0            0   \n",
       "\n",
       "                                           0.Address  0.CountryCode  \\\n",
       "0  {'City': 'New York', 'CountryCode': 'USA', 'Li...            USA   \n",
       "1  {'City': 'New York', 'CountryCode': 'USA', 'Li...            USA   \n",
       "2  {'City': 'Adjuntas', 'CountryCode': 'USA', 'Li...            USA   \n",
       "3  {'City': 'Adjuntas', 'CountryCode': 'USA', 'Li...            USA   \n",
       "4  {'City': 'MELVILLE', 'CountryCode': 'USA', 'Li...            USA   \n",
       "\n",
       "   0.GivenName 0.Surname  \n",
       "0            0         0  \n",
       "1            0         0  \n",
       "2         test      case  \n",
       "3         test      case  \n",
       "4     John Doe         0  \n",
       "\n",
       "[5 rows x 23 columns]"
      ]
     },
     "execution_count": 5,
     "metadata": {},
     "output_type": "execute_result"
    }
   ],
   "source": [
    "import pymongo\n",
    "import pandas as pd\n",
    "from pandas import json_normalize\n",
    "# Connect to MongoDB\n",
    "client = pymongo.MongoClient(\"mongodb://localhost:27017/\")  # Update the connection string with your MongoDB URI\n",
    "db = client[\"stage_0\"]  # Replace \"your_database_name\" with your actual database name\n",
    "collection = db[\"Quote\"]  # Replace \"your_collection_name\" with your actual collection name\n",
    "\n",
    "# Query data from MongoDB collection\n",
    "cursor = collection.find({})\n",
    "\n",
    "# Convert cursor to list of dictionaries\n",
    "data = list(cursor)\n",
    "\n",
    "# Create DataFrame\n",
    "df = pd.DataFrame(data)\n",
    "\n",
    "nested_columns = ['insured']\n",
    "for column in nested_columns:\n",
    "    df = pd.concat([df.drop(column, axis=1), json_normalize(df[column], max_level=1, record_prefix=column + '.')], axis=1)\n",
    "\n",
    "# Close the MongoDB connection\n",
    "client.close()\n",
    "\n",
    "# Example preprocessing operations\n",
    "# Handle missing values\n",
    "df.fillna(0, inplace=True)\n",
    "\n",
    "# Apply transformations\n",
    "#df['new_column'] = df['existing_column'] * 2\n",
    "\n",
    "# Print the DataFrame\n",
    "df.head()"
   ]
  }
 ],
 "metadata": {
  "kernelspec": {
   "display_name": "Python 3",
   "language": "python",
   "name": "python3"
  },
  "language_info": {
   "codemirror_mode": {
    "name": "ipython",
    "version": 3
   },
   "file_extension": ".py",
   "mimetype": "text/x-python",
   "name": "python",
   "nbconvert_exporter": "python",
   "pygments_lexer": "ipython3",
   "version": "3.10.10"
  }
 },
 "nbformat": 4,
 "nbformat_minor": 2
}
