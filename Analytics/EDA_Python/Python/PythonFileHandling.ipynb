{
 "cells": [
  {
   "cell_type": "markdown",
   "metadata": {},
   "source": [
    "**Creating empty text file in python:** We don’t have to import any module to create a new file. We can create a file using the built-in function `open()`\n",
    "\n",
    "**open('file_path', 'access_mode')**\n",
    "\n",
    "Access modes defines the purpose of opening and creating a file"
   ]
  },
  {
   "cell_type": "markdown",
   "metadata": {},
   "source": [
    "**List of access modes**:\n",
    "\n",
    "| File Mode | Meaning                                                                                                          |\n",
    "|-----------|------------------------------------------------------------------------------------------------------------------|\n",
    "| w         | Create a new file for writing. If a file already exists, it truncates the file first. Used to create and write content into a new file.                     |\n",
    "| x         | Open a file only for exclusive creation. If the file already exists, this operation fails.                      |\n",
    "| a         | Open a file in append mode and add new content at the end of the file.                                           |\n",
    "| b         | Create a binary file.                                                                                            |\n",
    "| t         | Create and open a file in text mode.                                                                             |\n",
    "\n"
   ]
  },
  {
   "cell_type": "markdown",
   "metadata": {},
   "source": [
    "**NOTE:** If you have not specified any specific path(directory location), the file is created in the working directory. It is known as creating a file using the relative path. A relative path contains the current directory and then the file name."
   ]
  },
  {
   "cell_type": "code",
   "execution_count": null,
   "metadata": {},
   "outputs": [],
   "source": [
    "# creating an empty text file in current directory\n",
    "fp = open('file3.txt', 'w')\n",
    "fp.write(\"Chirag\")\n",
    "fp.close()"
   ]
  },
  {
   "cell_type": "code",
   "execution_count": null,
   "metadata": {},
   "outputs": [],
   "source": [
    "import os\n",
    "\n",
    "# list files from a working directory\n",
    "print(os.listdir())\n",
    "\n",
    "# very if file exist\n",
    "print(os.path.isfile(\"file3.txt\"))"
   ]
  },
  {
   "cell_type": "markdown",
   "metadata": {},
   "source": [
    "**Create File In A Specific Directory:** To create a file inside a specific directory, we need to open a file using the absolute path. An **absolute path** contains the entire path to the file or directory that we need to use.\n",
    "\n"
   ]
  },
  {
   "cell_type": "code",
   "execution_count": null,
   "metadata": {},
   "outputs": [],
   "source": [
    "# creating text file for \n",
    "with open(r'C:/Workspaces/CodeSpaces/Analytics/EDA_Python/Python/file4.txt', 'w') as fp:\n",
    "    fp.write(\"This is the fourth text file\")\n",
    "    pass"
   ]
  },
  {
   "cell_type": "markdown",
   "metadata": {},
   "source": [
    "1. Using the with statement a file is closed automatically it ensures that all the resources that are tied up with the file are released.\n",
    "   \n",
    "2. you can join directory path and file name to create file at specified location.\n",
    "   \n",
    "3. If you have a directory path and file name in two variables, use the os.path.join() function to construct a full path. This function accepts the directory path and file name as arguments and constructs an absolute path to create a file.\n"
   ]
  },
  {
   "cell_type": "code",
   "execution_count": null,
   "metadata": {},
   "outputs": [],
   "source": [
    "import os\n",
    "\n",
    "# Specify the directory path\n",
    "path = 'C:/Workspaces/CodeSpaces/Analytics/EDA_Python/Python/'\n",
    "filename = 'file5.txt'\n",
    "\n",
    "# Creating a file at specified folder\n",
    "# join directory and file path\n",
    "with open(os.path.join(path, filename), 'w') as fp:\n",
    "    fp.write(\"This is the new file\")"
   ]
  },
  {
   "cell_type": "markdown",
   "metadata": {},
   "source": [
    "**Create a file if not exists:** Sometimes it is essential not to create a new file if a file with the same name already exists in a given path. By default, when you open a file in write mode, it overwrites it if it exists. Else, create the new one.\n",
    "\n",
    "**We can create a file only if it is not present using the following two ways:**\n",
    "\n",
    "1. Use **os.path.exists(\"file_path\")** function to check if a file exists.\n",
    "2. Use the access mode x in the open() function and  exception handling."
   ]
  },
  {
   "cell_type": "markdown",
   "metadata": {},
   "source": [
    "**Example 1: create file if not exists.**"
   ]
  },
  {
   "cell_type": "code",
   "execution_count": null,
   "metadata": {},
   "outputs": [],
   "source": [
    "import os\n",
    "\n",
    "filepath = 'C:/Workspaces/CodeSpaces/Analytics/EDA_Python/Python/file7.txt'\n",
    "if os.path.exists(filepath):\n",
    "    print(\"file already exists\")\n",
    "else:\n",
    "    with open(filepath, 'w') as fp:\n",
    "        fp.write(\"This is file 6\")\n",
    "        print(\"This is the new file\")"
   ]
  },
  {
   "cell_type": "markdown",
   "metadata": {},
   "source": [
    "**Example 2: Use file access mode x:** the access mode x open a file for exclusive creation. if file already exists, this operation fails with `FileExistsError`. use try-excpet block to handle this error."
   ]
  },
  {
   "cell_type": "code",
   "execution_count": 14,
   "metadata": {},
   "outputs": [],
   "source": [
    "try:\n",
    "    filepath = 'C:/Workspaces/CodeSpaces/Analytics/EDA_Python/Python/file8.txt'\n",
    "    with open(filepath, 'x') as fp:\n",
    "        pass\n",
    "except:\n",
    "    print(\"File already exists\")"
   ]
  },
  {
   "cell_type": "markdown",
   "metadata": {},
   "source": [
    "**Create file with a datetime:** creating a text file with current date as its name using datetime module to get the current date and time and assign it to the file name."
   ]
  },
  {
   "cell_type": "markdown",
   "metadata": {},
   "source": []
  }
 ],
 "metadata": {
  "kernelspec": {
   "display_name": "Python 3",
   "language": "python",
   "name": "python3"
  },
  "language_info": {
   "codemirror_mode": {
    "name": "ipython",
    "version": 3
   },
   "file_extension": ".py",
   "mimetype": "text/x-python",
   "name": "python",
   "nbconvert_exporter": "python",
   "pygments_lexer": "ipython3",
   "version": "3.8.10"
  },
  "orig_nbformat": 4
 },
 "nbformat": 4,
 "nbformat_minor": 2
}
