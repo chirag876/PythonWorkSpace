{
 "cells": [
  {
   "cell_type": "markdown",
   "metadata": {},
   "source": [
    "**Creating a sample class with instance variable and methods**"
   ]
  },
  {
   "cell_type": "markdown",
   "metadata": {},
   "source": [
    "**Constructors in python:**\n",
    "\n",
    "**Definition:** The constructor in Python is a special method named `__init__.` It's automatically called when you create an object (instance) of a class and is used to initialize the attributes of the object.\n",
    "\n",
    "**Initialization:** The purpose of the constructor is to initialize the object's attributes with values provided when the object is created. It's where you set the initial state of the object.\n",
    "\n",
    "**Parameters:** The constructor takes self as its first parameter (which refers to the instance being created) and additional parameters to initialize the object's attributes.\n",
    "\n",
    "**Parameterized constructor:** constructor with parameters and the first parameter is by default self which is an reference to the object.\n",
    "\n",
    "**Encapsulation:** Binding data memeber and methods into single unit for example creating a class."
   ]
  },
  {
   "cell_type": "markdown",
   "metadata": {},
   "source": [
    "Note :\n",
    "\n",
    "For every object, the constructor will be executed only once. For example, if we create four objects, the constructor is called four times.\n",
    "\n",
    "In Python, every class has a constructor, but it’s not required to define it explicitly. Defining constructors in class is optional.\n",
    "\n",
    "Python will provide a default constructor if no constructor is defined."
   ]
  },
  {
   "cell_type": "markdown",
   "metadata": {},
   "source": [
    "Python instance variables explained with examples:\n",
    "\n",
    "-> **instance variables** in a class are called fields or attributes of an object. the value of such variables changes from object to object. for every object a separate copy of the instance variable will be created, these variables are not shared by objects. for each object of a class the instance variable value is different. used within the instance method which are used to perform set of actions on the data/value provided by the instance variable. we can access instance method using the (.) operator.  we use self keyword to work with instance variable and method, **self** refers to current object. we use **constructor** to define and initialize the variables.\n",
    "\n",
    "-> **local variables** are variables in a method or block of code\n",
    "\n",
    "-> **parameters** are variables in method declarations\n",
    "\n",
    "-> **class variables** is shared between all objects of a class.\n",
    "\n",
    "-> when we create classed in python, instance methods are regularly used. objects are created to executed the block of code or action defined in the instance method."
   ]
  },
  {
   "cell_type": "markdown",
   "metadata": {},
   "source": [
    "**Instance Variables Naming Conventions**:\n",
    "\n",
    "1. should be in lower case.\n",
    "2. separated by underscore\n",
    "3. non public instance variables should begin with a single underscore\n",
    "4. if an instance name needs to be mangled, two underscores may begin its name."
   ]
  },
  {
   "cell_type": "markdown",
   "metadata": {},
   "source": [
    "**Dynamically add instance variable to a object**: we can add instance variables from the outside of class to a particular object. \n",
    "\n",
    "**syntax:**\n",
    "\n",
    "`object_reference.variable_name=value`\n",
    "\n",
    "\n",
    "**NOTE**\n",
    "\n",
    "Adding an instance variable to one object will not be reflected the remaining objects because every object has a copy of the instance variable.\n"
   ]
  },
  {
   "cell_type": "code",
   "execution_count": null,
   "metadata": {},
   "outputs": [],
   "source": [
    "class addintancevaribale:\n",
    "    \n",
    "    def __init__(self, var1):\n",
    "        self.var1 = var1\n",
    "        \n",
    "obj = addintancevaribale(\"Chirag\")\n",
    "print(\"before dynamically adding the instance variable to a object\")\n",
    "print(\"var1:\", obj.var1, '\\n')\n",
    "\n",
    "\n",
    "obj.var2 = \"gupta\"\n",
    "print(\"after dynamically adding the instance variable to a object\")\n",
    "print(\"var1:\", obj.var1,\"var2:\", obj.var2)"
   ]
  },
  {
   "cell_type": "markdown",
   "metadata": {},
   "source": [
    "**NOTE**\n",
    "\n",
    "1. when we create an object, we passed the values to the instance variables using a constructor\n",
    "2. variables declared outside `__init__()` belong to the class. they are shared by all instances.\n",
    "\n"
   ]
  },
  {
   "cell_type": "code",
   "execution_count": null,
   "metadata": {},
   "outputs": [],
   "source": [
    "# Defining python class, this is also an example of encapsulation\n",
    "class Person:\n",
    "    proff = 'trainee' # class variable\n",
    "    # parameterized constructor \n",
    "    def __init__(self, name, gender, age):\n",
    "        \n",
    "        # data member (instance variables)\n",
    "        self.name = name\n",
    "        self.gender = gender\n",
    "        self.age = age\n",
    "    # behavior (instance methods)\n",
    "    def show(self):\n",
    "        print('Name:', self.name, 'Gender:', self.gender, 'Age:', self.age,'\\n')\n",
    "        \n",
    "    # instance method\n",
    "    def personage(self):\n",
    "        print('age of', self.name, 'is', self.age)\n",
    "\n",
    "# Creating and intializing objects of above class\n",
    "# syntax:\n",
    "\n",
    "# objectname = classname(args)\n",
    "\n",
    "# creating the object of the class\n",
    "p1 = Person('Mahesh', 'M', 23) # arguments are passed to __init__() method to initialize the instance variable\n",
    "\n",
    "# accessng the instance variable\n",
    "print(p1.name)\n",
    "print(p1.gender)\n",
    "print(p1.age)\n",
    "print(Person.proff)\n",
    "print(p1.proff)\n",
    "print(p1.show())\n",
    "print(p1.personage())\n"
   ]
  },
  {
   "cell_type": "markdown",
   "metadata": {},
   "source": [
    "self is a special word used inside a class to refer to the instance of that class. It helps the instance to access and manage its own data and functions. It's like a self-reference within the class, allowing objects to interact with themselves."
   ]
  },
  {
   "cell_type": "markdown",
   "metadata": {},
   "source": [
    "`__init__()` is a special method in a class that gets called automatically when an object is created. It's like a constructor, setting up the initial state or attributes of the object. So, think of it as the \"welcome\" function for your new object. \n",
    "\n",
    "We can modify the value of the instance variable and assign a new value to it using the object reference.\n",
    "\n",
    "**NOTE** : When you change the instance variable’s values of one object, the changes will not be reflected in the remaining objects because every object maintains a separate copy of the instance variable.\n"
   ]
  },
  {
   "cell_type": "code",
   "execution_count": null,
   "metadata": {},
   "outputs": [],
   "source": [
    "class testing:\n",
    "    \n",
    "    def __init__(self, test1):\n",
    "        self.test1 = test1\n",
    "        \n",
    "tests = testing(\"Function testing\")\n",
    "\n",
    "print(\"Before modifying the instance variable:\")\n",
    "print(\"Test1:\", tests.test1, '\\n')\n",
    "\n",
    "print(\"after modifying the instance variable:\")\n",
    "tests.test1 = \"System testing\"\n",
    "print(\"Test1:\", tests.test1, '\\n')"
   ]
  },
  {
   "cell_type": "markdown",
   "metadata": {},
   "source": [
    "**Ways to Access Instance Variable** : \n",
    "1. withing the class in instance method by using the object reference (self)\n",
    "2. using getattr() method\n",
    "\n"
   ]
  },
  {
   "cell_type": "markdown",
   "metadata": {},
   "source": [
    "a class method is a function that belongs to the class rather than an instance of the class. It's marked with @classmethod in its definition and takes the class itself as its first parameter, usually named cls. Class methods are used for tasks related to the class, not individual instances."
   ]
  },
  {
   "cell_type": "markdown",
   "metadata": {},
   "source": [
    "**Class Methods:** Bound to the class, it can only access class variables."
   ]
  },
  {
   "cell_type": "code",
   "execution_count": null,
   "metadata": {},
   "outputs": [],
   "source": [
    "# Access instance variable in the instance method\n",
    "\n",
    "class student:\n",
    "    # class variable\n",
    "    studentname = 'Chirag'\n",
    "    \n",
    "    # Constructor\n",
    "    def __init__(self, Branch, Gender, Age):\n",
    "        # Instance variable\n",
    "        self.Branch = Branch\n",
    "        self.Gender = Gender\n",
    "        self.Age = Age\n",
    "        \n",
    "    # instance variable\n",
    "    def show(self):\n",
    "        # accessing the instance variable\n",
    "        print(\"student:\", self.Branch, self.Gender, self.Age, student.studentname)\n",
    "    \n",
    "    # instance variable \n",
    "    def changeage(self, newage):\n",
    "        # modifying the instance variable\n",
    "        self.Age = newage\n",
    "        \n",
    "    # class method\n",
    "    @classmethod\n",
    "    def modifystudentname(cls, newstudentname):\n",
    "        # modifying class variable (one of the use case of class method)\n",
    "        cls.studentname = newstudentname\n",
    "s1 = student('Computer Science', 'Male', 23)\n",
    "# print(\"Branch: \", s1.Branch)\n",
    "# print(\"Gender: \",s1.Gender)\n",
    "# print(\"Age: \", s1.Age)\n",
    "s1.show()\n",
    "s1.changeage(24)\n",
    "student.modifystudentname('Namit')\n",
    "s1.show()\n",
    "\n",
    "# Modify Object Properties\n",
    "# Obj.PROPERTY = value\n",
    "s1.Branch = 'Information Technology'\n",
    "s1.show()\n",
    "\n",
    "# Delete object properties\n",
    "del s1.Branch"
   ]
  },
  {
   "cell_type": "markdown",
   "metadata": {},
   "source": [
    "Access instance variable using getattr()"
   ]
  },
  {
   "cell_type": "code",
   "execution_count": null,
   "metadata": {},
   "outputs": [],
   "source": [
    "class language:\n",
    "    \n",
    "    def __init__(self, languagename):\n",
    "        self.languagename = languagename\n",
    "        \n",
    "lang = language(\"Python\")\n",
    "\n",
    "# using getattr instead of lang.languagename\n",
    "print(\"Language name:\", getattr(lang, 'languagename'))"
   ]
  },
  {
   "cell_type": "markdown",
   "metadata": {},
   "source": [
    "**Dynamically Delete Instance Variable:** we use the del statement and delattr() function to delete the attribute of an object. Both of them do the same thing.\n",
    "\n",
    "1. **del statement:** The del keyword is used to delete objects. In Python, everything is an object, so the del keyword can also be used to delete variables, lists, or parts of a list, etc.\n",
    "2. **delattr() function:** Used to delete an instance variable dynamically.\n",
    "\n",
    "**NOTE**\n",
    "\n",
    "When we try to access the deleted attribute, it raises an attribute error."
   ]
  },
  {
   "cell_type": "code",
   "execution_count": null,
   "metadata": {},
   "outputs": [],
   "source": [
    "# Using del statement\n",
    "class home:\n",
    "    def __init__(self, color):\n",
    "        self.color = color\n",
    "        \n",
    "h = home(\"green\")\n",
    "print(\"color:\", h.color)\n",
    "\n",
    "del h.color\n",
    "\n",
    "print(\"color:\", h.color) # this will throw error \n"
   ]
  },
  {
   "cell_type": "markdown",
   "metadata": {},
   "source": [
    "**delattr() function:**\n",
    "The delattr() function is used to delete the named attribute from the object with the prior permission of the object. Use the following syntax.\n",
    "\n",
    "**syntax**\n",
    "\n",
    "delattr(object, name)\n",
    "\n",
    "**object:** the object whose attribute is to be deleted\n",
    "\n",
    "**name:** the name of the instance variable to be deleted from the object\n"
   ]
  },
  {
   "cell_type": "code",
   "execution_count": null,
   "metadata": {},
   "outputs": [],
   "source": [
    "class fruit:\n",
    "    def __init__(self, taste):\n",
    "        self.taste = taste\n",
    "\n",
    "f = fruit(\"sweet\")\n",
    "\n",
    "print(\"taste:\", f.taste)\n",
    "\n",
    "delattr(f, 'taste')\n",
    "print(f.taste) # this will throw the error"
   ]
  },
  {
   "cell_type": "markdown",
   "metadata": {},
   "source": [
    "**Access Instance Variable From Another Class**\n",
    " we can access instance variable of one class from another class using object reference. useful in inheritance when we want to access the parent class instance variable from child class."
   ]
  },
  {
   "cell_type": "code",
   "execution_count": null,
   "metadata": {},
   "outputs": [],
   "source": [
    "class building:\n",
    "    def __init__(self):\n",
    "        self.rooms = 4\n",
    "        \n",
    "class shop(building):\n",
    "    \n",
    "    def __init__(self, parking):\n",
    "        \n",
    "        super().__init__()\n",
    "        self.parking = parking\n",
    "        \n",
    "    def display(self):\n",
    "        print(\"Rooms:\", self.rooms)\n",
    "        print(\"Parking:\", self.parking)\n",
    "        \n",
    "sweetshop = shop(\"Yes\")\n",
    "sweetshop.display()"
   ]
  },
  {
   "cell_type": "markdown",
   "metadata": {},
   "source": [
    "**List all Instance Variables of a Object:** We can get the list of all the instance variables the object has. Use the `__dict__` function of an object to get all instance variables along with their value.\n",
    "\n",
    "The `__dict__` function returns a dictionary that contains variable name as a key and variable value as a value."
   ]
  },
  {
   "cell_type": "code",
   "execution_count": null,
   "metadata": {},
   "outputs": [],
   "source": [
    "class testing:\n",
    "    \n",
    "    def __init__(self, test1):\n",
    "        self.test1 = test1\n",
    "        \n",
    "tests = testing(\"Function testing\")\n",
    "\n",
    "print(\"Instance variable object has\")\n",
    "print(tests.__dict__)"
   ]
  },
  {
   "cell_type": "markdown",
   "metadata": {},
   "source": [
    "**Python instance methods:** methods containing instance variables which must have **self** parameter to refer to current object. performs set of actions on the data/value provided by the instance variables, these  are bound to class objects, these variables can modify or access state by changing the value of a instance variables. any method we create in a class will automatically be created as an instance method unless we explicitly tell python that it is a class or static method.\n",
    "\n",
    "**Class methods:** use to access or modify the class state, when we use class variables during method implementation these are called class method. these have **cls** parameter to refer the class."
   ]
  },
  {
   "cell_type": "markdown",
   "metadata": {},
   "source": [
    "**NOTE:**\n",
    "1. inside any instance method, we can use self to access any data or method that reside in our class. we are unable to access it without a self parameter.\n",
    "2. any instance method can freely access attributes and even modify the value of attributes of an obejct by using the self parameter.\n",
    "3. by using `self.__class__` attribute we can access the class attributes and change the class state. therefore instance method gives us the control of changing the object as well as the class state."
   ]
  },
  {
   "cell_type": "markdown",
   "metadata": {},
   "source": [
    "**Dynamically add instance method to a object:** python is a dynamic language which allows us to add or delete instance methods at runtime. this is helpful in following situation:\n",
    "1. when class is in a different file and you dont have to access to modify the class structure.\n",
    "2. when we want to extend the class functionality without changing its basic structure because many systems may be using the same structure.\n",
    "3. We should add a method to the object, so other instances dont have access to that method. we use the types modules MethodType() to add a method to an object."
   ]
  },
  {
   "cell_type": "code",
   "execution_count": null,
   "metadata": {},
   "outputs": [],
   "source": [
    "import types\n",
    "\n",
    "class school:\n",
    "    def __init__(self, schoolname, schoolcity):\n",
    "        self.schoolname = schoolname\n",
    "        self.schoolcity = schoolcity\n",
    "        \n",
    "    def show(self):\n",
    "        print(\"School Name:\", self.schoolname, \"School city:\", self.schoolcity)\n",
    "        \n",
    "# add a new method        \n",
    "def welcome(self):\n",
    "    print(\"Hello everyone\", self.schoolname, \"school is located in\", self.schoolcity)\n",
    "\n",
    "# create object\n",
    "s1 = school(\"Neerja Modi\", \"Jaipur\")\n",
    "\n",
    "# add instance method to object\n",
    "s1.welcome = types.MethodType(welcome, s1)\n",
    "s1.show()\n",
    "\n",
    "# call newly added method\n",
    "s1.welcome()"
   ]
  },
  {
   "cell_type": "markdown",
   "metadata": {},
   "source": [
    "**Python class variables:** \n",
    "1. class variables are shared accross all instances objects of a class. they belong to class itself, not to any specific instance. these are declared inside of a class but outside any instance method or `__init__()` method. the value of such variables do not vary from object to object such variables are called static or class variables.\n",
    "2. All instances of a class share class variables.\n",
    "3. declared when class is constructed because of this only one copy of static variables will be created and shared between all class objects.\n",
    "4. we can use class name or the instance to access a class variable.\n",
    "5. class variable can store any type of data."
   ]
  },
  {
   "cell_type": "code",
   "execution_count": null,
   "metadata": {},
   "outputs": [],
   "source": [
    "class organization:\n",
    "    \n",
    "    # class variable\n",
    "    organizationname = \"KMG IT Services\"\n",
    "    \n",
    "    def __init__(self, orgsize, orgcity):\n",
    "        self.orgsize = orgsize\n",
    "        self.orgcity = orgcity\n",
    "\n",
    "org = organization(25, \"Jaipur\")\n",
    "\n",
    "# accessing the class variable\n",
    "print(\"Org size:\", org.orgsize, \"Organization city:\", org.orgcity, \"Organization name:\", organization.organizationname)"
   ]
  },
  {
   "cell_type": "markdown",
   "metadata": {},
   "source": [
    "**Accessing the class variable:** We can access the class variable by object reference but it is recommended to use class name.\n",
    "\n",
    "we can access the class variable in the following places:\n",
    "\n",
    "1. inside constructor by using either self parameter or class name.\n",
    "2. inside instance method by using either self or class name.\n",
    "3. outside class by using either object reference or class name."
   ]
  },
  {
   "cell_type": "code",
   "execution_count": null,
   "metadata": {},
   "outputs": [],
   "source": [
    "# import time\n",
    "# starttime = time.time()\n",
    "# endtime = time.time()\n",
    "# totaltime = endtime-starttime\n",
    "\n",
    "print(\"Total time required to execute code is=\", totaltime)\n",
    "\n",
    "# Access Class Variable in the constructor\n",
    "class person:\n",
    "    \n",
    "    personname = \"Chirag\"\n",
    "    def __init__(self):\n",
    "        \n",
    "        # accessing the class variable inside constructor using self\n",
    "        print(self.personname)\n",
    "        \n",
    "        # accessing the class variable inside constructor using class name\n",
    "        print(person.personname)\n",
    "# creating object        \n",
    "p = person()"
   ]
  },
  {
   "cell_type": "code",
   "execution_count": null,
   "metadata": {},
   "outputs": [],
   "source": [
    "# Access Class Variable in Instance method and outside class\n",
    "class machine:\n",
    "    machinename = \"Drill machine\"\n",
    "    \n",
    "    def __init__(self, noiselevel, noofparts):\n",
    "        self.noiselevel = noiselevel\n",
    "        self.noofparts = noofparts\n",
    "        \n",
    "    def show(self):\n",
    "        print(\"Access Class Variable inside instance method\")\n",
    "        print(\"Noise level:\", self.noiselevel, \"No of parts:\", self.noofparts, \"Machine name:\", self.machinename)\n",
    "        print(\"Machine name:\", machine.machinename, '\\n')\n",
    "\n",
    "m1 = machine(\"20db\", 4)\n",
    "m1.show()\n",
    "\n",
    "print(\"Access Class Variable outside instance method\")\n",
    "print(\"Machine name:\", m1.machinename)\n",
    "print(\"Machine name:\", machine.machinename)\n"
   ]
  },
  {
   "cell_type": "markdown",
   "metadata": {},
   "source": [
    "**Modify class variables:** we assign value to a class variable inside the class declaration but we can change the value of class variable either in the class or outside of class.\n",
    "\n",
    "**NOTE:** It is recommended to change the class variable value using the class name.\n",
    "\n",
    "if we modfy a class variable using an instance, it doesnt change the class variable itself. instead, it creates an instance variable with the same name that shadows (or hides) the class variable for that instance."
   ]
  },
  {
   "cell_type": "code",
   "execution_count": null,
   "metadata": {},
   "outputs": [],
   "source": [
    "class Sports:\n",
    "    sportsname = \"Cricket\"\n",
    "    \n",
    "    def __init__(self, noofplayers):\n",
    "        self.players = noofplayers\n",
    "        \n",
    "    def show(self):\n",
    "        print(\"No of players:\", self.players, \"Sports Name:\", Sports.sportsname, '\\n')\n",
    "\n",
    "game = Sports(11)\n",
    "print(\"Before modifying the class variable\")\n",
    "game.show()        \n",
    "\n",
    "Sports.sportsname = \"Chess\"\n",
    "print(\"After modifying the class variable\")\n",
    "game.show()        "
   ]
  },
  {
   "cell_type": "markdown",
   "metadata": {},
   "source": [
    "**Class variable Vs Instance Variable**\n",
    "\n",
    "| Instance Variable                                                 | Class Variable                                                 |\n",
    "|-------------------------------------------------------------------|-----------------------------------------------------------------|\n",
    "| It is a variable whose value is instance-specific and not shared among instances. | It is a variable that defines a specific attribute or property for a class. |\n",
    "| These variables cannot be shared between classes. Instead, they only belong to one specific class. | These variables can be shared between a class and its subclasses. |\n",
    "| It usually reserves memory for data that the class needs.        | It usually maintains a single shared value for all instances of the class even if no instance object of the class exists. |\n",
    "| It is generally created when an instance of the class is created. | It is generally created when the program begins to execute.     |\n",
    "| It normally retains values as long as the object exists.        | It normally retains values until the program terminates.       |\n",
    "| It has many copies so every object has its own personal copy of the instance variable. | It has only one copy of the class variable so it is shared among different objects of the class. |\n",
    "| It can be accessed directly by calling variable names inside the class. | It can be accessed by calling with the class name.             |\n",
    "| These variables are declared without using the static keyword.  | These variables are declared using the keyword static.        |\n",
    "| Changes that are made to these variables through one object will not reflect in another object. | Changes that are made to these variables through one object will reflect in another object. |\n"
   ]
  },
  {
   "cell_type": "markdown",
   "metadata": {},
   "source": [
    "**Static Methods:** \n",
    "1. utility method that performs a task in isolation. inside this method we dont use instance or class variable because this method doesnt take any parameters like self or cls. these are bound to class and not the object of the class so we can call it using class name.\n",
    "   \n",
    "2. these variables doesnt have access to class and instance variables because it doesnt recieve an implicit first argument like self and cls. therfore it cannot modify the state of the object or class.\n",
    "   \n",
    "3. Static methods are a special case of methods. Sometimes, you’ll write code that belongs to a class, but that doesn’t use the object itself at all. It is a utility method and doesn’t need an object (self parameter) to complete its operation. So we declare it as a static method. Also, we can call it from another method of a class.\n",
    "   \n",
    "4. these methods can be called using **ClassName.method_Name()**\n",
    "\n",
    "**Defining static method:** \n",
    "1. we must explicitly tell the python that it is a static method using **@staticmethod** decorator or **staticmethod()** function. these methods are defined in a class.\n",
    "\n",
    "2. **@staticmethod** decorator is a built-in function decorator in Python to declare a method as a static method. It is an expression that gets evaluated after our function is defined.\n",
    "\n",
    "**Advantages of static method:**\n",
    "1. **Consumes less memory:** Instance methods are object too, and creating them has a cost. Having a static method avoids that. Let’s assume you have ten employee objects and if you create gather_requirement() as a instance method then Python have to create a ten copies of this method (seperate for each object) which will consume more memeory. On the other hand static method has only one copy per class.\n",
    "   \n",
    "2. **To Write Utility functions:** Static methods have limited use because they don’t have access to the attributes of an object (instance variables) and class attributes (class variables). However, they can be helpful in utility such as conversion form one type to another. The parameters provided are enough to operate.\n",
    "   \n",
    "3. **Readabiltity:** Seeing the @staticmethod at the top of the method, we know that the method does not depend on the object’s state or the class state."
   ]
  },
  {
   "cell_type": "code",
   "execution_count": null,
   "metadata": {},
   "outputs": [],
   "source": [
    "class finance:\n",
    "    @staticmethod\n",
    "    def calculation(a):\n",
    "        print(\"This is a static method\", a)\n",
    "\n",
    "# calling the static method        \n",
    "finance.calculation(23)\n",
    "\n",
    "# static method can also called using the object\n",
    "cal = finance()\n",
    "cal.calculation(23)"
   ]
  },
  {
   "cell_type": "code",
   "execution_count": null,
   "metadata": {},
   "outputs": [],
   "source": [
    "class human(object):\n",
    "    \n",
    "    def __init__(self, name, salary, projectname):\n",
    "        self.name = name\n",
    "        self.salary = salary\n",
    "        self.projectname = projectname\n",
    "        \n",
    "    @staticmethod\n",
    "    def gatherreq(projectname):\n",
    "        if projectname == 'Project1':\n",
    "            req = ['Task1', 'Task2']\n",
    "        else:\n",
    "            req = ['task1']\n",
    "        return req\n",
    "    # instance method\n",
    "    def work(self):\n",
    "        # call the static method from instance method\n",
    "        req = self.gatherreq(self.projectname)\n",
    "        for task in req:\n",
    "            print('completed', task)\n",
    "\n",
    "h1 = human(\"Chirag\", 23999, 'Project1')\n",
    "h1.work()"
   ]
  },
  {
   "cell_type": "markdown",
   "metadata": {},
   "source": [
    "**staticmethod() function:** some code might use the old method of defining a static method, using staticmethod() as a function rather than a decorator. it returns the converted static method.\n",
    "\n",
    "staticmethod() approach is helpful when you need a reference to a function from a class body and you want to avoid the automatic transformation to the instance method.\n",
    "\n",
    "it is a part of **python version 2.2 or 2.3** otherwise it is recommended to use the **@staticmethod** decorator.\n",
    "\n",
    "**syntax:** staticmethod(function)\n",
    "\n",
    "**function:** It is the name of the method you want to convert as a static method."
   ]
  },
  {
   "cell_type": "code",
   "execution_count": null,
   "metadata": {},
   "outputs": [],
   "source": [
    "class employee:\n",
    "    \n",
    "    def samplefun(x):\n",
    "        print(\"Inside the static method\", x)\n",
    "employee.samplefun = staticmethod(employee.samplefun)\n",
    "employee.samplefun(23)"
   ]
  },
  {
   "cell_type": "code",
   "execution_count": null,
   "metadata": {},
   "outputs": [],
   "source": [
    "# call static method from another method\n",
    "\n",
    "class test:\n",
    "    @staticmethod\n",
    "    def statimethod1():\n",
    "        print(\"staticmethod1\")\n",
    "        \n",
    "    @staticmethod\n",
    "    def statimethod2():\n",
    "        test.statimethod1()\n",
    "        \n",
    "    @classmethod\n",
    "    def classmethod1(cls):\n",
    "        cls.statimethod2()\n",
    "\n",
    "# call the class method\n",
    "test.classmethod1()  "
   ]
  },
  {
   "cell_type": "markdown",
   "metadata": {},
   "source": [
    "Type of constructor:\n",
    "\n",
    "1 Default\n",
    "\n",
    "2 Non - parametrized\n",
    "\n",
    "3 Parametrized  (defined at the starting)"
   ]
  },
  {
   "cell_type": "code",
   "execution_count": null,
   "metadata": {},
   "outputs": [],
   "source": [
    "# default \n",
    "\n",
    "class Employee:\n",
    "\n",
    "    def display(self):\n",
    "        print('Inside Display')\n",
    "\n",
    "emp = Employee()\n",
    "emp.display()\n"
   ]
  },
  {
   "cell_type": "code",
   "execution_count": null,
   "metadata": {},
   "outputs": [],
   "source": [
    "# Non Parmeterized constructor\n",
    "# initialize each object with default values\n",
    "# initialize object within each set of values\n",
    "class company():\n",
    "    # no argument constructor\n",
    "    def __init__(self):\n",
    "        self.Country = 'India'\n",
    "        self.City = 'Jaipur'\n",
    "    \n",
    "    # method for printing data member    \n",
    "    def show(self):\n",
    "        print(\"Country:\", self.Country, \"City:\", self.City)\n",
    "\n",
    "# creating object of the class\n",
    "cmp = company()\n",
    "\n",
    "# calling instance method using object\n",
    "cmp.show()\n",
    "cmp.Country='France'\n",
    "cmp.show()\n",
    "\n"
   ]
  },
  {
   "cell_type": "code",
   "execution_count": null,
   "metadata": {},
   "outputs": [],
   "source": [
    "# constructor with default values: the default value will be used if we do not pass arguments to the constructor at the time of object creation.\n",
    "\n",
    "class Corporate:\n",
    "    def __init__(self, companyname='KMG', year=1990):\n",
    "        self.companyname = companyname\n",
    "        self.year = year\n",
    "        \n",
    "    def show(self):\n",
    "        print(self.companyname, self.year)\n",
    "\n",
    "Employee = Corporate('tata', 2023)\n",
    "Employee.show()"
   ]
  },
  {
   "cell_type": "markdown",
   "metadata": {},
   "source": [
    "**Contructor Chaining:** process of calling one constructor from another constructor, useful when you want to invoke multiple constructors, one after another, by initializing only one instance.constructor chaining is convenient when we are dealing with inheritance. When an instance of a child class is initialized, the constructors of all the parent classes are first invoked and then, in the end, the constructor of the child class is invoked.\n",
    "\n",
    "Using the **super()** method we can invoke the parent class constructor from a child class."
   ]
  },
  {
   "cell_type": "code",
   "execution_count": null,
   "metadata": {},
   "outputs": [],
   "source": [
    "class vehicle:\n",
    "    def __init__(self, engine):\n",
    "        # print(\"The engine of the car\")\n",
    "        self.engine = engine\n",
    "    \n",
    "class car(vehicle):\n",
    "    def __init__(self, engine, maxspeed):\n",
    "        super().__init__(engine)\n",
    "        # print(\"max speed of the car is\")\n",
    "        self.maxspeed = maxspeed\n",
    "\n",
    "class electriccar(car):\n",
    "    def __init__(self, engine, maxspeed, range):\n",
    "        super().__init__(engine, maxspeed) # invoking parent class constructor to call child class constructor\n",
    "        # print(\"the range is\")\n",
    "        self.range= range\n",
    "\n",
    "transport = electriccar('200cc', 120, 750)\n",
    "print( \"Engine:\" ,transport.engine, \"Maxspeed:\", transport.maxspeed, \"Range:\", transport.range)\n"
   ]
  },
  {
   "cell_type": "markdown",
   "metadata": {},
   "source": [
    "Counting number of objects of a class"
   ]
  },
  {
   "cell_type": "code",
   "execution_count": null,
   "metadata": {},
   "outputs": [],
   "source": [
    "class objectcount():\n",
    "    count = 0\n",
    "    def __init__(self):\n",
    "        objectcount.count = objectcount.count+1\n",
    "\n",
    "e1 = objectcount()\n",
    "e2 = objectcount()\n",
    "e3 = objectcount()\n",
    "\n",
    "print(\"Total number of objects are :\", objectcount.count)"
   ]
  },
  {
   "cell_type": "markdown",
   "metadata": {},
   "source": [
    "**Constructor return value:** constructor doesnt return any value in python, constructor is implicitly called at the time of object creation so its sole purpose of initializing the instance variables."
   ]
  },
  {
   "cell_type": "code",
   "execution_count": null,
   "metadata": {},
   "outputs": [],
   "source": [
    "class returncheck:\n",
    "    def __init__(self, i):\n",
    "        self.i = i\n",
    "        return True\n",
    "        \n",
    "d = returncheck(10) # this will give an error"
   ]
  },
  {
   "cell_type": "code",
   "execution_count": null,
   "metadata": {},
   "outputs": [],
   "source": [
    "class Analytics:\n",
    "    _tools = \"Power BI\"\n",
    "    def __init__(self,  usage):\n",
    "        self.usage = usage\n",
    "        \n",
    "    def analysis(self):\n",
    "        print(\"This is the information about the analysis tool\")\n",
    "        print(\"Tools:\", Analytics._tools, \"Usage:\", self.usage, )\n",
    "\n",
    "visualization = Analytics(\"Data visualization\")\n",
    "visualization.analysis()\n",
    "visualization._tools = \"Tableau\"\n",
    "visualization.analysis()"
   ]
  },
  {
   "cell_type": "markdown",
   "metadata": {},
   "source": [
    "**Encapsulation:** we can hide objects internal representation from outside. this is known as information hiding.\n",
    "\n",
    "restrict accessing variables and methods outside the class thus Prevents data modification by creating private data members and methods within a class."
   ]
  },
  {
   "cell_type": "markdown",
   "metadata": {},
   "source": [
    "**Access modifiers:** python doesnt have direct access modifiers like public, private and protected we can achieve access modifiers by using underscore and double underscores.\n",
    "\n",
    "**Public Member/Modifier:** Accessible anywhere from otside oclass.\n",
    "\n",
    "**Private Member/Modifier:** Accessible within the class\n",
    "\n",
    "**Protected Member/Modifier:** Accessbile with the class and its sub class\n",
    "\n",
    "\n",
    "**Advantages of encapsulation:**\n",
    "\n",
    "1. **Security:** prevents unauthorized access. allows private and protected access levels to prevent accidental data modification.\n",
    "\n",
    "2. **Data hiding:** what is going behind the scene is hidden from the user they only only modify or get the data member without actually knowing the what these methods are doing.\n",
    "\n",
    "3. **Simplicity:** maintaining the application becomes simple by keeping the class simple and separated and preventing them from tightly coupling with each other.\n",
    "\n",
    "4. **Aesthetics:** increase code readability and maintaniability by bundling data and methods withing a class."
   ]
  },
  {
   "cell_type": "code",
   "execution_count": null,
   "metadata": {},
   "outputs": [],
   "source": [
    "# Example of access modifier with data member:\n",
    "class Accessmodifier:\n",
    "    \n",
    "    def __init__(self, A, B, C):\n",
    "        self.A = A # public member\n",
    "        self._B = B # Protected member\n",
    "        self.__C = C # Private member\n",
    "        "
   ]
  },
  {
   "cell_type": "markdown",
   "metadata": {},
   "source": [
    "**Public Member**"
   ]
  },
  {
   "cell_type": "code",
   "execution_count": null,
   "metadata": {},
   "outputs": [],
   "source": [
    "class Animal:\n",
    "    \n",
    "    def __init__(self, animalname, animalsound):\n",
    "        self.animalname = animalname\n",
    "        self.animalsound = animalsound\n",
    "    def show(self):\n",
    "        print(\"Animalname:\", self.animalname, '\\n' \"Animalsound:\", self.animalsound)\n",
    "        \n",
    "animal = Animal(\"Lion\", \"Roar\")\n",
    "print(\"AnimalName:\", animal.animalname, \"AnimalSound:\", animal.animalsound)\n",
    "animal.show()"
   ]
  },
  {
   "cell_type": "markdown",
   "metadata": {},
   "source": [
    "**Private Data members**"
   ]
  },
  {
   "cell_type": "code",
   "execution_count": null,
   "metadata": {},
   "outputs": [],
   "source": [
    "class devicedetails:\n",
    "    \n",
    "    def __init__(self, devicename, deviceusage):\n",
    "        self.devicename = devicename\n",
    "        self.__deviceusage = deviceusage # private variable\n",
    "        \n",
    "    # def show(self):\n",
    "    #     print(\"Devicename:\", self.devicename, \"Deviceusage:\", self.__deviceusage)\n",
    "        \n",
    "device = devicedetails(\"Calculator\", \"calculations\")\n",
    "# print(\"Deviceusage:\", device.__deviceusage) # this will throw error\n",
    "print(\"Deviceusage:\", device._devicedetails__deviceusage) # accessing the private variable"
   ]
  },
  {
   "cell_type": "markdown",
   "metadata": {},
   "source": [
    "**Accessing the private method**\n",
    "\n",
    "1. **Public method to access private members**"
   ]
  },
  {
   "cell_type": "code",
   "execution_count": null,
   "metadata": {},
   "outputs": [],
   "source": [
    "# Public method to access private members\n",
    "class devicedetails:\n",
    "    \n",
    "    def __init__(self, devicename, deviceusage):\n",
    "        self.devicename = devicename\n",
    "        self.__deviceusage = deviceusage # private variable\n",
    "        \n",
    "    def show(self):\n",
    "        print(\"Devicename:\", self.devicename, \"Deviceusage:\", self.__deviceusage)\n",
    "device = devicedetails(\"Calculator\", \"calculations\")\n",
    "device.show()"
   ]
  },
  {
   "cell_type": "markdown",
   "metadata": {},
   "source": [
    "2. **Use name mangling**"
   ]
  },
  {
   "cell_type": "code",
   "execution_count": null,
   "metadata": {},
   "outputs": [],
   "source": [
    "# Use name mangling (object._currentclassname__variable name)\n",
    "class devicedetails:\n",
    "    \n",
    "    def __init__(self, devicename, deviceusage):\n",
    "        self.devicename = devicename\n",
    "        self.__deviceusage = deviceusage # private variable\n",
    "        \n",
    "device = devicedetails(\"Calculator\", \"calculations\")\n",
    "print(\"Deviceusage:\", device._devicedetails__deviceusage) # accessing the private variable"
   ]
  },
  {
   "cell_type": "markdown",
   "metadata": {},
   "source": [
    "**Protected Data members:** used in inheritance when we want to allow data members access to only child class."
   ]
  },
  {
   "cell_type": "code",
   "execution_count": null,
   "metadata": {},
   "outputs": [],
   "source": [
    "class movie:\n",
    "    def __init__(self):\n",
    "        self._moviename = \"Fighter\"\n",
    "        \n",
    "class movierating(movie):\n",
    "    def __init__(self, movierating):\n",
    "        self.movierating = movierating\n",
    "        movie.__init__(self)\n",
    "    def show(self):\n",
    "        print(\"MovieName:\", self.movierating)\n",
    "        \n",
    "        print(\"Movierating:\", self._moviename)\n",
    "movidetails = movierating(8.7)\n",
    "movidetails.show()\n",
    "        "
   ]
  },
  {
   "cell_type": "markdown",
   "metadata": {},
   "source": [
    "**Getters and setters:** Getter methods for accessing data member and setter methods for modifying data members. used to avoid direct access to private variables and add validation logic for setting a value."
   ]
  },
  {
   "cell_type": "code",
   "execution_count": null,
   "metadata": {},
   "outputs": [],
   "source": [
    "class songs:\n",
    "    \n",
    "    def __init__(self, songname):\n",
    "        # private member\n",
    "        self.__songname = songname\n",
    "        \n",
    "        # getter method\n",
    "    def get_songname(Self):\n",
    "        return Self.__songname\n",
    "\n",
    "        # setter method\n",
    "    def set_songname(self, songname):\n",
    "        self.__songname = songname\n",
    "        \n",
    "song = songs(\"Vande matram\")\n",
    "\n",
    "# getting song name using getter method\n",
    "print(song.get_songname())\n",
    "\n",
    "# setting song name using setter method \n",
    "song.set_songname(\"Mitti\")\n",
    "\n",
    "# getting song name using getter method\n",
    "print(song.get_songname())"
   ]
  },
  {
   "cell_type": "markdown",
   "metadata": {},
   "source": [
    "Another example for using getter setters to use encapsulation for information hiding and apply additional validation before changing the values of your object attributes (data member)"
   ]
  },
  {
   "cell_type": "code",
   "execution_count": null,
   "metadata": {},
   "outputs": [],
   "source": [
    "class Building:\n",
    "    \n",
    "    def __init__(self, totalfloors):\n",
    "        self.__totalfloors = totalfloors\n",
    "        \n",
    "    def show(self):\n",
    "        print(\"Total number of floors in the building are:\", self.__totalfloors)\n",
    "    \n",
    "    def get_totalfloors(self):\n",
    "        return self.__totalfloors\n",
    "    \n",
    "    def set_totalfloors(self, buildingage):\n",
    "        if buildingage>11:\n",
    "            print(\"the building is very old it should be reconstructed\")\n",
    "        else:\n",
    "            self.__totalfloors = buildingage\n",
    "\n",
    "buildingdetails = Building(12)\n",
    "buildingdetails.show()\n",
    "buildingdetails.set_totalfloors(23)\n",
    "buildingdetails.set_totalfloors(45)\n",
    "buildingdetails.show()"
   ]
  },
  {
   "cell_type": "markdown",
   "metadata": {},
   "source": [
    "**Polymorphism:** allows to perform same action in many ways. it is ability of an object to take many forms. "
   ]
  },
  {
   "cell_type": "code",
   "execution_count": null,
   "metadata": {},
   "outputs": [],
   "source": [
    "# Polymorphism in Built-in function len()\n",
    "\n",
    "students = ['Emma', 'Jessa', 'Kelly']\n",
    "school = 'ABC School'\n",
    "\n",
    "# calculate count\n",
    "print(len(students)) # \n",
    "print(len(school))"
   ]
  },
  {
   "cell_type": "markdown",
   "metadata": {},
   "source": [
    "**Polymorphism With Inheritance:** using method overriding polymorphism allows us to defines methods in the child class that have the same name as the methods in the parent class. the process of reimplementing the inherited method in the child class is known as method overriding.\n",
    "\n",
    "**Advantages of method overriding:**\n",
    "\n",
    "1 effective when to extend the functionality by altering the inherited method when the inherited method doesnt fulfil the requirement of the child class.\n",
    "\n",
    "2 when parent class has multiple child class and one child class wants to alter/redefine the method. the other child classes can use the parent class method. due to this, we dont need to modification the parent class code. \n",
    "\n",
    "**NOTE:** \n",
    "\n",
    "python first checks the objects class type and executes the appropriate method when we call a method."
   ]
  },
  {
   "cell_type": "code",
   "execution_count": null,
   "metadata": {},
   "outputs": [],
   "source": [
    "class website:\n",
    "    \n",
    "    def __init__(self, websitename, websiteyear):\n",
    "        self.websitename = websitename\n",
    "        self.websiteyear = websiteyear\n",
    "        \n",
    "    \n",
    "    def show(self):\n",
    "        print(\"Websitename:\", self.websitename, \"websiteyear:\", self.websiteyear)\n",
    "\n",
    "    def Websitetraffic(self):\n",
    "        print(\"daily traffic on the website is 7000\")\n",
    "    \n",
    "class privatewebsite(website):\n",
    "\n",
    "    def Websitetraffic(self):\n",
    "        print(\"daily traffic on the website is 800000\")\n",
    "        \n",
    "privatewebsite = privatewebsite(\"geeks for geeks\", 2010)\n",
    "privatewebsite.show()\n",
    "privatewebsite.Websitetraffic()\n",
    "\n",
    "website = website(\"Pynative\", 2021)\n",
    "website.show()\n",
    "website.Websitetraffic()"
   ]
  },
  {
   "cell_type": "markdown",
   "metadata": {},
   "source": [
    "**Overrride Built-in Functions:** we can change the default behavior of the built-in functions. For example, we can change or extend the built-in functions such as len(), abs(), or divmod() by redefining them in our class"
   ]
  },
  {
   "cell_type": "code",
   "execution_count": null,
   "metadata": {},
   "outputs": [],
   "source": [
    "class Shopping:\n",
    "    \n",
    "    def __init__(self, basketlist, buyer):\n",
    "        self.basketlist = list(basketlist)\n",
    "        self.buyer = buyer\n",
    "    \n",
    "    def __len__(self):\n",
    "        print(\"redefine length\")\n",
    "        count = len(self.basketlist)\n",
    "        return count\n",
    "    \n",
    "shopping = Shopping(['Notebook', 'Laptop'], \"Chirag\")\n",
    "print(len(shopping))"
   ]
  },
  {
   "cell_type": "markdown",
   "metadata": {},
   "source": [
    "**Polymorphism in Class methods:** usefull when we group different objects having the same method like by adding them to a list or a tuple and we dont need to check the object type before calling their methods. python will check the runtime and call the correct method. thus we can call the methods without being concerned about which type each object is. we assume that these methods exist in each class."
   ]
  },
  {
   "cell_type": "code",
   "execution_count": null,
   "metadata": {},
   "outputs": [],
   "source": [
    "# class task:\n",
    "    \n",
    "#     def importanttask(self):\n",
    "#         print(\"This task is important\")\n",
    "#     def lessimportanttask(self):\n",
    "#         print(\"this task is less important\")\n",
    "        \n",
    "# class work:\n",
    "#     def importanttask(self):\n",
    "#         print(\"This work is important\")\n",
    "#     def lessimportanttask(self):\n",
    "#         print(\"this work is less important\")\n",
    "    \n",
    "# tasks = task()\n",
    "# working = work() \n",
    "\n",
    "# # iterate objects of same type\n",
    "# for duty in (tasks, working):\n",
    "    \n",
    "#     # call method without checking the object\n",
    "#     duty.importanttask()\n",
    "#     duty.lessimportanttask()\n",
    "\n",
    "# print(type(work))"
   ]
  },
  {
   "cell_type": "markdown",
   "metadata": {},
   "source": [
    "**Polymorphism with Function and Objects:** we can create polymorphism which can take object as parameter and executes its method without checking its class type. using this we can call object actions using the same function instead of repeating method calls. "
   ]
  },
  {
   "cell_type": "code",
   "execution_count": null,
   "metadata": {},
   "outputs": [],
   "source": [
    "class task:\n",
    "    \n",
    "    def importanttask(self):\n",
    "        print(\"This task is important\")\n",
    "    def lessimportanttask(self):\n",
    "        print(\"this task is less important\")\n",
    "        \n",
    "class work:\n",
    "    def importanttask(self):\n",
    "        print(\"This work is important\")\n",
    "    def lessimportanttask(self):\n",
    "        print(\"this work is less important\")\n",
    "        \n",
    "def taskdetails(obj):\n",
    "    obj.importanttask()\n",
    "    obj.lessimportanttask()\n",
    "\n",
    "tasks = task()\n",
    "working = work() \n",
    "\n",
    "taskdetails(tasks)\n",
    "taskdetails(working)"
   ]
  },
  {
   "cell_type": "markdown",
   "metadata": {},
   "source": [
    "**Method overloading:** process of calling same method with different parameters is kwown as method overloading, Python does not support method overloading. Python considers only the latest defined method even if you overload the method. Python will raise a TypeError if you overload the method."
   ]
  },
  {
   "cell_type": "code",
   "execution_count": null,
   "metadata": {},
   "outputs": [],
   "source": [
    "def overloadingfunc1(a,b):\n",
    "    c = a+b\n",
    "    return c\n",
    "\n",
    "def overloadingfunc1(a,b,c):\n",
    "    d = a+b+c\n",
    "    return d\n",
    "\n",
    "# overloadingfunc1(2,3) # this will give an error\n",
    "\n",
    "overloadingfunc1(2,3,4)"
   ]
  },
  {
   "cell_type": "markdown",
   "metadata": {},
   "source": [
    "To overcome the problem of method overloading we need to write the method’s logic so that different code executes inside the function depending on the parameter passes.\n",
    "\n",
    "For example, the built-in function range() takes three parameters and produce different result depending upon the number of parameters passed to it."
   ]
  },
  {
   "cell_type": "code",
   "execution_count": null,
   "metadata": {},
   "outputs": [],
   "source": [
    "for i in range(5): print(i, end=', ')\n",
    "print()\n",
    "for i in range(5, 10): print(i, end=', ')\n",
    "print()\n",
    "for i in range(2, 12, 2): print(i, end=', ')"
   ]
  },
  {
   "cell_type": "markdown",
   "metadata": {},
   "source": [
    "Let’s assume we have an area() method to calculate the area of a square and rectangle. The method will calculate the area depending upon the number of parameters passed to it.\n",
    "\n",
    "If one parameter is passed, then the area of a square is calculated\n",
    "If two parameters are passed, then the area of a rectangle is calculated."
   ]
  },
  {
   "cell_type": "code",
   "execution_count": null,
   "metadata": {},
   "outputs": [],
   "source": [
    "class shape:\n",
    "    \n",
    "    def area(self, a, b=0):\n",
    "        \n",
    "        if b>0:\n",
    "            print(\"area of the rectangle:\", a*b)\n",
    "        else:\n",
    "            print(\"area of the square:\", a**2)\n",
    "            \n",
    "squarearea = shape()\n",
    "squarearea.area(5)\n",
    "\n",
    "rectanglearea = shape()\n",
    "rectanglearea.area(5,6)"
   ]
  },
  {
   "cell_type": "markdown",
   "metadata": {},
   "source": [
    "**Operator overloading:** changing the default behavior of an operator depending on the operands (values) that we use meaning using the same operator for multiple purposes.\n",
    "\n",
    "For example, the + operator will perform an arithmetic addition operation when used with numbers. Likewise, it will perform concatenation when used with strings."
   ]
  },
  {
   "cell_type": "code",
   "execution_count": null,
   "metadata": {},
   "outputs": [],
   "source": [
    "print(455+5656)\n",
    "\n",
    "print(\"Chirag\" + ' ' +  \"Gupta\")\n",
    "\n",
    "print([34,45,67] + [\"Chirag\", \"Gupta\"])"
   ]
  },
  {
   "cell_type": "markdown",
   "metadata": {},
   "source": [
    "Overloading + operator for custom objects: Suppose we have two objects, and we want to add these two objects with a binary + operator. However, it will throw an error if we perform addition because the compiler doesn’t add two objects. See the following example for more details."
   ]
  },
  {
   "cell_type": "code",
   "execution_count": null,
   "metadata": {},
   "outputs": [],
   "source": [
    "class Book:\n",
    "    def __init__(self, bookname):\n",
    "        self.bookname = bookname\n",
    "        \n",
    "b1 = Book(\"DSA\")\n",
    "b2 = Book(\"Java\")\n",
    "\n",
    "print(b1+b2) # This will throw an error"
   ]
  },
  {
   "cell_type": "markdown",
   "metadata": {},
   "source": [
    "We can overload + operator to work with custom objects also. Python provides some special or magic function that is automatically invoked when associated with that particular operator.\n",
    "\n",
    "For example, when we use the + operator, the magic method `__add__`() is automatically invoked. Internally + operator is implemented by using `__add__`() method. We have to override this method in our class if you want to add two custom objects.\n",
    "\n",
    "\n",
    "The * operator is used to perform the multiplication. Let’s see how to overload it to calculate the salary of an employee for a specific period. Internally * operator is implemented by using the `__mul__`() method."
   ]
  },
  {
   "cell_type": "code",
   "execution_count": null,
   "metadata": {},
   "outputs": [],
   "source": [
    "class Book:\n",
    "    def __init__(self, pages):\n",
    "        self.pages = pages\n",
    "    \n",
    "    def __add__(self, other):\n",
    "        return self.pages + other.pages\n",
    "    \n",
    "b1 = Book(456)\n",
    "b2 = Book(567)\n",
    "\n",
    "print(\"Total number of pages:\",  b1+b2) "
   ]
  },
  {
   "cell_type": "markdown",
   "metadata": {},
   "source": [
    "**Magic Methods:** there are different magic methods available to perform overloading operations. The below table shows the magic methods names to overload the mathematical operator, assignment operator, and relational operators in Python.\n",
    "\n",
    "| Operator Name          | Symbol | Magic Method        |\n",
    "|------------------------|--------|---------------------|\n",
    "| Addition               | +      | `__add__(self, other)`    |\n",
    "| Subtraction            | -      | `__sub__(self, other)`    |\n",
    "| Multiplication         | *      | `__mul__(self, other)`    |\n",
    "| Division               | /      | `__truediv__(self, other)`|\n",
    "| Floor Division         | //     | `__floordiv__(self, other)`|\n",
    "| Modulus                | %      | `__mod__(self, other)`    |\n",
    "| Power                  | **     | `__pow__(self, other)`    |\n",
    "| Increment              | +=     | `__iadd__(self, other)`   |\n",
    "| Decrement              | -=     | `__isub__(self, other)`   |\n",
    "| Product                | *=     | `__imul__(self, other)`   |\n",
    "| Division               | /=     | `__itruediv__(self, other)`|\n",
    "| Floor Division         | //=    | `__ifloordiv__(self, other)`|\n",
    "| Modulus                | %=     | `__imod__(self, other)`   |\n",
    "| Power                  | **=    | `__ipow__(self, other)`   |\n",
    "| Less than              | <      | `__lt__(self, other)`     |\n",
    "| Greater than           | >      | `__gt__(self, other)`     |\n",
    "| Less than or equal to  | <=     | `__le__(self, other)`     |\n",
    "| Greater than or equal to | >=   | `__ge__(self, other)`     |\n",
    "| Equal to               | ==     | `__eq__(self, other)`     |\n",
    "| Not equal              | !=     | `__ne__(self, other)`     |\n"
   ]
  },
  {
   "cell_type": "markdown",
   "metadata": {},
   "source": [
    "**Inheritance in Python:** The process of inheriting the properties of the parent class into a child class is called **inheritance.** The existing class is called a base class or parent class and the new class is called a subclass or child class or derived class.\n",
    "\n",
    "The main purpose of inheritance is the reusability of code because we can use the existing class to create a new class instead of creating it from scratch.\n",
    "\n",
    "In inheritance, the child class acquires all the data members, properties, and functions from the parent class. Also, a child class can also provide its specific implementation to the methods of the parent class."
   ]
  },
  {
   "cell_type": "markdown",
   "metadata": {},
   "source": [
    "**Single Inheritance:** child class inherits from a single-parent class. Here is one child class and one parent class."
   ]
  },
  {
   "cell_type": "code",
   "execution_count": null,
   "metadata": {},
   "outputs": [],
   "source": [
    "# parent class (base class)\n",
    "class Vehicle:\n",
    "    def vehicleinfo(self):\n",
    "        print(\"single inheritance parent class function\")\n",
    "        \n",
    "# child class (inherited class)\n",
    "class car(Vehicle):\n",
    "    def carinfo(self):\n",
    "        print(\"single inheritance child class function\")\n",
    "\n",
    "# creating child class object\n",
    "transportation = car()\n",
    "\n",
    "# accessing the parent class information using child class information\n",
    "transportation.vehicleinfo()\n",
    "transportation.carinfo()"
   ]
  },
  {
   "cell_type": "markdown",
   "metadata": {},
   "source": [
    "**Multiple Inheritance:** child class can inherit from multiple parent classes. So here is one child class and multiple parent classes."
   ]
  },
  {
   "cell_type": "code",
   "execution_count": null,
   "metadata": {},
   "outputs": [],
   "source": [
    "class person:\n",
    "    \n",
    "    def personinfo(self, name, age):\n",
    "        print(\"parent class 1 function\")\n",
    "        print\n",
    "        \n",
    "class company:\n",
    "    \n",
    "    def companyinfo(self, location, year):\n",
    "        print(\"parent class 2 function\")\n",
    "        print(\"Location:\", location, \"Year:\", year)\n",
    "        \n",
    "class employee(person, company):\n",
    "    \n",
    "    def employeeinfo(self, salary, skill):\n",
    "        print(\"child class 1 function\")\n",
    "        print(salary, skill)\n",
    "        \n",
    "job = employee()\n",
    "\n",
    "job.personinfo(\"Chirag\", 22)\n",
    "job.companyinfo(\"Jaipur\", 2023)\n",
    "job.employeeinfo(\"3.25 Lakh\", \"Data analysis\")"
   ]
  },
  {
   "cell_type": "markdown",
   "metadata": {},
   "source": [
    "**Multilevel inheritance:** class inherits from a child class or derived class. Suppose three classes A, B, C. A is the superclass, B is the child class of A, C is the child class of B. a chain of classes is called multilevel inheritance."
   ]
  },
  {
   "cell_type": "code",
   "execution_count": null,
   "metadata": {},
   "outputs": [],
   "source": [
    "# Parent class\n",
    "class A:\n",
    "    def func1(self):\n",
    "        print(\"multilevel inheritance parent class function\")\n",
    "\n",
    "# Child class B inheriting parent class A       \n",
    "class B(A):\n",
    "    def func2(Self):\n",
    "        print(\"multilevel inheritance child class 1 function\")\n",
    "        \n",
    "# Child class C inheriting child class B which is a parent class of child class C             \n",
    "class C(B):\n",
    "    def func3(self):\n",
    "        print(\"multilevel inheritance child class 2 function\")\n",
    "\n",
    "# accessing class A, class B information using class C      \n",
    "multilevelinheritance = C()\n",
    "multilevelinheritance.func1()\n",
    "multilevelinheritance.func2()\n",
    "multilevelinheritance.func3()\n",
    "\n",
    "        \n",
    "        "
   ]
  },
  {
   "cell_type": "markdown",
   "metadata": {},
   "source": [
    "**Hierarchical Inheritance:** more than one child class is derived from a single parent class. In other words, we can say one parent class and multiple child classes."
   ]
  },
  {
   "cell_type": "code",
   "execution_count": null,
   "metadata": {},
   "outputs": [],
   "source": [
    "class Solarsystem:\n",
    "    def solarsysteminfo(self):\n",
    "        print(\"Parent class in hierarchial inheritance is class solarsystem\")\n",
    "\n",
    "class Earth(Solarsystem):\n",
    "    def earthinfo(self):\n",
    "        print(\"child class earth is derived from parent class solarsystem\")\n",
    "        \n",
    "class atmoshphere(Solarsystem):\n",
    "    def atmosphereinfo(self):\n",
    "        print(\"child class atmosphere is also derived from parent class solarsystem\")\n",
    "        \n",
    "universe = Earth()\n",
    "universe.solarsysteminfo()\n",
    "universe.earthinfo()\n",
    "\n",
    "universe2 =  atmoshphere()\n",
    "# universe2.solarsysteminfo()\n",
    "universe2.atmosphereinfo()"
   ]
  },
  {
   "cell_type": "markdown",
   "metadata": {},
   "source": [
    "**Hybrid Inheritance:** When inheritance is consists of multiple types or a combination of different inheritance is called hybrid inheritance."
   ]
  },
  {
   "cell_type": "code",
   "execution_count": null,
   "metadata": {},
   "outputs": [],
   "source": [
    "class Solarsystem:\n",
    "    def solarsysteminfo(self):\n",
    "        print(\"Parent class in hierarchial inheritance is class solarsystem\")\n",
    "\n",
    "class Earth(Solarsystem):\n",
    "    def earthinfo(self):\n",
    "        print(\"child class earth is derived from parent class solarsystem\")\n",
    "        \n",
    "class atmoshphere(Solarsystem):\n",
    "    def atmosphereinfo(self):\n",
    "        print(\"child class atmosphere is also derived from parent class solarsystem\")\n",
    "\n",
    "class Universe(Earth, atmoshphere, Solarsystem):\n",
    "    def universeinfo(self):\n",
    "        print(\"Child class universe inheriting class earth and atmosphere\")\n",
    "        \n",
    "universe = Universe()\n",
    "universe.solarsysteminfo()\n",
    "universe.earthinfo()\n",
    "universe.atmosphereinfo()\n",
    "universe.universeinfo()\n"
   ]
  },
  {
   "cell_type": "markdown",
   "metadata": {},
   "source": [
    "**Python super() function:** In child class, we can refer to parent class by using the super() function. The super function returns a temporary object of the parent class that allows us to call a parent class method inside a child class method.\n",
    "\n",
    "**Benefits of using the super() function:** \n",
    "\n",
    "1. We are not required to remember or specify the parent class name to access its methods.\n",
    "\n",
    "2. We can use the super() function in both single and multiple inheritances.\n",
    "\n",
    "3. The super() function support code reusability as there is no need to write the entire function"
   ]
  },
  {
   "cell_type": "code",
   "execution_count": null,
   "metadata": {},
   "outputs": [],
   "source": [
    "class Musician:\n",
    "    def musicianinfo(self):\n",
    "        return \"Arijit Singh\"\n",
    "    \n",
    "class Song(Musician):\n",
    "    def songinfo(self, songname, moviename):\n",
    "        mname = super().musicianinfo()\n",
    "        print(\"The song\", songname, \"in the movie\", moviename, \"is sung by:\", mname)\n",
    "\n",
    "album = Song()\n",
    "album.songinfo(\"satranga\", \"animal\")"
   ]
  },
  {
   "cell_type": "markdown",
   "metadata": {},
   "source": [
    "**Method Overriding:** In inheritance, all members available in the parent class are by default available in the child class. If the child class does not satisfy with parent class implementation, then the child class is allowed to redefine that method by extending additional functions in the child class. This concept is called method overriding.\n",
    "\n",
    "When a child class method has the same name, same parameters, and same return type as a method in its superclass, then the method in the child is said to override the method in the parent class."
   ]
  },
  {
   "cell_type": "code",
   "execution_count": null,
   "metadata": {},
   "outputs": [],
   "source": [
    "class music:\n",
    "    def song(self):\n",
    "        print(\"this is a classical song\")\n",
    "        \n",
    "class singer(music):\n",
    "    def song(self):\n",
    "        print(\"this is a pop song\")\n",
    "        \n",
    "s = singer()\n",
    "s.song()"
   ]
  },
  {
   "cell_type": "markdown",
   "metadata": {},
   "source": [
    "**Method Resolution Order in Python:** Method Resolution Order(MRO) is the order by which Python looks for a method or attribute. First, the method or attribute is searched within a class, and then it follows the order we specified while inheriting.\n",
    "\n",
    "This order is also called the Linearization of a class, and a set of rules is called MRO (Method Resolution Order). The MRO plays an essential role in multiple inheritances as a single method may found in multiple parent classes.\n",
    "\n",
    "In multiple inheritance, the following search order is followed: \n",
    "\n",
    "1. it searches in the current parent class if not available, then searches in the parents class specified while inheriting (that is left to right.)\n",
    "\n",
    "2. We can get the MRO of a class. For this purpose, we can use either the mro attribute or the mro() method."
   ]
  },
  {
   "cell_type": "code",
   "execution_count": null,
   "metadata": {},
   "outputs": [],
   "source": [
    "class A:\n",
    "    def process(self):\n",
    "        print(\" In class A\")\n",
    "\n",
    "class B(A):\n",
    "    def process(self):\n",
    "        print(\" In class B\")\n",
    "\n",
    "class C(B, A):\n",
    "    def process(self):\n",
    "        print(\" In class C\")\n",
    "\n",
    "# Creating object of C class\n",
    "C1 = C()\n",
    "C1.process()\n",
    "print(C.mro())"
   ]
  },
  {
   "cell_type": "code",
   "execution_count": null,
   "metadata": {},
   "outputs": [],
   "source": []
  }
 ],
 "metadata": {
  "kernelspec": {
   "display_name": "Python 3",
   "language": "python",
   "name": "python3"
  },
  "language_info": {
   "codemirror_mode": {
    "name": "ipython",
    "version": 3
   },
   "file_extension": ".py",
   "mimetype": "text/x-python",
   "name": "python",
   "nbconvert_exporter": "python",
   "pygments_lexer": "ipython3",
   "version": "3.8.10"
  },
  "orig_nbformat": 4
 },
 "nbformat": 4,
 "nbformat_minor": 2
}
