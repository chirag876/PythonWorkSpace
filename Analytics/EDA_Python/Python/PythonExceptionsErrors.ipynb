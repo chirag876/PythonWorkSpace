{
 "cells": [
  {
   "cell_type": "markdown",
   "metadata": {},
   "source": [
    "**Python Exceptions and errors**"
   ]
  },
  {
   "cell_type": "markdown",
   "metadata": {},
   "source": [
    "**What are Exceptions:** Exception is an event that occurs while program execution disrupting the normal flow of excecution. (e.g. KeyError Raised when a key is not found in a dictionary.) An exception is a Python object that represents an error.\n",
    "\n",
    "an exception is an object derives from the BaseException class that contains information about an error event that occurred within a method. Exception object contains:\n",
    "\n",
    "1. Error type (exception name)\n",
    "2. The state of the program when the error occurred\n",
    "3. An error message describes the error event.\n",
    "\n",
    "Exception are useful to indicate different types of possible failure condition.\n",
    "\n",
    "-> FileNotFoundException\n",
    "\n",
    "-> ImportError\n",
    "\n",
    "-> RuntimeError\n",
    "\n",
    "-> NameError\n",
    "\n",
    "-> TypeError\n",
    "\n",
    "we can throw an exception in the try block and catch it in except block."
   ]
  },
  {
   "cell_type": "markdown",
   "metadata": {},
   "source": [
    "**Why use exception:**\n",
    "\n",
    "1. **Standardized error handling:** Built-in exceptions or custom exceptions with precise names and descriptions help define error events, aiding in debugging.\n",
    "   \n",
    "2. **cleaner code:** separtes error handling code from regular code which helps in maintaining large code base.\n",
    "   \n",
    "3. **Robust application:** With the help of exceptions, we can develop a solid application, which can handle error event efficiently\n",
    "   \n",
    "4. **Different error types:**  Use built-in or custom exceptions, grouping them by a generalized parent class or differentiating errors by their actual class, for better organization and handling.\n",
    "   \n",
    "5. **Exception propagation:** Exception propagation is a process in programming where an error, called an exception, is passed from one part of the code to another until it is handled or caught. Exception propagation is important because it allows errors to be handled at the appropriate level of the code, making programs more robust and easier to debug."
   ]
  },
  {
   "cell_type": "markdown",
   "metadata": {},
   "source": [
    "**What are errors:** error is an action that is incorrect or inaccurate. for example syntax error due to which the program fails to execute.\n",
    "\n",
    "The errors can be broadly classified into two types:\n",
    "\n",
    "1. **Syntax errors**\n",
    "2. **Logical errors**\n"
   ]
  },
  {
   "cell_type": "markdown",
   "metadata": {},
   "source": [
    "**Syntax error:** The syntax error occurs when we are not following the proper structure or syntax of the language. A syntax error is also known as a parsing error.\n",
    "\n",
    "When Python parses the program and finds an incorrect statement it is known as a syntax error. When the parser found a syntax error it exits with an error message without running anything.\n",
    "\n",
    "**Common Python Syntax errors:**\n",
    "\n",
    "1. Incorrect indentation\n",
    "   \n",
    "2. Missing colon, comma, or brackets\n",
    "   \n",
    "3. Putting keywords in the wrong place.\n"
   ]
  },
  {
   "cell_type": "markdown",
   "metadata": {},
   "source": [
    "**Logical Errors (Exception):** The error that occurs at the runtime is known as a `Logical error or Exception`. In other words, Errors detected during execution are called exceptions.\n",
    "\n",
    "\n",
    "**Common Python Logical errors:**\n",
    "\n",
    "1. Indenting a block to the wrong level\n",
    "2. using the wrong variable name\n",
    "3. making a mistake in a boolean expression"
   ]
  },
  {
   "cell_type": "markdown",
   "metadata": {},
   "source": [
    "**Built-in Exceptions:** \n",
    "\n",
    "| Exception          | Description                                                                                     |\n",
    "|---------------------|-------------------------------------------------------------------------------------------------|\n",
    "| AssertionError     | Raised when an assert statement fails.                                                          |\n",
    "| AttributeError     | Raised when attribute assignment or reference fails.                                             |\n",
    "| EOFError            | Raised when the input() function hits the end-of-file condition.                                  |\n",
    "| FloatingPointError  | Raised when a floating-point operation fails.                                                    |\n",
    "| GeneratorExit       | Raised when a generator’s close() method is called.                                              |\n",
    "| ImportError        | Raised when the imported module is not found.                                                    |\n",
    "| IndexError         | Raised when the index of a sequence is out of range.                                             |\n",
    "| KeyError           | Raised when a key is not found in a dictionary.                                                  |\n",
    "| KeyboardInterrupt | Raised when the user hits the interrupt key (Ctrl+C or Delete)                                   |\n",
    "| MemoryError         | Raised when an operation runs out of memory.                                                     |\n",
    "| NameError          | Raised when a variable is not found in the local or global scope.                                 |\n",
    "| OSError            | Raised when system operation causes system related error.                                         |\n",
    "| ReferenceError     | Raised when a weak reference proxy is used to access a garbage collected referent.                |\n"
   ]
  },
  {
   "cell_type": "markdown",
   "metadata": {},
   "source": [
    "**try and except Block to Handling Exceptions:** \n",
    "\n",
    "1. **Try block:** Detects and throws an exception.\n",
    "2. **Except block:** catches and handle the exception.\n",
    "\n",
    "when we dont use the try execpt block in the program, the program terminates abnormally, or it will be nongraceful termination of the program."
   ]
  },
  {
   "cell_type": "code",
   "execution_count": null,
   "metadata": {},
   "outputs": [],
   "source": [
    "try:\n",
    "    a = 10\n",
    "    b = 0\n",
    "    c = a/b\n",
    "    print(c)\n",
    "except:\n",
    "    print(\"cannot divide any number by 0\")"
   ]
  },
  {
   "cell_type": "markdown",
   "metadata": {},
   "source": [
    "**Catching specific exceptions:** it is good practice to specify exact exception that except clause should catch. \n",
    "\n",
    "we can specify which exception except block should catch or handle. A try block can be followed by multiple numbers of except blocks to handle the different exceptionst. But only one exception will be executed when an exception occurs."
   ]
  },
  {
   "cell_type": "code",
   "execution_count": null,
   "metadata": {},
   "outputs": [],
   "source": [
    "try:\n",
    "    a = int(input(\"Enter value of a:\"))\n",
    "    b = int(input(\"Enter value of b:\"))\n",
    "    c = a/b\n",
    "    print(\"The answer of a divide by b:\", c)\n",
    "except ValueError:\n",
    "    print(\"Entered value is wrong\")\n",
    "except ZeroDivisionError:\n",
    "    print(\"Can't divide by zero\")"
   ]
  },
  {
   "cell_type": "markdown",
   "metadata": {},
   "source": [
    "**Handle multiple exceptions with a single except clause:** We can also handle multiple exceptions with a single excpet clause. for that we can use a tuple of values to specify multiple exceptions in an except clause."
   ]
  },
  {
   "cell_type": "code",
   "execution_count": null,
   "metadata": {},
   "outputs": [],
   "source": [
    "try:\n",
    "    a = int(input(\"Enter value of a:\"))\n",
    "    b = int(input(\"Enter value of b:\"))\n",
    "    c = a / b\n",
    "    print(\"The answer of a divide by b:\", c)\n",
    "except(ValueError, ZeroDivisionError):\n",
    "    print(\"Please enter a valid value\")"
   ]
  },
  {
   "attachments": {
    "image.png": {
     "image/png": "[encoded data removed]"
    }
   },
   "cell_type": "markdown",
   "metadata": {},
   "source": [
    "**Using try with finally:**  Finally block is used with try block statement. finally block must be executed whether or not try block raises an error or not.\n",
    "finally block is used to release the external resource. this block provides a guarantee of execution.\n",
    "\n",
    "The block of code written in the finally block will always execute even there is an exception in the try and except block.\n",
    "\n",
    "If an exception is not handled by except clause, then finally block executes first, then the exception is thrown. This process is known as `clean-up action.`\n",
    "\n",
    "![image.png](attachment:image.png)"
   ]
  },
  {
   "cell_type": "code",
   "execution_count": null,
   "metadata": {},
   "outputs": [],
   "source": [
    "try:\n",
    "    a = int(input(\"Enter value of a:\"))\n",
    "    b = int(input(\"Enter value of b:\"))\n",
    "    c = a / b\n",
    "    print(\"The answer of a divide by b:\", c)\n",
    "\n",
    "except ZeroDivisionError:\n",
    "    print(\"Can't divide with zero\")\n",
    "finally:\n",
    "    print(\"This will also get executed\")"
   ]
  },
  {
   "attachments": {
    "image.png": {
     "image/png": "[encoded data removed]"
    }
   },
   "cell_type": "markdown",
   "metadata": {},
   "source": [
    "**Using try with else clause:** Sometimes we might want to run a specific block of code. In that case, we can use else block with the try-except block. The else block will be executed if and only if there are no exception is the try block. For these cases, we can use the optional else statement with the try statement.\n",
    "\n",
    "**Why to use else block with try?:** Use else statemen with try block to check if try block executed without any exception or if you want to run a specific code only if an exception is not raised.\n",
    "\n",
    "![image.png](attachment:image.png)\n",
    "\n"
   ]
  },
  {
   "cell_type": "code",
   "execution_count": null,
   "metadata": {},
   "outputs": [],
   "source": [
    "try:\n",
    "    a = int(input(\"Enter value of a:\"))\n",
    "    b = int(input(\"Enter value of b:\"))\n",
    "    c = a / b\n",
    "    print(\"a/b = %d\" % c)\n",
    "\n",
    "except ZeroDivisionError:\n",
    "    print(\"Can't divide by zero\")\n",
    "else:\n",
    "    print(\"We are in else block \")"
   ]
  },
  {
   "cell_type": "markdown",
   "metadata": {},
   "source": [
    "**Raising an exceptions:** raise statement allows us to throw an exception. The single arguments in the raise statement show an exception to be raised. This can be either an exception object or an Exception class that is derived from the Exception class.\n",
    "\n",
    "The raise statement is useful in situations where we need to raise an exception to the caller program. We can raise exceptions in cases such as wrong data received or any validation failure.\n",
    "\n",
    "-> steps to raise an exception:\n",
    "\n",
    "1. Create an exception of the appropriate type. Use the existing built-in exceptions or create your won exception as per the requirement.\n",
    "2. Pass the appropriate data while raising an exception.\n",
    "3. Execute a raise statement, by providing the exception class.\n",
    "\n",
    "**Syntax:** `raise Exception_class, <value>`"
   ]
  },
  {
   "cell_type": "code",
   "execution_count": null,
   "metadata": {},
   "outputs": [],
   "source": [
    "def simpleinterest(amount, year, rate):\n",
    "    try:\n",
    "        if rate>100:\n",
    "            raise ValueError(rate)\n",
    "        interest = (amount*rate*year)/100\n",
    "        print('simple interest:', interest)\n",
    "        return interest\n",
    "    except ValueError:\n",
    "        print('interest range out of range:', rate)\n",
    "print('case 1')\n",
    "simpleinterest(1000, 5, 2)\n",
    "\n",
    "print('case 2')\n",
    "simpleinterest(1000, 5, 200)"
   ]
  },
  {
   "cell_type": "markdown",
   "metadata": {},
   "source": [
    "**Exception Chaining:** exception chaininig is available in python 3. The `raise` statements allow us as optional from statement. which enables chaining exceptions. so we can implement exception chaining in python 3 by using `raise_from` clause to chain exception.\n",
    "\n",
    "when exception raise, exception chaining happens automatically. the exception can be raised inside `except` or `finaly` block section. we also disabled exception chaining by using `from None` idiom."
   ]
  },
  {
   "cell_type": "code",
   "execution_count": null,
   "metadata": {},
   "outputs": [],
   "source": [
    "try:\n",
    "    a = int(input(\"Enter value of a:\"))\n",
    "    b = int(input(\"Enter value of b:\"))\n",
    "    c = a/b\n",
    "    print(\"The answer of a divide by b:\", c)\n",
    "except ZeroDivisionError as e:\n",
    "    raise ValueError('Division failed') from e"
   ]
  },
  {
   "cell_type": "markdown",
   "metadata": {},
   "source": [
    "**Custom and user defined exceptions:** defining `raise exception` explicitly to indicate that something goes wrong this explicit raising of exception is known as user defined or customized exception."
   ]
  },
  {
   "cell_type": "code",
   "execution_count": null,
   "metadata": {},
   "outputs": [],
   "source": [
    "class Error(Exception):\n",
    "    pass\n",
    "class ValueTooSmallError(Error):\n",
    "    pass\n",
    "class ValueTooLargeError(Error):\n",
    "    pass\n",
    "while(True):\n",
    "    try:\n",
    "        num = int(input(\"Enter any value in 10 to 50 range:\"))\n",
    "        if num <10:\n",
    "            raise ValueTooSmallError\n",
    "        elif num>50:\n",
    "            raise ValueTooLargeError\n",
    "        break\n",
    "    except ValueTooSmallError:\n",
    "        print(\"Value is below range..try again\")\n",
    "    except ValueTooLargeError:\n",
    "        print(\"Value out of range..try again\")\n",
    "\n",
    "print(\"The value is in correct range\")"
   ]
  },
  {
   "cell_type": "markdown",
   "metadata": {},
   "source": [
    "**Customizing Exception classes:** we can customise the classes by accepting arguments as per our requirements. Any custom exception class must be extending from BaseException class or subclass of BaseException."
   ]
  },
  {
   "cell_type": "code",
   "execution_count": null,
   "metadata": {},
   "outputs": [],
   "source": [
    "class NegativeAgeError(Exception):\n",
    "    \n",
    "    def __init__(self, age):\n",
    "        message = \"Age should not be negative\"\n",
    "        self.message =message\n",
    "        self.age = age\n",
    "        \n",
    "age = int(input())\n",
    "if age<0:\n",
    "    raise NegativeAgeError(age)\n",
    "else:\n",
    "    print(age)"
   ]
  },
  {
   "cell_type": "markdown",
   "metadata": {},
   "source": [
    "**Exception Lifecycle:**\n",
    "\n",
    "1. **call stack:** when an exception is raised, the runtime system attempts to find a handler `(except block)` for the exception by backtracking the ordered list of methods calls.\n",
    "2. if the handler is located there are possibly cases in the except block either exception is handled or possibly re-thrown.\n",
    "3. If the handler is not found (the runtime backtracks to the method chain’s last calling method), the exception stack trace is printed to the standard error console, and the application stops its execution. `(If Python can't find a way to handle an exception, it prints an error message and stops the program.)`"
   ]
  },
  {
   "cell_type": "code",
   "execution_count": null,
   "metadata": {},
   "outputs": [],
   "source": [
    "# import warnings\n",
    "\n",
    "# # Ignore all warnings\n",
    "# warnings.filterwarnings(\"ignore\")\n",
    "\n",
    "# # Ignore specific warning by category\n",
    "# warnings.filterwarnings(\"ignore\", category=DeprecationWarning)\n",
    "\n",
    "# # Ignore specific warning by message\n",
    "# warnings.filterwarnings(\"ignore\", message=\"deprecated\")\n",
    "\n",
    "# # Ignore specific warning by message and category\n",
    "# warnings.filterwarnings(\"ignore\", category=DeprecationWarning, message=\"deprecated\")\n",
    "\n",
    "def sumlist(number):\n",
    "    return sum(number)\n",
    "def avg(sum ,n):\n",
    "    return sum/n\n",
    "def finaldata(data):\n",
    "    for item in data:\n",
    "        print('Average:', avg(sumlist(item), len(item)))\n",
    "        \n",
    "list1 = [10, 20, 30, 40, 50]\n",
    "list2 = [100, 200, 300, 400, 500]\n",
    "\n",
    "list3 = []\n",
    "lists = [list1, list2, list3]\n",
    "finaldata(lists)"
   ]
  },
  {
   "cell_type": "markdown",
   "metadata": {},
   "source": [
    "**Warning:** Several built-in exceptions represent warning categories. This categorization is helpful to be able to filter out groups of warnings.\n",
    "\n",
    "The warning doesn’t stop the execution of a program it indicates the possible improvement\n",
    "\n",
    "Below is the list of warning exception\n",
    "\n",
    "| Warning Class              | Meaning                                                                                   |\n",
    "|----------------------------|-------------------------------------------------------------------------------------------|\n",
    "| Warning                    | Base class for warning categories                                                        |\n",
    "| UserWarning                | Base class for warnings generated by user code                                           |\n",
    "| DeprecationWarning         | Warnings about deprecated features                                                       |\n",
    "| PendingDeprecationWarning  | Warnings about features that are obsolete and expected to be deprecated in the future    |\n",
    "| SyntaxWarning              | Warnings about dubious syntax                                                            |\n",
    "| RuntimeWarning             | Warnings about the dubious runtime behavior                                               |\n",
    "| FutureWarning              | Warnings about probable mistakes in module imports                                        |\n",
    "| ImportWarning              | Warnings about probable mistakes in module imports                                        |\n",
    "| UnicodeWarning             | Warnings related to Unicode data                                                          |\n",
    "| BytesWarning               | Warnings related to bytes and bytearray                                                   |\n",
    "| ResourceWarning            | Warnings related to resource usage                                                        |\n"
   ]
  },
  {
   "cell_type": "markdown",
   "metadata": {},
   "source": []
  }
 ],
 "metadata": {
  "kernelspec": {
   "display_name": "Python 3",
   "language": "python",
   "name": "python3"
  },
  "language_info": {
   "codemirror_mode": {
    "name": "ipython",
    "version": 3
   },
   "file_extension": ".py",
   "mimetype": "text/x-python",
   "name": "python",
   "nbconvert_exporter": "python",
   "pygments_lexer": "ipython3",
   "version": "3.8.10"
  },
  "orig_nbformat": 4
 },
 "nbformat": 4,
 "nbformat_minor": 2
}
