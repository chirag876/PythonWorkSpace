{
 "cells": [
  {
   "cell_type": "markdown",
   "metadata": {
    "papermill": {
     "duration": 0.038053,
     "end_time": "2023-07-06T00:58:24.173542",
     "exception": false,
     "start_time": "2023-07-06T00:58:24.135489",
     "status": "completed"
    },
    "tags": []
   },
   "source": [
    "<font color='blue' size=10><center><u> Cheatsheet - Seaborn Charts</u></center> </font>"
   ]
  },
  {
   "cell_type": "markdown",
   "metadata": {
    "papermill": {
     "duration": 0.034393,
     "end_time": "2023-07-06T00:58:24.243162",
     "exception": false,
     "start_time": "2023-07-06T00:58:24.208769",
     "status": "completed"
    },
    "tags": []
   },
   "source": [
    "This kernel is all about seaborn charts -- python data visualization tool."
   ]
  },
  {
   "cell_type": "markdown",
   "metadata": {
    "_cell_guid": "79c7e3d0-c299-4dcb-8224-4455121ee9b0",
    "_uuid": "d629ff2d2480ee46fbb7e2d37f6b5fab8052498a",
    "papermill": {
     "duration": 0.03495,
     "end_time": "2023-07-06T00:58:24.312993",
     "exception": false,
     "start_time": "2023-07-06T00:58:24.278043",
     "status": "completed"
    },
    "tags": []
   },
   "source": [
    "<font color='red' size=5> Please Upvote my kernel and keep it in your favourite section if you think it is helpful.</font>"
   ]
  },
  {
   "cell_type": "markdown",
   "metadata": {
    "papermill": {
     "duration": 0.035374,
     "end_time": "2023-07-06T00:58:24.383578",
     "exception": false,
     "start_time": "2023-07-06T00:58:24.348204",
     "status": "completed"
    },
    "tags": []
   },
   "source": [
    "<a id=\"TOC\"></a>\n",
    "\n",
    "<div class=\"list-group\" id=\"list-tab\" role=\"tablist\">\n",
    "<h1 class=\"list-group-item list-group-item-action active\" data-toggle=\"list\" style='background:blue; border:0' role=\"tab\" aria-controls=\"home\"><center>Table of Content</center></h1>\n",
    "    \n",
    "1. [Introduction](#introduction)\n",
    "2. [Libraries](#library)\n",
    "3. [Data](#data)\n",
    "4. [Scatter Plot](#scatter_plot)\n",
    "    1. [Basic Scatter Plot](#basic_scatter_plot)\n",
    "    2. [Scatter Plot - Category](#categor_scatter_plot)\n",
    "    3. [Scatter Plot with Regression Fit](#reg_scatter_plot)\n",
    "    4. [Control shape of element in Scatter Plot](#shape_scatter_plot)\n",
    "    5. [Using color Palletes in Scatter Plot](#color_scatter_plot)\n",
    "5. [Line Plot](#line_plot)\n",
    "    1. [Basic Line Plot](#basic_line_plot)\n",
    "    2. [Line Plot - Category](#category_line_plot)\n",
    "6. [Histogram](#histogram)\n",
    "    1. [Basic Histogram Plot](#basic_histogram_plot)\n",
    "    2. [Histogram Plot : Control Number of Bins](#bins_histogram_plot)\n",
    "    3. [Histogram Plot : Control Density](#kde_histogram_plot)\n",
    "7. [1D Density Plot](#1D_density_plot)\n",
    "    1. [Basic 1D Density Plot](#basic_1D_density_plot)\n",
    "    2. [Density Plot with Shade](#shade_density_plot)\n",
    "    3. [Horizontal Density Plot](#horizontal_density_plot)\n",
    "    4. [Horizontal Density Plot with Shade](#horizontal_shade_density_plot)\n",
    "    5. [Multi Variable Density Plot](#multiple_density_plot)\n",
    "    6. [Multi Variable Density Plot: Customize Color](#multiple_density_plot)\n",
    "8. [2D Density Plot](#2D_density_plot)\n",
    "    1. [Basic 2D Density Plot](#basic_2d_density_plot)\n",
    "9. [Bar Plot](#bar_plot)\n",
    "    1. [Basic Bar Plot](#basic_bar_plot)\n",
    "    2. [Horizontal Bar Plot](#horizontal_bar_plot)\n",
    "10. [Seaborn Themes](#seaborn_themes)\n",
    "    1. [Seaborn Dark Grid Theme](#darkgrid)\n",
    "    2. [Seaborn Dark Theme](#dark)\n",
    "    3. [Seaborn White Grid Theme](#whitegrid)\n",
    "    4. [Seaborn White Theme](#white)\n",
    "    5. [Seaborn Ticks Theme](#ticks)"
   ]
  },
  {
   "cell_type": "markdown",
   "metadata": {
    "papermill": {
     "duration": 0.034276,
     "end_time": "2023-07-06T00:58:24.452898",
     "exception": false,
     "start_time": "2023-07-06T00:58:24.418622",
     "status": "completed"
    },
    "tags": []
   },
   "source": [
    "<a id=\"introduction\"></a>\n",
    "<h1 style='background:blue; border:0; color:white'><center>Introduction</center><h1>"
   ]
  },
  {
   "cell_type": "markdown",
   "metadata": {
    "papermill": {
     "duration": 0.03434,
     "end_time": "2023-07-06T00:58:24.521945",
     "exception": false,
     "start_time": "2023-07-06T00:58:24.487605",
     "status": "completed"
    },
    "tags": []
   },
   "source": [
    "## Seaborn\n",
    "\n",
    "Seaborn is a graphic library built on top of Matplotlib. It allows to make your charts prettier, and facilitates some of the common data visualisation needs."
   ]
  },
  {
   "cell_type": "markdown",
   "metadata": {
    "papermill": {
     "duration": 0.034237,
     "end_time": "2023-07-06T00:58:24.591063",
     "exception": false,
     "start_time": "2023-07-06T00:58:24.556826",
     "status": "completed"
    },
    "tags": []
   },
   "source": [
    "<a id=\"library\"></a>\n",
    "<h1 style='background:blue; border:0; color:white'><center>Libraries</center></h1>\n",
    "\n",
    "<a href=\"#TOC\" class=\"btn btn-primary btn-sm\" role=\"button\" aria-pressed=\"true\" style=\"color:white\" data-toggle=\"popover\">Go to TOC</a>"
   ]
  },
  {
   "cell_type": "code",
   "execution_count": null,
   "metadata": {
    "execution": {
     "iopub.execute_input": "2023-07-06T00:58:24.663103Z",
     "iopub.status.busy": "2023-07-06T00:58:24.662437Z",
     "iopub.status.idle": "2023-07-06T00:58:25.625581Z",
     "shell.execute_reply": "2023-07-06T00:58:25.626010Z"
    },
    "papermill": {
     "duration": 1.000756,
     "end_time": "2023-07-06T00:58:25.626175",
     "exception": false,
     "start_time": "2023-07-06T00:58:24.625419",
     "status": "completed"
    },
    "tags": []
   },
   "outputs": [],
   "source": [
    "# Import dependencies\n",
    "\n",
    "import numpy as np\n",
    "import pandas as pd\n",
    "\n",
    "import matplotlib.pyplot as plt\n",
    "import seaborn as sns"
   ]
  },
  {
   "cell_type": "markdown",
   "metadata": {
    "papermill": {
     "duration": 0.034742,
     "end_time": "2023-07-06T00:58:25.696743",
     "exception": false,
     "start_time": "2023-07-06T00:58:25.662001",
     "status": "completed"
    },
    "tags": []
   },
   "source": [
    "<a id=\"data\"></a>\n",
    "<h1 style='background:blue; border:0; color:white'><center>Load Data</center></h1>\n",
    "\n",
    "<a href=\"#TOC\" class=\"btn btn-primary btn-sm\" role=\"button\" aria-pressed=\"true\" style=\"color:white\" data-toggle=\"popover\">Go to TOC</a>"
   ]
  },
  {
   "cell_type": "code",
   "execution_count": null,
   "metadata": {
    "execution": {
     "iopub.execute_input": "2023-07-06T00:58:25.778333Z",
     "iopub.status.busy": "2023-07-06T00:58:25.777664Z",
     "iopub.status.idle": "2023-07-06T00:58:29.692324Z",
     "shell.execute_reply": "2023-07-06T00:58:29.691677Z"
    },
    "papermill": {
     "duration": 3.960412,
     "end_time": "2023-07-06T00:58:29.692463",
     "exception": false,
     "start_time": "2023-07-06T00:58:25.732051",
     "status": "completed"
    },
    "tags": []
   },
   "outputs": [],
   "source": [
    "olympic = pd.read_csv('../input/120-years-of-olympic-history-athletes-and-results/athlete_events.csv')\n",
    "healthcare=pd.read_csv('../input/av-healthcare-analytics-ii/healthcare/train_data.csv')\n",
    "covid_india=pd.read_csv('../input/covid19-in-india/covid_19_india.csv')\n",
    "google_playstore=pd.read_csv('../input/google-play-store-apps/googleplaystore.csv')\n",
    "iris=pd.read_csv('../input/iris/Iris.csv')\n",
    "corona_virus = pd.read_csv('../input/novel-corona-virus-2019-dataset/covid_19_data.csv')\n",
    "youtube=pd.read_csv('../input/youtube-new/USvideos.csv')\n",
    "shootings=pd.read_csv('../input/us-police-shootings/shootings.csv')"
   ]
  },
  {
   "cell_type": "markdown",
   "metadata": {
    "papermill": {
     "duration": 0.034377,
     "end_time": "2023-07-06T00:58:29.762066",
     "exception": false,
     "start_time": "2023-07-06T00:58:29.727689",
     "status": "completed"
    },
    "tags": []
   },
   "source": [
    "<a id=\"scatter_plot\"></a>\n",
    "<h1 style='background:blue; border:0; color:white'><center>Scatter Plot</center></h1>\n",
    "<a href=\"#TOC\" class=\"btn btn-primary btn-sm\" role=\"button\" aria-pressed=\"true\" style=\"color:white\" data-toggle=\"popover\">Go to TOC</a>"
   ]
  },
  {
   "cell_type": "markdown",
   "metadata": {
    "papermill": {
     "duration": 0.033965,
     "end_time": "2023-07-06T00:58:29.831409",
     "exception": false,
     "start_time": "2023-07-06T00:58:29.797444",
     "status": "completed"
    },
    "tags": []
   },
   "source": [
    "<a id=\"basic_scatter_plot\"></a>\n",
    "<h2 style='border:3px solid DodgerBlue;'><center>Basic Scatter Plot</center></h2>"
   ]
  },
  {
   "cell_type": "code",
   "execution_count": null,
   "metadata": {
    "execution": {
     "iopub.execute_input": "2023-07-06T00:58:29.904127Z",
     "iopub.status.busy": "2023-07-06T00:58:29.903636Z",
     "iopub.status.idle": "2023-07-06T00:58:30.125061Z",
     "shell.execute_reply": "2023-07-06T00:58:30.124506Z"
    },
    "papermill": {
     "duration": 0.258535,
     "end_time": "2023-07-06T00:58:30.125159",
     "exception": false,
     "start_time": "2023-07-06T00:58:29.866624",
     "status": "completed"
    },
    "tags": []
   },
   "outputs": [],
   "source": [
    "sns.scatterplot(x='SepalLengthCm', y='SepalWidthCm', data=iris)\n",
    "plt.title('Sepal Length vs. Sepal Width')"
   ]
  },
  {
   "cell_type": "markdown",
   "metadata": {
    "papermill": {
     "duration": 0.035836,
     "end_time": "2023-07-06T00:58:30.196955",
     "exception": false,
     "start_time": "2023-07-06T00:58:30.161119",
     "status": "completed"
    },
    "tags": []
   },
   "source": [
    "<a id=\"categor_scatter_plot\"></a>\n",
    "<h2 style='border:3px solid DodgerBlue;'><center>Scatter Plot - Category</center></h2>"
   ]
  },
  {
   "cell_type": "code",
   "execution_count": 1,
   "metadata": {
    "execution": {
     "iopub.execute_input": "2023-07-06T00:58:30.295572Z",
     "iopub.status.busy": "2023-07-06T00:58:30.277127Z",
     "iopub.status.idle": "2023-07-06T00:58:30.455293Z",
     "shell.execute_reply": "2023-07-06T00:58:30.454690Z"
    },
    "papermill": {
     "duration": 0.222277,
     "end_time": "2023-07-06T00:58:30.455407",
     "exception": false,
     "start_time": "2023-07-06T00:58:30.233130",
     "status": "completed"
    },
    "tags": []
   },
   "outputs": [
    {
     "ename": "NameError",
     "evalue": "name 'sns' is not defined",
     "output_type": "error",
     "traceback": [
      "\u001b[1;31m---------------------------------------------------------------------------\u001b[0m",
      "\u001b[1;31mNameError\u001b[0m                                 Traceback (most recent call last)",
      "Cell \u001b[1;32mIn[1], line 1\u001b[0m\n\u001b[1;32m----> 1\u001b[0m sns\u001b[39m.\u001b[39mscatterplot(x\u001b[39m=\u001b[39m\u001b[39m'\u001b[39m\u001b[39mSepalLengthCm\u001b[39m\u001b[39m'\u001b[39m, y\u001b[39m=\u001b[39m\u001b[39m'\u001b[39m\u001b[39mSepalWidthCm\u001b[39m\u001b[39m'\u001b[39m, hue\u001b[39m=\u001b[39m\u001b[39m'\u001b[39m\u001b[39mSpecies\u001b[39m\u001b[39m'\u001b[39m, data\u001b[39m=\u001b[39miris)\n\u001b[0;32m      2\u001b[0m plt\u001b[39m.\u001b[39mtitle(\u001b[39m'\u001b[39m\u001b[39mSepal Length vs. Sepal Width\u001b[39m\u001b[39m'\u001b[39m)\n",
      "\u001b[1;31mNameError\u001b[0m: name 'sns' is not defined"
     ]
    }
   ],
   "source": [
    "sns.scatterplot(x='SepalLengthCm', y='SepalWidthCm', hue='Species', data=iris)\n",
    "plt.title('Sepal Length vs. Sepal Width')"
   ]
  },
  {
   "cell_type": "markdown",
   "metadata": {
    "papermill": {
     "duration": 0.037234,
     "end_time": "2023-07-06T00:58:30.530650",
     "exception": false,
     "start_time": "2023-07-06T00:58:30.493416",
     "status": "completed"
    },
    "tags": []
   },
   "source": [
    "<a id=\"reg_scatter_plot\"></a>\n",
    "<h2 style='border:3px solid DodgerBlue;'><center>Scatter Plot with Regression Fit</center></h2>"
   ]
  },
  {
   "cell_type": "code",
   "execution_count": null,
   "metadata": {
    "execution": {
     "iopub.execute_input": "2023-07-06T00:58:30.622757Z",
     "iopub.status.busy": "2023-07-06T00:58:30.613320Z",
     "iopub.status.idle": "2023-07-06T00:58:30.890154Z",
     "shell.execute_reply": "2023-07-06T00:58:30.889633Z"
    },
    "papermill": {
     "duration": 0.320258,
     "end_time": "2023-07-06T00:58:30.890265",
     "exception": false,
     "start_time": "2023-07-06T00:58:30.570007",
     "status": "completed"
    },
    "tags": []
   },
   "outputs": [],
   "source": [
    "sns.regplot(x='SepalLengthCm', y='SepalWidthCm', data=iris)\n",
    "plt.title('Sepal Length vs. Sepal Width with Regression Fit')"
   ]
  },
  {
   "cell_type": "markdown",
   "metadata": {
    "papermill": {
     "duration": 0.03764,
     "end_time": "2023-07-06T00:58:30.966486",
     "exception": false,
     "start_time": "2023-07-06T00:58:30.928846",
     "status": "completed"
    },
    "tags": []
   },
   "source": [
    "<a id=\"shape_scatter_plot\"></a>\n",
    "<h2 style='border:3px solid DodgerBlue;'><center>Control shape of element in Scatter Plot</center></h2>"
   ]
  },
  {
   "cell_type": "code",
   "execution_count": null,
   "metadata": {
    "execution": {
     "iopub.execute_input": "2023-07-06T00:58:31.046594Z",
     "iopub.status.busy": "2023-07-06T00:58:31.045834Z",
     "iopub.status.idle": "2023-07-06T00:58:31.220296Z",
     "shell.execute_reply": "2023-07-06T00:58:31.220779Z"
    },
    "papermill": {
     "duration": 0.216022,
     "end_time": "2023-07-06T00:58:31.220948",
     "exception": false,
     "start_time": "2023-07-06T00:58:31.004926",
     "status": "completed"
    },
    "tags": []
   },
   "outputs": [],
   "source": [
    "sns.scatterplot(x='SepalLengthCm', y='SepalWidthCm', hue='Species', data=iris, marker='+')\n",
    "plt.title('Sepal Length vs. Sepal Width')"
   ]
  },
  {
   "cell_type": "markdown",
   "metadata": {
    "papermill": {
     "duration": 0.039128,
     "end_time": "2023-07-06T00:58:31.299527",
     "exception": false,
     "start_time": "2023-07-06T00:58:31.260399",
     "status": "completed"
    },
    "tags": []
   },
   "source": [
    "<a id=\"color_scatter_plot\"></a>\n",
    "<h2 style='border:3px solid DodgerBlue;'><center>Using color Palletes in Scatter Plot</center></h2>"
   ]
  },
  {
   "cell_type": "code",
   "execution_count": null,
   "metadata": {
    "execution": {
     "iopub.execute_input": "2023-07-06T00:58:31.380360Z",
     "iopub.status.busy": "2023-07-06T00:58:31.379642Z",
     "iopub.status.idle": "2023-07-06T00:58:35.139536Z",
     "shell.execute_reply": "2023-07-06T00:58:35.139985Z"
    },
    "papermill": {
     "duration": 3.802122,
     "end_time": "2023-07-06T00:58:35.140129",
     "exception": false,
     "start_time": "2023-07-06T00:58:31.338007",
     "status": "completed"
    },
    "tags": []
   },
   "outputs": [],
   "source": [
    "# using sequencial color scheme\n",
    "sns.scatterplot(x='Age', y='Height', hue='Sex', data=olympic, palette='Blues')\n",
    "plt.title('Age vs. Height')"
   ]
  },
  {
   "cell_type": "code",
   "execution_count": null,
   "metadata": {
    "execution": {
     "iopub.execute_input": "2023-07-06T00:58:35.227099Z",
     "iopub.status.busy": "2023-07-06T00:58:35.226447Z",
     "iopub.status.idle": "2023-07-06T00:58:39.027977Z",
     "shell.execute_reply": "2023-07-06T00:58:39.027465Z"
    },
    "papermill": {
     "duration": 3.846609,
     "end_time": "2023-07-06T00:58:39.028094",
     "exception": false,
     "start_time": "2023-07-06T00:58:35.181485",
     "status": "completed"
    },
    "tags": []
   },
   "outputs": [],
   "source": [
    "# using diverging color scheme\n",
    "sns.scatterplot(x='Age', y='Height', hue='Sex', data=olympic, palette='PuOr')\n",
    "plt.title('Age vs. Height')"
   ]
  },
  {
   "cell_type": "code",
   "execution_count": null,
   "metadata": {
    "execution": {
     "iopub.execute_input": "2023-07-06T00:58:39.121139Z",
     "iopub.status.busy": "2023-07-06T00:58:39.120032Z",
     "iopub.status.idle": "2023-07-06T00:58:42.810710Z",
     "shell.execute_reply": "2023-07-06T00:58:42.810272Z"
    },
    "papermill": {
     "duration": 3.739313,
     "end_time": "2023-07-06T00:58:42.810843",
     "exception": false,
     "start_time": "2023-07-06T00:58:39.071530",
     "status": "completed"
    },
    "tags": []
   },
   "outputs": [],
   "source": [
    "# using discrete color scheme\n",
    "sns.scatterplot(x='Age', y='Height', hue='Sex', data=olympic, palette='Set1')\n",
    "plt.title('Age vs. Height')"
   ]
  },
  {
   "cell_type": "markdown",
   "metadata": {
    "papermill": {
     "duration": 0.046194,
     "end_time": "2023-07-06T00:58:42.902287",
     "exception": false,
     "start_time": "2023-07-06T00:58:42.856093",
     "status": "completed"
    },
    "tags": []
   },
   "source": [
    "<a id=\"line_plot\"></a>\n",
    "<h1 style='background:blue; border:0; color:white'><center>Line Plot</center></h1>\n",
    "<a href=\"#TOC\" class=\"btn btn-primary btn-sm\" role=\"button\" aria-pressed=\"true\" style=\"color:white\" data-toggle=\"popover\">Go to TOC</a>"
   ]
  },
  {
   "cell_type": "markdown",
   "metadata": {
    "papermill": {
     "duration": 0.045322,
     "end_time": "2023-07-06T00:58:42.993235",
     "exception": false,
     "start_time": "2023-07-06T00:58:42.947913",
     "status": "completed"
    },
    "tags": []
   },
   "source": [
    "<a id=\"basic_line_plot\"></a>\n",
    "<h2 style='border:3px solid DodgerBlue;'><center>Basic Line Plot</center></h2>"
   ]
  },
  {
   "cell_type": "code",
   "execution_count": null,
   "metadata": {
    "execution": {
     "iopub.execute_input": "2023-07-06T00:58:43.088938Z",
     "iopub.status.busy": "2023-07-06T00:58:43.088413Z",
     "iopub.status.idle": "2023-07-06T00:58:45.639399Z",
     "shell.execute_reply": "2023-07-06T00:58:45.639868Z"
    },
    "papermill": {
     "duration": 2.601124,
     "end_time": "2023-07-06T00:58:45.639991",
     "exception": false,
     "start_time": "2023-07-06T00:58:43.038867",
     "status": "completed"
    },
    "tags": []
   },
   "outputs": [],
   "source": [
    "sns.lineplot(x='Age', y='Height', data=olympic)"
   ]
  },
  {
   "cell_type": "markdown",
   "metadata": {
    "papermill": {
     "duration": 0.04808,
     "end_time": "2023-07-06T00:58:45.735103",
     "exception": false,
     "start_time": "2023-07-06T00:58:45.687023",
     "status": "completed"
    },
    "tags": []
   },
   "source": [
    "<a id=\"category_line_plot\"></a>\n",
    "<h2 style='border:3px solid DodgerBlue;'><center>Line Plot - Category</center></h2>"
   ]
  },
  {
   "cell_type": "code",
   "execution_count": null,
   "metadata": {
    "execution": {
     "iopub.execute_input": "2023-07-06T00:58:45.835311Z",
     "iopub.status.busy": "2023-07-06T00:58:45.834819Z",
     "iopub.status.idle": "2023-07-06T00:58:49.392931Z",
     "shell.execute_reply": "2023-07-06T00:58:49.392290Z"
    },
    "papermill": {
     "duration": 3.610195,
     "end_time": "2023-07-06T00:58:49.393053",
     "exception": false,
     "start_time": "2023-07-06T00:58:45.782858",
     "status": "completed"
    },
    "tags": []
   },
   "outputs": [],
   "source": [
    "sns.lineplot(x='Age', y='Height', data=olympic, hue='Sex')"
   ]
  },
  {
   "cell_type": "code",
   "execution_count": null,
   "metadata": {
    "execution": {
     "iopub.execute_input": "2023-07-06T00:58:49.501537Z",
     "iopub.status.busy": "2023-07-06T00:58:49.500295Z",
     "iopub.status.idle": "2023-07-06T00:58:49.795481Z",
     "shell.execute_reply": "2023-07-06T00:58:49.794993Z"
    },
    "papermill": {
     "duration": 0.353064,
     "end_time": "2023-07-06T00:58:49.795586",
     "exception": false,
     "start_time": "2023-07-06T00:58:49.442522",
     "status": "completed"
    },
    "tags": []
   },
   "outputs": [],
   "source": [
    "sns.lineplot(x='Age', y='Height', data=olympic, estimator=None)"
   ]
  },
  {
   "cell_type": "markdown",
   "metadata": {
    "papermill": {
     "duration": 0.050497,
     "end_time": "2023-07-06T00:58:49.895537",
     "exception": false,
     "start_time": "2023-07-06T00:58:49.845040",
     "status": "completed"
    },
    "tags": []
   },
   "source": [
    "<a id=\"histogram\"></a>\n",
    "<h1 style='background:blue; border:0; color:white'><center>Histogram Plot</center></h1>\n",
    "<a href=\"#TOC\" class=\"btn btn-primary btn-sm\" role=\"button\" aria-pressed=\"true\" style=\"color:white\" data-toggle=\"popover\">Go to TOC</a>"
   ]
  },
  {
   "cell_type": "markdown",
   "metadata": {
    "papermill": {
     "duration": 0.049802,
     "end_time": "2023-07-06T00:58:49.995758",
     "exception": false,
     "start_time": "2023-07-06T00:58:49.945956",
     "status": "completed"
    },
    "tags": []
   },
   "source": [
    "<a id=\"basic_histogram_plot\"></a>\n",
    "<h2 style='border:3px solid DodgerBlue;'><center>Basic Histogram Plot</center></h2>"
   ]
  },
  {
   "cell_type": "code",
   "execution_count": null,
   "metadata": {
    "execution": {
     "iopub.execute_input": "2023-07-06T00:58:50.100633Z",
     "iopub.status.busy": "2023-07-06T00:58:50.099999Z",
     "iopub.status.idle": "2023-07-06T00:58:50.325691Z",
     "shell.execute_reply": "2023-07-06T00:58:50.325243Z"
    },
    "papermill": {
     "duration": 0.280254,
     "end_time": "2023-07-06T00:58:50.325817",
     "exception": false,
     "start_time": "2023-07-06T00:58:50.045563",
     "status": "completed"
    },
    "tags": []
   },
   "outputs": [],
   "source": [
    "f, ax = plt.subplots(figsize=(7, 5))\n",
    "sns.despine(f)\n",
    "sns.distplot(olympic['Age'])"
   ]
  },
  {
   "cell_type": "markdown",
   "metadata": {
    "papermill": {
     "duration": 0.050493,
     "end_time": "2023-07-06T00:58:50.426620",
     "exception": false,
     "start_time": "2023-07-06T00:58:50.376127",
     "status": "completed"
    },
    "tags": []
   },
   "source": [
    "<a id=\"bins_histogram_plot\"></a>\n",
    "<h2 style='border:3px solid DodgerBlue;'><center>Histogram Plot : Control Number of Bins</center></h2>"
   ]
  },
  {
   "cell_type": "code",
   "execution_count": null,
   "metadata": {
    "execution": {
     "iopub.execute_input": "2023-07-06T00:58:50.539772Z",
     "iopub.status.busy": "2023-07-06T00:58:50.537589Z",
     "iopub.status.idle": "2023-07-06T00:58:50.707686Z",
     "shell.execute_reply": "2023-07-06T00:58:50.707183Z"
    },
    "papermill": {
     "duration": 0.230036,
     "end_time": "2023-07-06T00:58:50.707813",
     "exception": false,
     "start_time": "2023-07-06T00:58:50.477777",
     "status": "completed"
    },
    "tags": []
   },
   "outputs": [],
   "source": [
    "f, ax = plt.subplots(figsize=(7, 5))\n",
    "sns.despine(f)\n",
    "sns.distplot(olympic['Age'], bins=20)"
   ]
  },
  {
   "cell_type": "markdown",
   "metadata": {
    "papermill": {
     "duration": 0.052051,
     "end_time": "2023-07-06T00:58:50.811611",
     "exception": false,
     "start_time": "2023-07-06T00:58:50.759560",
     "status": "completed"
    },
    "tags": []
   },
   "source": [
    "<a id=\"kde_histogram_plot\"></a>\n",
    "<h2 style='border:3px solid DodgerBlue;'><center>Histogram Plot : Control Density</center></h2>"
   ]
  },
  {
   "cell_type": "code",
   "execution_count": null,
   "metadata": {
    "execution": {
     "iopub.execute_input": "2023-07-06T00:58:50.931157Z",
     "iopub.status.busy": "2023-07-06T00:58:50.930402Z",
     "iopub.status.idle": "2023-07-06T00:58:51.134953Z",
     "shell.execute_reply": "2023-07-06T00:58:51.134368Z"
    },
    "papermill": {
     "duration": 0.271332,
     "end_time": "2023-07-06T00:58:51.135061",
     "exception": false,
     "start_time": "2023-07-06T00:58:50.863729",
     "status": "completed"
    },
    "tags": []
   },
   "outputs": [],
   "source": [
    "f, ax = plt.subplots(figsize=(7, 5))\n",
    "sns.despine(f)\n",
    "sns.distplot(olympic['Age'], kde=False)"
   ]
  },
  {
   "cell_type": "markdown",
   "metadata": {
    "papermill": {
     "duration": 0.094108,
     "end_time": "2023-07-06T00:58:51.282161",
     "exception": false,
     "start_time": "2023-07-06T00:58:51.188053",
     "status": "completed"
    },
    "tags": []
   },
   "source": [
    "<a id=\"1D_density_plot\"></a>\n",
    "<h1 style='background:blue; border:0; color:white'><center>1D Density Plot</center></h1>\n",
    "<a href=\"#TOC\" class=\"btn btn-primary btn-sm\" role=\"button\" aria-pressed=\"true\" style=\"color:white\" data-toggle=\"popover\">Go to TOC</a>"
   ]
  },
  {
   "cell_type": "markdown",
   "metadata": {
    "papermill": {
     "duration": 0.05436,
     "end_time": "2023-07-06T00:58:51.389614",
     "exception": false,
     "start_time": "2023-07-06T00:58:51.335254",
     "status": "completed"
    },
    "tags": []
   },
   "source": [
    "<a id=\"basic_1D_density_plot\"></a>\n",
    "<h2 style='border:3px solid DodgerBlue;'><center>Basic 1D Density Plot</center></h2>"
   ]
  },
  {
   "cell_type": "code",
   "execution_count": null,
   "metadata": {
    "execution": {
     "iopub.execute_input": "2023-07-06T00:58:51.498129Z",
     "iopub.status.busy": "2023-07-06T00:58:51.497504Z",
     "iopub.status.idle": "2023-07-06T00:58:51.627858Z",
     "shell.execute_reply": "2023-07-06T00:58:51.627334Z"
    },
    "papermill": {
     "duration": 0.185791,
     "end_time": "2023-07-06T00:58:51.627982",
     "exception": false,
     "start_time": "2023-07-06T00:58:51.442191",
     "status": "completed"
    },
    "tags": []
   },
   "outputs": [],
   "source": [
    "f, ax = plt.subplots(figsize=(7, 5))\n",
    "sns.despine(f)\n",
    "sns.kdeplot(iris['PetalLengthCm'])"
   ]
  },
  {
   "cell_type": "markdown",
   "metadata": {
    "papermill": {
     "duration": 0.054022,
     "end_time": "2023-07-06T00:58:51.738534",
     "exception": false,
     "start_time": "2023-07-06T00:58:51.684512",
     "status": "completed"
    },
    "tags": []
   },
   "source": [
    "<a id=\"shade_density_plot\"></a>\n",
    "<h2 style='border:3px solid DodgerBlue;'><center>Density Plot with Shade</center></h2>"
   ]
  },
  {
   "cell_type": "code",
   "execution_count": null,
   "metadata": {
    "execution": {
     "iopub.execute_input": "2023-07-06T00:58:51.852270Z",
     "iopub.status.busy": "2023-07-06T00:58:51.851490Z",
     "iopub.status.idle": "2023-07-06T00:58:51.970816Z",
     "shell.execute_reply": "2023-07-06T00:58:51.971237Z"
    },
    "papermill": {
     "duration": 0.178717,
     "end_time": "2023-07-06T00:58:51.971379",
     "exception": false,
     "start_time": "2023-07-06T00:58:51.792662",
     "status": "completed"
    },
    "tags": []
   },
   "outputs": [],
   "source": [
    "f, ax = plt.subplots(figsize=(7, 5))\n",
    "sns.despine(f)\n",
    "sns.kdeplot(iris['PetalLengthCm'], shade=True)"
   ]
  },
  {
   "cell_type": "markdown",
   "metadata": {
    "papermill": {
     "duration": 0.055519,
     "end_time": "2023-07-06T00:58:52.081478",
     "exception": false,
     "start_time": "2023-07-06T00:58:52.025959",
     "status": "completed"
    },
    "tags": []
   },
   "source": [
    "<a id=\"horizontal_density_plot\"></a>\n",
    "<h2 style='border:3px solid DodgerBlue;'><center>Horizontal Density Plot</center></h2>"
   ]
  },
  {
   "cell_type": "code",
   "execution_count": null,
   "metadata": {
    "execution": {
     "iopub.execute_input": "2023-07-06T00:58:52.197130Z",
     "iopub.status.busy": "2023-07-06T00:58:52.196540Z",
     "iopub.status.idle": "2023-07-06T00:58:52.311064Z",
     "shell.execute_reply": "2023-07-06T00:58:52.311561Z"
    },
    "papermill": {
     "duration": 0.173901,
     "end_time": "2023-07-06T00:58:52.311700",
     "exception": false,
     "start_time": "2023-07-06T00:58:52.137799",
     "status": "completed"
    },
    "tags": []
   },
   "outputs": [],
   "source": [
    "f, ax = plt.subplots(figsize=(7, 5))\n",
    "sns.despine(f)\n",
    "sns.kdeplot(iris['PetalWidthCm'], vertical=True)"
   ]
  },
  {
   "cell_type": "markdown",
   "metadata": {
    "papermill": {
     "duration": 0.056398,
     "end_time": "2023-07-06T00:58:52.424392",
     "exception": false,
     "start_time": "2023-07-06T00:58:52.367994",
     "status": "completed"
    },
    "tags": []
   },
   "source": [
    "<a id=\"horizontal_shade_density_plot\"></a>\n",
    "<h2 style='border:3px solid DodgerBlue;'><center>Horizontal Density Plot with Shade</center></h2>"
   ]
  },
  {
   "cell_type": "code",
   "execution_count": null,
   "metadata": {
    "execution": {
     "iopub.execute_input": "2023-07-06T00:58:52.540507Z",
     "iopub.status.busy": "2023-07-06T00:58:52.539980Z",
     "iopub.status.idle": "2023-07-06T00:58:52.655827Z",
     "shell.execute_reply": "2023-07-06T00:58:52.656319Z"
    },
    "papermill": {
     "duration": 0.175778,
     "end_time": "2023-07-06T00:58:52.656451",
     "exception": false,
     "start_time": "2023-07-06T00:58:52.480673",
     "status": "completed"
    },
    "tags": []
   },
   "outputs": [],
   "source": [
    "f, ax = plt.subplots(figsize=(7, 5))\n",
    "sns.despine(f)\n",
    "sns.kdeplot(iris['PetalWidthCm'], vertical=True, shade=True)"
   ]
  },
  {
   "cell_type": "markdown",
   "metadata": {
    "papermill": {
     "duration": 0.057322,
     "end_time": "2023-07-06T00:58:52.770714",
     "exception": false,
     "start_time": "2023-07-06T00:58:52.713392",
     "status": "completed"
    },
    "tags": []
   },
   "source": [
    "<a id=\"multiple_density_plot\"></a>\n",
    "<h2 style='border:3px solid DodgerBlue;'><center>Multi Variable Density Plot</center></h2>"
   ]
  },
  {
   "cell_type": "code",
   "execution_count": null,
   "metadata": {
    "execution": {
     "iopub.execute_input": "2023-07-06T00:58:52.888849Z",
     "iopub.status.busy": "2023-07-06T00:58:52.888347Z",
     "iopub.status.idle": "2023-07-06T00:58:53.015663Z",
     "shell.execute_reply": "2023-07-06T00:58:53.016189Z"
    },
    "papermill": {
     "duration": 0.188003,
     "end_time": "2023-07-06T00:58:53.016328",
     "exception": false,
     "start_time": "2023-07-06T00:58:52.828325",
     "status": "completed"
    },
    "tags": []
   },
   "outputs": [],
   "source": [
    "f, ax = plt.subplots(figsize=(7, 5))\n",
    "sns.despine(f)\n",
    "sns.kdeplot(iris['PetalWidthCm'], shade=True)\n",
    "sns.kdeplot(iris['PetalLengthCm'], shade=True)\n",
    "plt.show()"
   ]
  },
  {
   "cell_type": "markdown",
   "metadata": {
    "papermill": {
     "duration": 0.057927,
     "end_time": "2023-07-06T00:58:53.133007",
     "exception": false,
     "start_time": "2023-07-06T00:58:53.075080",
     "status": "completed"
    },
    "tags": []
   },
   "source": [
    "<a id=\"multiple_density_plot\"></a>\n",
    "<h2 style='border:3px solid DodgerBlue;'><center>Multi Variable Density Plot: Customize Color</center></h2>"
   ]
  },
  {
   "cell_type": "code",
   "execution_count": null,
   "metadata": {
    "execution": {
     "iopub.execute_input": "2023-07-06T00:58:53.251824Z",
     "iopub.status.busy": "2023-07-06T00:58:53.251268Z",
     "iopub.status.idle": "2023-07-06T00:58:53.394503Z",
     "shell.execute_reply": "2023-07-06T00:58:53.395000Z"
    },
    "papermill": {
     "duration": 0.204312,
     "end_time": "2023-07-06T00:58:53.395131",
     "exception": false,
     "start_time": "2023-07-06T00:58:53.190819",
     "status": "completed"
    },
    "tags": []
   },
   "outputs": [],
   "source": [
    "f, ax = plt.subplots(figsize=(7, 5))\n",
    "sns.despine(f)\n",
    "sns.kdeplot(iris['SepalLengthCm'], shade=True, color='r')\n",
    "sns.kdeplot(iris['SepalWidthCm'], shade=True, color='m')\n",
    "plt.show()"
   ]
  },
  {
   "cell_type": "markdown",
   "metadata": {
    "papermill": {
     "duration": 0.059017,
     "end_time": "2023-07-06T00:58:53.512505",
     "exception": false,
     "start_time": "2023-07-06T00:58:53.453488",
     "status": "completed"
    },
    "tags": []
   },
   "source": [
    "<a id=\"2D_density_plot\"></a>\n",
    "<h1 style='background:blue; border:0; color:white'><center>2D Density Plot</center></h1>\n",
    "<a href=\"#TOC\" class=\"btn btn-primary btn-sm\" role=\"button\" aria-pressed=\"true\" style=\"color:white\" data-toggle=\"popover\">Go to TOC</a>"
   ]
  },
  {
   "cell_type": "markdown",
   "metadata": {
    "papermill": {
     "duration": 0.05802,
     "end_time": "2023-07-06T00:58:53.630733",
     "exception": false,
     "start_time": "2023-07-06T00:58:53.572713",
     "status": "completed"
    },
    "tags": []
   },
   "source": [
    "<a id=\"basic_2d_density_plot\"></a>\n",
    "<h2 style='border:3px solid DodgerBlue;'><center>Basic 2D Density Plot</center></h2>"
   ]
  },
  {
   "cell_type": "code",
   "execution_count": null,
   "metadata": {
    "execution": {
     "iopub.execute_input": "2023-07-06T00:58:53.754655Z",
     "iopub.status.busy": "2023-07-06T00:58:53.754054Z",
     "iopub.status.idle": "2023-07-06T00:58:54.489960Z",
     "shell.execute_reply": "2023-07-06T00:58:54.489382Z"
    },
    "papermill": {
     "duration": 0.797458,
     "end_time": "2023-07-06T00:58:54.490067",
     "exception": false,
     "start_time": "2023-07-06T00:58:53.692609",
     "status": "completed"
    },
    "tags": []
   },
   "outputs": [],
   "source": [
    "sns.kdeplot(iris['SepalLengthCm'], iris['SepalWidthCm'])\n",
    "plt.title(\"Sepal Length vs Sepal Width 2D Density Plot\")"
   ]
  },
  {
   "cell_type": "code",
   "execution_count": null,
   "metadata": {
    "execution": {
     "iopub.execute_input": "2023-07-06T00:58:54.620216Z",
     "iopub.status.busy": "2023-07-06T00:58:54.619574Z",
     "iopub.status.idle": "2023-07-06T00:58:55.233965Z",
     "shell.execute_reply": "2023-07-06T00:58:55.233497Z"
    },
    "papermill": {
     "duration": 0.682319,
     "end_time": "2023-07-06T00:58:55.234090",
     "exception": false,
     "start_time": "2023-07-06T00:58:54.551771",
     "status": "completed"
    },
    "tags": []
   },
   "outputs": [],
   "source": [
    "sns.kdeplot(iris['SepalLengthCm'], iris['SepalWidthCm'], cmap=\"Reds\", shade=True, bw=.15)"
   ]
  },
  {
   "cell_type": "code",
   "execution_count": null,
   "metadata": {
    "execution": {
     "iopub.execute_input": "2023-07-06T00:58:55.362150Z",
     "iopub.status.busy": "2023-07-06T00:58:55.361537Z",
     "iopub.status.idle": "2023-07-06T00:58:55.968650Z",
     "shell.execute_reply": "2023-07-06T00:58:55.968147Z"
    },
    "papermill": {
     "duration": 0.673056,
     "end_time": "2023-07-06T00:58:55.968746",
     "exception": false,
     "start_time": "2023-07-06T00:58:55.295690",
     "status": "completed"
    },
    "tags": []
   },
   "outputs": [],
   "source": [
    "sns.kdeplot(iris['SepalLengthCm'], iris['SepalWidthCm'], cmap=\"Blues\", shade=True, shade_lowest=True, )"
   ]
  },
  {
   "cell_type": "markdown",
   "metadata": {
    "papermill": {
     "duration": 0.062318,
     "end_time": "2023-07-06T00:58:56.093456",
     "exception": false,
     "start_time": "2023-07-06T00:58:56.031138",
     "status": "completed"
    },
    "tags": []
   },
   "source": [
    "<a id=\"bar_plot\"></a>\n",
    "<h1 style='background:blue; border:0; color:white'><center>Bar Plot</center></h1>\n",
    "<a href=\"#TOC\" class=\"btn btn-primary btn-sm\" role=\"button\" aria-pressed=\"true\" style=\"color:white\" data-toggle=\"popover\">Go to TOC</a>"
   ]
  },
  {
   "cell_type": "markdown",
   "metadata": {
    "papermill": {
     "duration": 0.062531,
     "end_time": "2023-07-06T00:58:56.219663",
     "exception": false,
     "start_time": "2023-07-06T00:58:56.157132",
     "status": "completed"
    },
    "tags": []
   },
   "source": [
    "<a id=\"basic_bar_plot\"></a>\n",
    "<h2 style='border:3px solid DodgerBlue;'><center>Basic Bar Plot</center></h2>"
   ]
  },
  {
   "cell_type": "code",
   "execution_count": null,
   "metadata": {
    "execution": {
     "iopub.execute_input": "2023-07-06T00:58:56.362858Z",
     "iopub.status.busy": "2023-07-06T00:58:56.349465Z",
     "iopub.status.idle": "2023-07-06T00:58:56.517757Z",
     "shell.execute_reply": "2023-07-06T00:58:56.517194Z"
    },
    "papermill": {
     "duration": 0.235148,
     "end_time": "2023-07-06T00:58:56.517884",
     "exception": false,
     "start_time": "2023-07-06T00:58:56.282736",
     "status": "completed"
    },
    "tags": []
   },
   "outputs": [],
   "source": [
    "f, ax = plt.subplots(figsize=(7, 5))\n",
    "sns.despine(f)\n",
    "sns.barplot(x='Species', y='SepalLengthCm', data=iris, palette='magma')"
   ]
  },
  {
   "cell_type": "markdown",
   "metadata": {
    "papermill": {
     "duration": 0.078789,
     "end_time": "2023-07-06T00:58:56.667171",
     "exception": false,
     "start_time": "2023-07-06T00:58:56.588382",
     "status": "completed"
    },
    "tags": []
   },
   "source": [
    "<a id=\"horizontal_bar_plot\"></a>\n",
    "<h2 style='border:3px solid DodgerBlue;'><center>Horizontal Bar Plot</center></h2>"
   ]
  },
  {
   "cell_type": "code",
   "execution_count": null,
   "metadata": {
    "execution": {
     "iopub.execute_input": "2023-07-06T00:58:56.799760Z",
     "iopub.status.busy": "2023-07-06T00:58:56.799185Z",
     "iopub.status.idle": "2023-07-06T00:58:56.958722Z",
     "shell.execute_reply": "2023-07-06T00:58:56.959164Z"
    },
    "papermill": {
     "duration": 0.226732,
     "end_time": "2023-07-06T00:58:56.959302",
     "exception": false,
     "start_time": "2023-07-06T00:58:56.732570",
     "status": "completed"
    },
    "tags": []
   },
   "outputs": [],
   "source": [
    "f, ax = plt.subplots(figsize=(7, 5))\n",
    "sns.despine(f)\n",
    "sns.barplot(x='SepalLengthCm', y='Species', data=iris, palette='magma', orient='h')"
   ]
  },
  {
   "cell_type": "markdown",
   "metadata": {
    "papermill": {
     "duration": 0.064085,
     "end_time": "2023-07-06T00:58:57.087814",
     "exception": false,
     "start_time": "2023-07-06T00:58:57.023729",
     "status": "completed"
    },
    "tags": []
   },
   "source": [
    "<a id=\"box_plot\"></a>\n",
    "<h1 style='background:blue; border:0; color:white'><center>Box Plot</center></h1>\n",
    "<a href=\"#TOC\" class=\"btn btn-primary btn-sm\" role=\"button\" aria-pressed=\"true\" style=\"color:white\" data-toggle=\"popover\">Go to TOC</a>"
   ]
  },
  {
   "cell_type": "code",
   "execution_count": null,
   "metadata": {
    "execution": {
     "iopub.execute_input": "2023-07-06T00:58:57.219908Z",
     "iopub.status.busy": "2023-07-06T00:58:57.219324Z",
     "iopub.status.idle": "2023-07-06T00:58:57.333065Z",
     "shell.execute_reply": "2023-07-06T00:58:57.332498Z"
    },
    "papermill": {
     "duration": 0.181533,
     "end_time": "2023-07-06T00:58:57.333198",
     "exception": false,
     "start_time": "2023-07-06T00:58:57.151665",
     "status": "completed"
    },
    "tags": []
   },
   "outputs": [],
   "source": [
    "sns.boxplot(y=olympic['Age'])\n",
    "plt.show()"
   ]
  },
  {
   "cell_type": "markdown",
   "metadata": {
    "papermill": {
     "duration": 0.066044,
     "end_time": "2023-07-06T00:58:57.465551",
     "exception": false,
     "start_time": "2023-07-06T00:58:57.399507",
     "status": "completed"
    },
    "tags": []
   },
   "source": [
    "<a id=\"category_box_plot\"></a>\n",
    "<h2 style='border:3px solid DodgerBlue;'><center>Box Plot - Category</center></h2>"
   ]
  },
  {
   "cell_type": "code",
   "execution_count": null,
   "metadata": {
    "execution": {
     "iopub.execute_input": "2023-07-06T00:58:57.605609Z",
     "iopub.status.busy": "2023-07-06T00:58:57.604883Z",
     "iopub.status.idle": "2023-07-06T00:58:57.742128Z",
     "shell.execute_reply": "2023-07-06T00:58:57.742699Z"
    },
    "papermill": {
     "duration": 0.212034,
     "end_time": "2023-07-06T00:58:57.742861",
     "exception": false,
     "start_time": "2023-07-06T00:58:57.530827",
     "status": "completed"
    },
    "tags": []
   },
   "outputs": [],
   "source": [
    "sns.boxplot(x=olympic['Sex'], y=olympic['Height'])\n",
    "plt.show()"
   ]
  },
  {
   "cell_type": "markdown",
   "metadata": {
    "papermill": {
     "duration": 0.067399,
     "end_time": "2023-07-06T00:58:57.877460",
     "exception": false,
     "start_time": "2023-07-06T00:58:57.810061",
     "status": "completed"
    },
    "tags": []
   },
   "source": [
    "<a id=\"heatmap_plot\"></a>\n",
    "<h1 style='background:blue; border:0; color:white'><center>Heatmap</center></h1>\n",
    "<a href=\"#TOC\" class=\"btn btn-primary btn-sm\" role=\"button\" aria-pressed=\"true\" style=\"color:white\" data-toggle=\"popover\">Go to TOC</a>"
   ]
  },
  {
   "cell_type": "code",
   "execution_count": null,
   "metadata": {
    "execution": {
     "iopub.execute_input": "2023-07-06T00:58:58.013346Z",
     "iopub.status.busy": "2023-07-06T00:58:58.012766Z",
     "iopub.status.idle": "2023-07-06T00:58:58.185053Z",
     "shell.execute_reply": "2023-07-06T00:58:58.184448Z"
    },
    "papermill": {
     "duration": 0.240657,
     "end_time": "2023-07-06T00:58:58.185157",
     "exception": false,
     "start_time": "2023-07-06T00:58:57.944500",
     "status": "completed"
    },
    "tags": []
   },
   "outputs": [],
   "source": [
    "sns.heatmap(iris.drop(['Id'], axis=1).corr())"
   ]
  },
  {
   "cell_type": "markdown",
   "metadata": {
    "papermill": {
     "duration": 0.066089,
     "end_time": "2023-07-06T00:58:58.317714",
     "exception": false,
     "start_time": "2023-07-06T00:58:58.251625",
     "status": "completed"
    },
    "tags": []
   },
   "source": [
    "<a id=\"violin_plot\"></a>\n",
    "<h1 style='background:blue; border:0; color:white'><center>Violin Plot</center></h1>\n",
    "<a href=\"#TOC\" class=\"btn btn-primary btn-sm\" role=\"button\" aria-pressed=\"true\" style=\"color:white\" data-toggle=\"popover\">Go to TOC</a>"
   ]
  },
  {
   "cell_type": "markdown",
   "metadata": {
    "papermill": {
     "duration": 0.068229,
     "end_time": "2023-07-06T00:58:58.452709",
     "exception": false,
     "start_time": "2023-07-06T00:58:58.384480",
     "status": "completed"
    },
    "tags": []
   },
   "source": [
    "<a id=\"basic_violin_plot\"></a>\n",
    "<h2 style='border:3px solid DodgerBlue;'><center>Basic Violin Plot</center></h2>"
   ]
  },
  {
   "cell_type": "code",
   "execution_count": null,
   "metadata": {
    "execution": {
     "iopub.execute_input": "2023-07-06T00:58:58.593572Z",
     "iopub.status.busy": "2023-07-06T00:58:58.592964Z",
     "iopub.status.idle": "2023-07-06T00:58:58.704382Z",
     "shell.execute_reply": "2023-07-06T00:58:58.703933Z"
    },
    "papermill": {
     "duration": 0.184655,
     "end_time": "2023-07-06T00:58:58.704495",
     "exception": false,
     "start_time": "2023-07-06T00:58:58.519840",
     "status": "completed"
    },
    "tags": []
   },
   "outputs": [],
   "source": [
    "sns.violinplot(y=shootings['age'])"
   ]
  },
  {
   "cell_type": "markdown",
   "metadata": {
    "papermill": {
     "duration": 0.068787,
     "end_time": "2023-07-06T00:58:58.841959",
     "exception": false,
     "start_time": "2023-07-06T00:58:58.773172",
     "status": "completed"
    },
    "tags": []
   },
   "source": [
    "<a id=\"category_violin_plot\"></a>\n",
    "<h2 style='border:3px solid DodgerBlue;'><center>Violin Plot - Category</center></h2>"
   ]
  },
  {
   "cell_type": "code",
   "execution_count": null,
   "metadata": {
    "execution": {
     "iopub.execute_input": "2023-07-06T00:58:58.982364Z",
     "iopub.status.busy": "2023-07-06T00:58:58.981635Z",
     "iopub.status.idle": "2023-07-06T00:58:59.101056Z",
     "shell.execute_reply": "2023-07-06T00:58:59.100475Z"
    },
    "papermill": {
     "duration": 0.191543,
     "end_time": "2023-07-06T00:58:59.101188",
     "exception": false,
     "start_time": "2023-07-06T00:58:58.909645",
     "status": "completed"
    },
    "tags": []
   },
   "outputs": [],
   "source": [
    "sns.violinplot(x=shootings['gender'], y=shootings['age'])"
   ]
  },
  {
   "cell_type": "markdown",
   "metadata": {
    "papermill": {
     "duration": 0.067986,
     "end_time": "2023-07-06T00:58:59.237900",
     "exception": false,
     "start_time": "2023-07-06T00:58:59.169914",
     "status": "completed"
    },
    "tags": []
   },
   "source": [
    "<a id=\"horizontal_violin_plot\"></a>\n",
    "<h2 style='border:3px solid DodgerBlue;'><center>Horizontal Violin Plot</center></h2>"
   ]
  },
  {
   "cell_type": "code",
   "execution_count": null,
   "metadata": {
    "execution": {
     "iopub.execute_input": "2023-07-06T00:58:59.380402Z",
     "iopub.status.busy": "2023-07-06T00:58:59.379475Z",
     "iopub.status.idle": "2023-07-06T00:58:59.484477Z",
     "shell.execute_reply": "2023-07-06T00:58:59.483908Z"
    },
    "papermill": {
     "duration": 0.178197,
     "end_time": "2023-07-06T00:58:59.484601",
     "exception": false,
     "start_time": "2023-07-06T00:58:59.306404",
     "status": "completed"
    },
    "tags": []
   },
   "outputs": [],
   "source": [
    "sns.violinplot(x=shootings['age'])"
   ]
  },
  {
   "cell_type": "markdown",
   "metadata": {
    "papermill": {
     "duration": 0.076821,
     "end_time": "2023-07-06T00:58:59.635260",
     "exception": false,
     "start_time": "2023-07-06T00:58:59.558439",
     "status": "completed"
    },
    "tags": []
   },
   "source": [
    "<a id=\"category_horizontal_violin_plot\"></a>\n",
    "<h2 style='border:3px solid DodgerBlue;'><center>Horizontal Violin Plot - Category</center></h2>"
   ]
  },
  {
   "cell_type": "code",
   "execution_count": null,
   "metadata": {
    "execution": {
     "iopub.execute_input": "2023-07-06T00:58:59.781504Z",
     "iopub.status.busy": "2023-07-06T00:58:59.780991Z",
     "iopub.status.idle": "2023-07-06T00:58:59.906637Z",
     "shell.execute_reply": "2023-07-06T00:58:59.906002Z"
    },
    "papermill": {
     "duration": 0.200157,
     "end_time": "2023-07-06T00:58:59.906765",
     "exception": false,
     "start_time": "2023-07-06T00:58:59.706608",
     "status": "completed"
    },
    "tags": []
   },
   "outputs": [],
   "source": [
    "sns.violinplot(y=shootings['gender'], x=shootings['age'])"
   ]
  },
  {
   "cell_type": "code",
   "execution_count": null,
   "metadata": {
    "execution": {
     "iopub.execute_input": "2023-07-06T00:59:00.060646Z",
     "iopub.status.busy": "2023-07-06T00:59:00.060114Z",
     "iopub.status.idle": "2023-07-06T00:59:00.184424Z",
     "shell.execute_reply": "2023-07-06T00:59:00.183872Z"
    },
    "papermill": {
     "duration": 0.201965,
     "end_time": "2023-07-06T00:59:00.184534",
     "exception": false,
     "start_time": "2023-07-06T00:58:59.982569",
     "status": "completed"
    },
    "tags": []
   },
   "outputs": [],
   "source": [
    "sns.violinplot(data=iris.iloc[:,1:5])"
   ]
  },
  {
   "cell_type": "markdown",
   "metadata": {
    "papermill": {
     "duration": 0.072391,
     "end_time": "2023-07-06T00:59:00.331526",
     "exception": false,
     "start_time": "2023-07-06T00:59:00.259135",
     "status": "completed"
    },
    "tags": []
   },
   "source": [
    "<a id=\"seaborn_themes\"></a>\n",
    "<h1 style='background:blue; border:0; color:white'><center>Seaborn Themes</center></h1>\n",
    "<a href=\"#TOC\" class=\"btn btn-primary btn-sm\" role=\"button\" aria-pressed=\"true\" style=\"color:white\" data-toggle=\"popover\">Go to TOC</a>"
   ]
  },
  {
   "cell_type": "markdown",
   "metadata": {
    "papermill": {
     "duration": 0.073759,
     "end_time": "2023-07-06T00:59:00.477925",
     "exception": false,
     "start_time": "2023-07-06T00:59:00.404166",
     "status": "completed"
    },
    "tags": []
   },
   "source": [
    "Seaborn has five built-in themes to style its plots: `darkgrid`, `whitegrid`, `dark`, `white`, and `ticks`. Seaborn defaults to using the darkgrid theme for its plots, but you can change this styling to better suit your presentation needs.\n",
    "\n",
    "To use any of the preset themes pass the name of it to `sns.set_style()`."
   ]
  },
  {
   "cell_type": "markdown",
   "metadata": {
    "papermill": {
     "duration": 0.071799,
     "end_time": "2023-07-06T00:59:00.623152",
     "exception": false,
     "start_time": "2023-07-06T00:59:00.551353",
     "status": "completed"
    },
    "tags": []
   },
   "source": [
    "<a id=\"darkgrid\"></a>\n",
    "<h2 style='border:3px solid DodgerBlue;'><center>Seaborn Dark Grid Theme</center></h2>"
   ]
  },
  {
   "cell_type": "code",
   "execution_count": null,
   "metadata": {
    "execution": {
     "iopub.execute_input": "2023-07-06T00:59:00.778929Z",
     "iopub.status.busy": "2023-07-06T00:59:00.777225Z",
     "iopub.status.idle": "2023-07-06T00:59:01.018162Z",
     "shell.execute_reply": "2023-07-06T00:59:01.018557Z"
    },
    "papermill": {
     "duration": 0.321004,
     "end_time": "2023-07-06T00:59:01.018688",
     "exception": false,
     "start_time": "2023-07-06T00:59:00.697684",
     "status": "completed"
    },
    "tags": []
   },
   "outputs": [],
   "source": [
    "sns.set_style(\"darkgrid\")\n",
    "sns.scatterplot(x='SepalLengthCm', y='SepalWidthCm', data=iris)\n",
    "plt.title(\"Seaborn Dark Grid Theme\")"
   ]
  },
  {
   "cell_type": "markdown",
   "metadata": {
    "papermill": {
     "duration": 0.072697,
     "end_time": "2023-07-06T00:59:01.166831",
     "exception": false,
     "start_time": "2023-07-06T00:59:01.094134",
     "status": "completed"
    },
    "tags": []
   },
   "source": [
    "<a id=\"dark\"></a>\n",
    "<h1 style='border:3px solid DodgerBlue;'><center>Seaborn Dark Theme</center><h1>"
   ]
  },
  {
   "cell_type": "code",
   "execution_count": null,
   "metadata": {
    "execution": {
     "iopub.execute_input": "2023-07-06T00:59:01.327107Z",
     "iopub.status.busy": "2023-07-06T00:59:01.326314Z",
     "iopub.status.idle": "2023-07-06T00:59:01.552742Z",
     "shell.execute_reply": "2023-07-06T00:59:01.553217Z"
    },
    "papermill": {
     "duration": 0.313402,
     "end_time": "2023-07-06T00:59:01.553337",
     "exception": false,
     "start_time": "2023-07-06T00:59:01.239935",
     "status": "completed"
    },
    "tags": []
   },
   "outputs": [],
   "source": [
    "sns.set_style(\"dark\")\n",
    "sns.scatterplot(x='SepalLengthCm', y='SepalWidthCm', data=iris)\n",
    "plt.title(\"Seaborn Dark Theme\")"
   ]
  },
  {
   "cell_type": "markdown",
   "metadata": {
    "papermill": {
     "duration": 0.075725,
     "end_time": "2023-07-06T00:59:01.701946",
     "exception": false,
     "start_time": "2023-07-06T00:59:01.626221",
     "status": "completed"
    },
    "tags": []
   },
   "source": [
    "<a id=\"whitegrid\"></a>\n",
    "<h1 style='border:3px solid DodgerBlue;'><center>Seaborn White Grid Theme</center><h1>"
   ]
  },
  {
   "cell_type": "code",
   "execution_count": null,
   "metadata": {
    "execution": {
     "iopub.execute_input": "2023-07-06T00:59:01.854747Z",
     "iopub.status.busy": "2023-07-06T00:59:01.853918Z",
     "iopub.status.idle": "2023-07-06T00:59:02.079778Z",
     "shell.execute_reply": "2023-07-06T00:59:02.080217Z"
    },
    "papermill": {
     "duration": 0.303427,
     "end_time": "2023-07-06T00:59:02.080342",
     "exception": false,
     "start_time": "2023-07-06T00:59:01.776915",
     "status": "completed"
    },
    "tags": []
   },
   "outputs": [],
   "source": [
    "sns.set_style(\"whitegrid\")\n",
    "sns.scatterplot(x='SepalLengthCm', y='SepalWidthCm', data=iris)\n",
    "plt.title(\"Seaborn White Grid Theme\")"
   ]
  },
  {
   "cell_type": "markdown",
   "metadata": {
    "papermill": {
     "duration": 0.07498,
     "end_time": "2023-07-06T00:59:02.230112",
     "exception": false,
     "start_time": "2023-07-06T00:59:02.155132",
     "status": "completed"
    },
    "tags": []
   },
   "source": [
    "<a id=\"white\"></a>\n",
    "<h1 style='border:3px solid DodgerBlue;'><center>Seaborn White Theme</center><h1>"
   ]
  },
  {
   "cell_type": "code",
   "execution_count": null,
   "metadata": {
    "execution": {
     "iopub.execute_input": "2023-07-06T00:59:02.383487Z",
     "iopub.status.busy": "2023-07-06T00:59:02.382601Z",
     "iopub.status.idle": "2023-07-06T00:59:02.617449Z",
     "shell.execute_reply": "2023-07-06T00:59:02.617995Z"
    },
    "papermill": {
     "duration": 0.313031,
     "end_time": "2023-07-06T00:59:02.618129",
     "exception": false,
     "start_time": "2023-07-06T00:59:02.305098",
     "status": "completed"
    },
    "tags": []
   },
   "outputs": [],
   "source": [
    "sns.set_style(\"white\")\n",
    "sns.scatterplot(x='SepalLengthCm', y='SepalWidthCm', data=iris)\n",
    "plt.title(\"Seaborn White Theme\")"
   ]
  },
  {
   "cell_type": "markdown",
   "metadata": {
    "papermill": {
     "duration": 0.075484,
     "end_time": "2023-07-06T00:59:02.770196",
     "exception": false,
     "start_time": "2023-07-06T00:59:02.694712",
     "status": "completed"
    },
    "tags": []
   },
   "source": [
    "<a id=\"ticks\"></a>\n",
    "<h1 style='border:3px solid DodgerBlue;'><center>Seaborn Ticks Theme</center><h1>"
   ]
  },
  {
   "cell_type": "code",
   "execution_count": null,
   "metadata": {
    "execution": {
     "iopub.execute_input": "2023-07-06T00:59:02.926462Z",
     "iopub.status.busy": "2023-07-06T00:59:02.925699Z",
     "iopub.status.idle": "2023-07-06T00:59:03.063521Z",
     "shell.execute_reply": "2023-07-06T00:59:03.064042Z"
    },
    "papermill": {
     "duration": 0.217858,
     "end_time": "2023-07-06T00:59:03.064175",
     "exception": false,
     "start_time": "2023-07-06T00:59:02.846317",
     "status": "completed"
    },
    "tags": []
   },
   "outputs": [],
   "source": [
    "sns.set_style(\"ticks\")\n",
    "sns.scatterplot(x='SepalLengthCm', y='SepalWidthCm', data=iris)\n",
    "plt.title(\"Seaborn Ticks Theme\")"
   ]
  },
  {
   "cell_type": "markdown",
   "metadata": {
    "papermill": {
     "duration": 0.076275,
     "end_time": "2023-07-06T00:59:03.218817",
     "exception": false,
     "start_time": "2023-07-06T00:59:03.142542",
     "status": "completed"
    },
    "tags": []
   },
   "source": [
    "## Don't forget to upvote if you like it!. \n",
    "If you have any doubt reagrding any part of the notebook, feel free to comment your doubt in the comment box.\n",
    "\n",
    "Thank you!!\n",
    "\n",
    "## Work in Progress... ⏳"
   ]
  }
 ],
 "metadata": {
  "kernelspec": {
   "display_name": "Python 3",
   "language": "python",
   "name": "python3"
  },
  "language_info": {
   "codemirror_mode": {
    "name": "ipython",
    "version": 3
   },
   "file_extension": ".py",
   "mimetype": "text/x-python",
   "name": "python",
   "nbconvert_exporter": "python",
   "pygments_lexer": "ipython3",
   "version": "3.8.10"
  },
  "papermill": {
   "duration": 43.453344,
   "end_time": "2023-07-06T00:59:03.400440",
   "environment_variables": {},
   "exception": null,
   "input_path": "__notebook__.ipynb",
   "output_path": "__notebook__.ipynb",
   "parameters": {},
   "start_time": "2023-07-06T00:58:19.947096",
   "version": "2.1.0"
  }
 },
 "nbformat": 4,
 "nbformat_minor": 4
}
