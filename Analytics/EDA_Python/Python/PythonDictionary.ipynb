{
 "cells": [
  {
   "cell_type": "markdown",
   "metadata": {},
   "source": [
    "**Dictionary:** represents a mapping between a key and value, i.e. it can store pairs of keys and values. Once stored in a dictionary, you can later obtain the value using just the key.\n",
    "\n",
    "\n",
    "**Characteristics of dictionaries:** \n",
    "\n",
    "1. **Unordered:** The items in dictionaries are stored without any index value, which is typically a range of numbers. They are stored as Key-Value pairs, and the keys are their index, which will not be in any sequence.\n",
    "2. **Ordered:** dictionaries are ordered, which means that the items have a defined order, and that order will not change. A simple Hash Table consists of key-value pair arranged in pseudo-random order based on the calculations from Hash Function.\n",
    "3. **Unique:** each value has a Key; the Keys in Dictionaries should be unique.  If we store any value with a Key that already exists, then the most recent value will replace the old value.\n",
    "4. **Mutable:** The dictionaries are changeable collections, which implies that we can add or remove items after the creation."
   ]
  },
  {
   "cell_type": "markdown",
   "metadata": {},
   "source": [
    "**Creating a dictionary:** \n",
    "\n",
    "1. **Using curly brackets:** The dictionaries are created by enclosing the comma-separated Key: Value pairs inside the {} curly brackets. The colon ‘:‘ is used to separate the key and value in a pair.\n",
    "2. **Using dict() constructor:** Create a dictionary by passing the comma-separated key: value pairs inside the dict().\n",
    "3. **Using sequence:** having each item as a pair (key-value)\n",
    "4. **Empty Dictionary:** When we create a dictionary without any elements inside the curly brackets then it will be an empty dictionary.\n",
    "\n",
    "**NOTE:** \n",
    "1. A dictionary value can be of any type and duplicates are allowed in that.\n",
    "\n",
    "2. Keys in the dictionary must be unique and of immutable types like string, numbers or tuples."
   ]
  },
  {
   "cell_type": "code",
   "execution_count": null,
   "metadata": {},
   "outputs": [],
   "source": [
    "# create a dictionary using {}\n",
    "person = {\"name\": \"Jessa\", \"country\": \"USA\", \"telephone\": 1178}\n",
    "print(person)\n",
    "# output {'name': 'Jessa', 'country': 'USA', 'telephone': 1178}\n",
    "\n",
    "# create a dictionary using dict()\n",
    "person = dict({\"name\": \"Jessa\", \"country\": \"USA\", \"telephone\": 1178})\n",
    "print(person)\n",
    "# output {'name': 'Jessa', 'country': 'USA', 'telephone': 1178}\n",
    "\n",
    "# create a dictionary from sequence having each item as a pair\n",
    "person = dict([(\"name\", \"Mark\"), (\"country\", \"USA\"), (\"telephone\", 1178)])\n",
    "print(person)\n",
    "\n",
    "# create dictionary with mixed keys keys\n",
    "# first key is string and second is an integer\n",
    "sample_dict = {\"name\": \"Jessa\", 10: \"Mobile\"}\n",
    "print(sample_dict)\n",
    "# output {'name': 'Jessa', 10: 'Mobile'}\n",
    "\n",
    "# create dictionary with value as a list\n",
    "person = {\"name\": \"Jessa\", \"telephones\": [1178, 2563, 4569]}\n",
    "print(person)\n",
    "# output {'name': 'Jessa', 'telephones': [1178, 2563, 4569]}\n",
    "\n",
    "# empty dictionary\n",
    "emptydict = {}\n",
    "print(type(emptydict))"
   ]
  },
  {
   "cell_type": "markdown",
   "metadata": {},
   "source": [
    "**Accessing elements of a dictioanry:**\n",
    "\n",
    "1. Retrieve value using the key name inside the [] square brackets.\n",
    "2. Retrieve value by passing key name as a parameter to the get() method of a dictionary."
   ]
  },
  {
   "cell_type": "code",
   "execution_count": null,
   "metadata": {},
   "outputs": [],
   "source": [
    "# create a dictionary named person\n",
    "person = {\"name\": \"Jessa\", \"country\": \"USA\", \"telephone\": 1178}\n",
    "\n",
    "# access value using key name in []\n",
    "print(person['name'])\n",
    "# Output 'Jessa'\n",
    "\n",
    "#  get key value using key name in get()\n",
    "print(person.get('telephone'))\n",
    "# Output 1178"
   ]
  },
  {
   "cell_type": "markdown",
   "metadata": {},
   "source": [
    "**Get all keys:**\n",
    "\n",
    "| Method | Description |\n",
    "|--------|-------------|\n",
    "| keys() | Returns the list of all keys present in the dictionary. |\n",
    "| values() | Returns the list of all values present in the dictionary. |\n",
    "| items() | Returns all the items present in the dictionary. Each item will be inside a tuple as a key-value pair. |\n",
    "\n",
    "We can assign each method’s output to a separate variable and use that for further computations if required."
   ]
  },
  {
   "cell_type": "code",
   "execution_count": null,
   "metadata": {},
   "outputs": [],
   "source": [
    "personinformation = {\"name\": \"Chirag\", \"country\": \"India\", \"Age\": 22}\n",
    "\n",
    "# Get all keys\n",
    "print(personinformation.keys())\n",
    "# output dict_keys(['name', 'country', 'telephone'])\n",
    "print(type(personinformation.keys()))\n",
    "# Output class 'dict_keys'\n",
    "\n",
    "# Get all values\n",
    "print(personinformation.values())\n",
    "# output dict_values(['Jessa', 'USA', 1178])\n",
    "print(type(personinformation.values()))  \n",
    "# Output class 'dict_values'\n",
    "\n",
    "# Get all key-value pair\n",
    "print(personinformation.items())\n",
    "# output dict_items([('name', 'Jessa'), ('country', 'USA'), ('telephone', 1178)])\n",
    "print(type(personinformation.items()))\n",
    "# Output class 'dict_items'"
   ]
  },
  {
   "cell_type": "markdown",
   "metadata": {},
   "source": [
    "**Iterating a dictionary:** we can iterate a dictionary using for loop and access the indiviual keys and their corresponding values."
   ]
  },
  {
   "cell_type": "code",
   "execution_count": null,
   "metadata": {},
   "outputs": [],
   "source": [
    "personinfo = {\"name\": \"Chirag\", \"country\": \"India\", \"Age\": 22}\n",
    "\n",
    "# Iterating the dictionary using for-loop\n",
    "print('Key', ':', 'value')\n",
    "for key in personinfo:\n",
    "    print(key, ':', personinfo[key], '\\n')\n",
    "    \n",
    "# using items() method    \n",
    "print('Key', ':', 'value')\n",
    "for keyvalue in personinfo.items():\n",
    "    print(keyvalue[0], keyvalue[1], '\\n')\n",
    "    \n",
    "    \n",
    "# length of the dictionary\n",
    "print(\"Length of the above dictionary is:\", len(personinfo))\n"
   ]
  },
  {
   "cell_type": "markdown",
   "metadata": {},
   "source": [
    "**Adding items to the dictionary:**\n",
    "\n",
    "1. **Using key-value assignment:** Using a simple assignment statement where value can be assigned directly to the new key.\n",
    "   \n",
    "2. **Using update() method:** In this method, the item passed inside the update() method will be inserted into the dictionary. The item can be another dictionary or any iterable like a tuple of key-value pairs. \n",
    "\n",
    "**Note:** We can also add more than one key using the update() method."
   ]
  },
  {
   "cell_type": "code",
   "execution_count": null,
   "metadata": {},
   "outputs": [],
   "source": [
    "personinfo = {\"name\": \"Chirag\", \"country\": \"India\", \"Age\": 22}\n",
    "\n",
    "# update dictionary by adding 2 new keys\n",
    "personinfo[\"ProgrammingLanguage\"] = \"Python\"\n",
    "personinfo.update({\"Surname\": \"Gupta\"})\n",
    "\n",
    "# print the updated dictionary\n",
    "print(personinfo)"
   ]
  },
  {
   "cell_type": "markdown",
   "metadata": {},
   "source": [
    "**Set default value to a key:** Using the setdefault() method default value can be assigned to a key in the dictionary. In case the key doesn’t exist already, then the key will be inserted into the dictionary, and the value becomes the default value, and None will be inserted if a value is not mentioned.\n",
    "\n",
    "In case the key exists, then it will return the value of a key."
   ]
  },
  {
   "cell_type": "code",
   "execution_count": null,
   "metadata": {},
   "outputs": [],
   "source": [
    "carinfo = {\n",
    "    \"brand\": \"Toyota\",\n",
    "    \"model\": \"Camry\",\n",
    "    \"year\": 2022,\n",
    "    \"color\": \"Silver\",\n",
    "    \"price\": 25000\n",
    "}\n",
    "\n",
    "# set default value if key doesn't exists\n",
    "carinfo.setdefault('insurance', 'expired')\n",
    "\n",
    "# key doesn't exists and value not mentioned. default None\n",
    "carinfo.setdefault('zip')\n",
    "\n",
    "# key exists and value mentioned. doesn't  change value\n",
    "carinfo.setdefault('brand', 'swift')\n",
    "\n",
    "# Display dictionary\n",
    "for key, value in carinfo.items():\n",
    "    print(key, ':', value)"
   ]
  },
  {
   "cell_type": "markdown",
   "metadata": {},
   "source": [
    "**Modify the values of the dictionary keys:** \n",
    "\n",
    "1. **Using key name:** We can directly assign new values by using its key name. The key name will be the existing one and we can mention the new value.\n",
    "   \n",
    "2. **Using update() method:** using the update method as shown above."
   ]
  },
  {
   "cell_type": "markdown",
   "metadata": {},
   "source": [
    "**Removing items from the dictionary:**\n",
    "\n",
    "| Method         | Description                                                                                   |\n",
    "|----------------|-----------------------------------------------------------------------------------------------|\n",
    "| `pop(key[,d])` | Return and remove the item with the key and return its value. If the key is not found, it raises KeyError. |\n",
    "| `popitem()`    | Return and remove the last inserted item from the dictionary. If the dictionary is empty, it raises KeyError. |\n",
    "| `del key`      | The `del` keyword will delete the item with the key that is passed.                           |\n",
    "| `clear()`      | Removes all items from the dictionary. Empty the dictionary.                                   |\n",
    "| `del dict_name`| Delete the entire dictionary.                                                                 |\n"
   ]
  },
  {
   "cell_type": "code",
   "execution_count": null,
   "metadata": {},
   "outputs": [],
   "source": [
    "vehiclecar = {\n",
    "    \"make\": \"Toyota\",\n",
    "    \"model\": \"Corolla\",\n",
    "    \"year\": 2022,\n",
    "    \"color\": \"blue\",\n",
    "    \"mileage\": 15000,\n",
    "    \"price\": 20000\n",
    "}\n",
    "\n",
    "# Remove last inserted item from the dictionary\n",
    "deleteditem = vehiclecar.popitem()\n",
    "print(deleteditem)\n",
    "print(vehiclecar)\n",
    "\n",
    "# Remove key 'make' from the dictionary\n",
    "deleteditem = vehiclecar.pop(\"make\")\n",
    "print(deleteditem)\n",
    "print(vehiclecar)\n",
    "\n",
    "# delete key 'year'\n",
    "del vehiclecar[\"year\"]\n",
    "print(vehiclecar)\n",
    "\n",
    "# remove all item (key-values) from dict\n",
    "vehiclecar.clear()\n",
    "print(vehiclecar)\n",
    "\n",
    "# delete entire dictionary\n",
    "del vehiclecar\n",
    "print(vehiclecar)"
   ]
  },
  {
   "cell_type": "markdown",
   "metadata": {},
   "source": [
    "**Checking if a key exists:** In order to check whether a particular key exists in a dictionary, we can use the `keys()` method and in operator. We can use the in operator to check whether the key is present in the list of keys returned by the `keys()` method.\n",
    "\n",
    "In this method, we can just check whether our key is present in the list of keys that will be returned from the `keys()` method."
   ]
  },
  {
   "cell_type": "code",
   "execution_count": null,
   "metadata": {},
   "outputs": [],
   "source": [
    "songsinfo = {\"songname\":\"Mitti\", \"singer\":\"Vishal Dadlani\"}\n",
    "\n",
    "keyname = 'singer'\n",
    "if keyname in songsinfo.keys():\n",
    "    print(\"Singername key exists:\", songsinfo[keyname])\n",
    "else:\n",
    "    print('key doesnt exists')"
   ]
  },
  {
   "cell_type": "markdown",
   "metadata": {},
   "source": [
    "**Join two dictionary:** we can add two dictionarires using the update() method or unpacking arbitrary keywords operator **."
   ]
  },
  {
   "cell_type": "code",
   "execution_count": null,
   "metadata": {},
   "outputs": [],
   "source": [
    "# using update() method\n",
    "dict1 = {'Jessa': 70, 'Arul': 80, 'Emma': 55}\n",
    "dict2 = {'Kelly': 68, 'Harry': 50, 'Olivia': 66}\n",
    "\n",
    "dict1.update(dict2)\n",
    "print(dict1)"
   ]
  },
  {
   "cell_type": "markdown",
   "metadata": {},
   "source": [
    "**using kwargs to unpack:** we can upack any number of dictionary and their contents to another dictionary using **kwargs. "
   ]
  },
  {
   "cell_type": "code",
   "execution_count": null,
   "metadata": {},
   "outputs": [],
   "source": [
    "student_dict1 = {'Aadya': 1, 'Arul': 2, }\n",
    "student_dict2 = {'Harry': 5, 'Olivia': 6}\n",
    "student_dict3 = {'Nancy': 7, 'Perry': 9}\n",
    "\n",
    "# join three dictionaries\n",
    "studentdict = {**student_dict1, **student_dict2, **student_dict3}\n",
    "print(studentdict)"
   ]
  },
  {
   "cell_type": "markdown",
   "metadata": {},
   "source": [
    "**Joining two dictionary having few items in common:** \n",
    "\n",
    "**NOTE:** one thing to note here is that if both the dictionaries have a common key then the first dictionary value will be overridden with second dictionary value."
   ]
  },
  {
   "cell_type": "markdown",
   "metadata": {},
   "source": [
    "**Copy a dictionary:** we can create a copy of a dictionary using the following two ways\n",
    "\n",
    "1. using copy() method.\n",
    "2. using the dict() constructor"
   ]
  },
  {
   "cell_type": "code",
   "execution_count": null,
   "metadata": {},
   "outputs": [],
   "source": [
    "dict1 = {\"Name\" : \"Chirag\", \"Age\": 22, \"Nationality\" : \"Indian\"}\n",
    "\n",
    "# Copy dictionary using copy() method\n",
    "dict2 = dict1.copy()\n",
    "print(dict2)\n",
    "\n",
    "# Copy dictionary using dict() constructor\n",
    "dict3 = dict(dict1)\n",
    "print(dict3)\n",
    "\n",
    "# Copy dictionary using the output of items() methods\n",
    "dict4 = dict(dict1.items())\n",
    "print(dict4)"
   ]
  },
  {
   "cell_type": "markdown",
   "metadata": {},
   "source": [
    "**Copy using the assignment operator:** we can simply use the '=' operator to create a copy\n",
    "\n",
    "**NOTE:** When you set dict2 = dict1 you are making them refer to the same dict object, so when you modify one of them, all references associated with that object reflect the current state of the object. so dont use the assignment operator to copy the dictionary instead use the copy() method."
   ]
  },
  {
   "cell_type": "code",
   "execution_count": null,
   "metadata": {},
   "outputs": [],
   "source": [
    "movieinfo = {'moviename' : \"Fighter\", \"director\": \"Sidharth Anand\"}\n",
    "\n",
    "movie = movieinfo\n",
    "movie.update({\"Actor\" : \"Akshay oberoi\"})\n",
    "print(movie)\n",
    "print(movieinfo)"
   ]
  },
  {
   "cell_type": "markdown",
   "metadata": {},
   "source": [
    "**Nested dictionary:** nested dictioanries that have one or more dictionaries as their members. it is a collection of many dictionaries in one dictionary."
   ]
  },
  {
   "cell_type": "code",
   "execution_count": null,
   "metadata": {},
   "outputs": [],
   "source": [
    "# example 1 nested dictionary\n",
    "address ={\"state\" : \"Rajasthan\", \"City\" : \"Jaipur\"}\n",
    "\n",
    "person = {\"Name\" : \"Chirag\", \"Company\" : \"KMG\", \"address\" : address}\n",
    "\n",
    "print(\"person:\", person)\n",
    "\n",
    "print(\"City:\", person[\"address\"][\"City\"])\n",
    "\n",
    "print(\"person details\")\n",
    "\n",
    "# iterating the outer dictionary\n",
    "for key, value in person.items():\n",
    "    \n",
    "    if key == 'address':\n",
    "        \n",
    "        # iterating through nested dictionary\n",
    "        for nestedkey , nestedvalue in value.items():\n",
    "            print(nestedkey, ':', nestedvalue)\n",
    "    else:\n",
    "        print(key, \":\", value)"
   ]
  },
  {
   "cell_type": "code",
   "execution_count": null,
   "metadata": {},
   "outputs": [],
   "source": [
    "# example 2 nested dictionary by adding multiple dictionaries inside a single dictionary\n",
    "\n",
    "# each dictionary will store data of a single student\n",
    "jessa = {'name': 'Jessa', 'state': 'Texas', 'city': 'Houston', 'marks': 75}\n",
    "emma = {'name': 'Emma', 'state': 'Texas', 'city': 'Dallas', 'marks': 60}\n",
    "kelly = {'name': 'Kelly', 'state': 'Texas', 'city': 'Austin', 'marks': 85}\n",
    "\n",
    "classsix = {\"student1\" : jessa, \"student2\" : emma, \"student3\" : kelly}\n",
    "\n",
    "print(\"\\n class six student details\\n\")\n",
    "\n",
    "for key , value in classsix.items():\n",
    "    \n",
    "    # Iterating through nested dictionary\n",
    "    # Display each student data\n",
    "    print(key)\n",
    "    for nestedkey, nestedvalue in value.items():\n",
    "        print(nestedkey, ':', nestedvalue)\n",
    "    print('\\n')"
   ]
  },
  {
   "cell_type": "markdown",
   "metadata": {},
   "source": [
    "**Sort dictionary:** The built-in method sorted() will sort the keys in the dictionary and returns a sorted list. In case we want to sort the values we can first get the values using the values() and then sort them."
   ]
  },
  {
   "cell_type": "code",
   "execution_count": null,
   "metadata": {},
   "outputs": [],
   "source": [
    "dict1 = {\"name2\" : \"Chirag\", \"name1\" : \"Arjun\", \"name3\" : \"Vinay\"}\n",
    "print(sorted(dict1.items()))\n",
    "print(sorted(dict1.keys()))\n",
    "print(sorted(dict1.values()))"
   ]
  },
  {
   "cell_type": "markdown",
   "metadata": {},
   "source": [
    "**Dictionary comprehension:** Dictionary comprehension is one way of creating the dictionary where the values of the key values are generated in a for-loop and we can filter the items to be added to the dictionary with an optional if condition. \n",
    "\n",
    "**Syntax:** `output_dictionary = {key : value for key,value in iterable [if key,value condition1]}`"
   ]
  },
  {
   "cell_type": "code",
   "execution_count": null,
   "metadata": {},
   "outputs": [],
   "source": [
    "numbers = [2,4,5,6,8]\n",
    "\n",
    "sqaureofnumbers = {n: n**2 for n in numbers}\n",
    "print(sqaureofnumbers)"
   ]
  },
  {
   "cell_type": "markdown",
   "metadata": {},
   "source": [
    "**all() function:** when the built in function all() is used with the dictionary the return value will be true in the case of all – true keys and false in case one of the keys is false.\n",
    "\n",
    "`Few things to note here are`\n",
    "\n",
    "1. Only key values should be true\n",
    "2. The key values can be either True or `1` or `0`\n",
    "3. 0 and false in key will return false\n",
    "4. An empty dictionary will return true"
   ]
  },
  {
   "cell_type": "code",
   "execution_count": null,
   "metadata": {},
   "outputs": [],
   "source": [
    "dict1 = {1:'True',1:'False'}\n",
    "dict2 = {0:'True',1:'False'}\n",
    "\n",
    "dict3 = {}\n",
    "\n",
    "dict4 = {'0' : False}\n",
    "\n",
    "print('All True Keys::',all(dict1))\n",
    "print('One False Key',all(dict2))\n",
    "print('Empty Dictionary',all(dict3))\n",
    "print('With 0 in single quotes',all(dict4))"
   ]
  },
  {
   "cell_type": "markdown",
   "metadata": {},
   "source": [
    "**any() function:** any() function will return true if dictionary keys contain anyone false which could be 0 or false. Let us see what any() method will return for the above cases."
   ]
  },
  {
   "cell_type": "code",
   "execution_count": null,
   "metadata": {},
   "outputs": [],
   "source": [
    "#dictionary with both 'true' keys\n",
    "dict1 = {1:'True',1:'False'}\n",
    "\n",
    "#dictionary with one false key\n",
    "dict2 = {0:'True',1:'False'}\n",
    "\n",
    "#empty dictionary\n",
    "dict3= {}\n",
    "\n",
    "#'0' is true actually\n",
    "dict4 = {'0':False}\n",
    "\n",
    "#all false\n",
    "dict5 = {0:False}\n",
    "\n",
    "print('All True Keys::',any(dict1))\n",
    "print('One False Key ::',any(dict2))\n",
    "print('Empty Dictionary ::',any(dict3))\n",
    "print('With 0 in single quotes ::',any(dict4))\n",
    "print('all false :: ',any(dict5))"
   ]
  },
  {
   "cell_type": "markdown",
   "metadata": {},
   "source": [
    "| Dictionary Operation | Description |\n",
    "| --- | --- |\n",
    "| `dict({'a': 10, 'b': 20})` | Create a dictionary using a `dict()` constructor. |\n",
    "| `d2 = {}` | Create an empty dictionary. |\n",
    "| `d1.get('a')` | Retrieve value using the key name `a`. |\n",
    "| `d1.keys()` | Returns a list of keys present in the dictionary. |\n",
    "| `d1.values()` | Returns a list with all the values in the dictionary. |\n",
    "| `d1.items()` | Returns a list of all the items in the dictionary with each key-value pair inside a tuple. |\n",
    "| `len(d1)` | Returns the number of items in a dictionary. |\n",
    "| `d1['d'] = 40` | Update dictionary by adding a new key. |\n",
    "| `d1.update({'e': 50, 'f': 60})` | Add multiple keys to the dictionary. |\n",
    "| `d1.setdefault('g', 70)` | Set the default value if a key doesn’t exist. |\n",
    "| `d1['b'] = 100` | Modify the values of the existing key. |\n",
    "| `d1.pop('b')` | Remove the key `b` from the dictionary. |\n",
    "| `d1.popitem()` | Remove any random item from a dictionary. |\n",
    "| `d1.clear()` | Removes all items from the dictionary. |\n",
    "| `'key' in d1.keys()` | Check if a key exists in a dictionary. |\n",
    "| `d1.update(d2)` | Add all items of dictionary `d2` into `d1`. |\n",
    "| `d3= {**d1, **d2}` | Join two dictionaries. |\n",
    "| `d2 = d1.copy()` | Copy dictionary `d1` into `d2`. |\n",
    "| `max(d1)` | Returns the key with the maximum value in the dictionary `d1`. |\n",
    "| `min(d1)` | Returns the key with the minimum value in the dictionary `d1`. |\n"
   ]
  },
  {
   "cell_type": "markdown",
   "metadata": {},
   "source": [
    "**Dictionary Exercise**"
   ]
  },
  {
   "cell_type": "markdown",
   "metadata": {},
   "source": [
    "Exercise 1: Convert two lists into a dictionary\n",
    "\n",
    "keys = ['Ten', 'Twenty', 'Thirty']\n",
    "\n",
    "values = [10, 20, 30]\n",
    "\n",
    "Expected output\n",
    "{'Ten': 10, 'Twenty': 20, 'Thirty': 30}"
   ]
  },
  {
   "cell_type": "code",
   "execution_count": null,
   "metadata": {},
   "outputs": [],
   "source": [
    "# listkeys = ['Ten', 'Twenty', 'Thirty']\n",
    "# listvalues = [10, 20, 30]\n",
    "# finaldict ={}\n",
    "# for i in listkeys:\n",
    "#     for j in listvalues:\n",
    "#         finaldict={i:j}\n",
    "#     print(finaldict)\n",
    "listkeys = ['Ten', 'Twenty', 'Thirty']\n",
    "listvalues = [10, 20, 30]\n",
    "finaldict = {}\n",
    "for i in range(len(listkeys)):\n",
    "    for j in range(len(listvalues)):\n",
    "        finaldict.update({listkeys[i]:listvalues[j]})\n",
    "print(finaldict)\n"
   ]
  },
  {
   "cell_type": "markdown",
   "metadata": {},
   "source": [
    "Exercise 2: Merge two Python dictionaries into one"
   ]
  },
  {
   "cell_type": "code",
   "execution_count": null,
   "metadata": {},
   "outputs": [],
   "source": [
    "dictmerge1 = {'Ten': 10, 'Twenty': 20, 'Thirty': 30}\n",
    "dictmerge2 = {'Thirty': 30, 'Fourty': 40, 'Fifty': 50}\n",
    "dictmerge3= dictmerge1.copy()\n",
    "dictmerge3.update(dictmerge2)\n",
    "print(dictmerge3)\n",
    "\n",
    "# finalmergedict = {**dictmerge1, **dictmerge2}\n",
    "# print(finalmergedict)"
   ]
  },
  {
   "cell_type": "markdown",
   "metadata": {},
   "source": [
    "Exercise 3: Print the value of key ‘history’ from the below dict"
   ]
  },
  {
   "cell_type": "code",
   "execution_count": null,
   "metadata": {},
   "outputs": [],
   "source": [
    "sampleDict = {\n",
    "    \"class\": {\n",
    "        \"student\": {\n",
    "            \"name\": \"Mike\",\n",
    "            \"marks\": {\n",
    "                \"physics\": 70,\n",
    "                \"history\": 80\n",
    "            }\n",
    "        }\n",
    "    }\n",
    "}\n",
    "sampleDict[\"class\"][\"student\"][\"marks\"][\"history\"]\n"
   ]
  },
  {
   "cell_type": "markdown",
   "metadata": {},
   "source": [
    "Exercise 4: Initialize dictionary with default values\n",
    "\n",
    "In Python, we can initialize the keys with the same values.\n",
    "\n",
    "Given\n",
    "\n",
    "employees = ['Kelly', 'Emma']\n",
    "\n",
    "defaults = {\"designation\": 'Developer', \"salary\": 8000}\n",
    "\n",
    "Expected output\n",
    "\n",
    "{'Kelly': {'designation': 'Developer', 'salary': 8000}, 'Emma': {'designation': 'Developer', 'salary': 8000}}"
   ]
  },
  {
   "cell_type": "code",
   "execution_count": null,
   "metadata": {},
   "outputs": [],
   "source": [
    "employees = ['Kelly', 'Emma']\n",
    "defaults = {\"designation\": 'Developer', \"salary\": 8000}\n",
    "\n",
    "res = dict.fromkeys(employees, defaults)\n",
    "print(res)\n",
    "\n",
    "# Individual data\n",
    "print(res[\"Kelly\"])\n"
   ]
  },
  {
   "cell_type": "markdown",
   "metadata": {},
   "source": [
    "Exercise 5: Create a dictionary by extracting the keys from a given dictionary.\n",
    "\n",
    "Write a Python program to create a new dictionary by extracting the mentioned keys from the below dictionary."
   ]
  },
  {
   "cell_type": "code",
   "execution_count": null,
   "metadata": {},
   "outputs": [],
   "source": [
    "# Given dictionary:\n",
    "\n",
    "sampledict = {\"name\": \"Kelly\", \"age\": 25, \"salary\": 8000, \"city\": \"New york\"}\n",
    "\n",
    "# # Keys to extract\n",
    "keys = [\"name\", \"salary\"]\n",
    "\n",
    "finalextractdict = {}\n",
    "\n",
    "# Expected output\n",
    "# {'name': 'Kelly', 'salary': 8000}\n",
    "for k in keys:\n",
    "        finalextractdict.update({k:sampleDict[k]})\n",
    "print(finalextractdict)\n",
    "\n",
    "\n",
    "# sampledict = {\"name\": \"Kelly\", \"age\": 25, \"salary\": 8000, \"city\": \"New york\"}\n",
    "\n",
    "# keys = [\"name\", \"salary\"]\n",
    "\n",
    "# newDict = {k: sampleDict[k] for k in keys}\n",
    "# print(newDict)"
   ]
  },
  {
   "cell_type": "markdown",
   "metadata": {},
   "source": [
    "Exercise 6: Delete a list of keys from a dictionary"
   ]
  },
  {
   "cell_type": "code",
   "execution_count": null,
   "metadata": {},
   "outputs": [],
   "source": [
    "sample_dict = {\n",
    "    \"name\": \"Kelly\",\n",
    "    \"age\": 25,\n",
    "    \"salary\": 8000,\n",
    "    \"city\": \"New york\"\n",
    "}\n",
    "\n",
    "# Keys to remove\n",
    "keys = [\"name\", \"salary\"]\n",
    "# Expected output: {'city': 'New york', 'age': 25}\n",
    "\n",
    "\n",
    "# for kr in keys:\n",
    "#     sample_dict.pop(kr)\n",
    "# print(sample_dict)\n",
    "\n",
    "\n",
    "sample_dict = {k: sample_dict[k] for k in sample_dict.keys() - keys}\n",
    "print(sample_dict)"
   ]
  },
  {
   "cell_type": "markdown",
   "metadata": {},
   "source": [
    "Exercise 7: Check if a value exists in a dictionary\n",
    "\n",
    "Write a Python program to check if value 200 exists in the following dictionary.\n",
    "\n",
    "Given:\n",
    "\n",
    "sample_dict = {'a': 100, 'b': 200, 'c': 300}\n",
    "\n",
    "Expected output:\n",
    "200 present in a dict"
   ]
  },
  {
   "cell_type": "code",
   "execution_count": null,
   "metadata": {},
   "outputs": [],
   "source": [
    "samplecheckdict = {'a': 100, 'b': 200, 'c': 300}\n",
    "\n",
    "for value in samplecheckdict.values():\n",
    "    if value == 200:\n",
    "        print(\"200 is present in the dict\")"
   ]
  },
  {
   "cell_type": "markdown",
   "metadata": {},
   "source": [
    "Exercise 8: Rename key of a dictionary\n",
    "\n",
    "Write a program to rename a key city to a location in the following dictionary."
   ]
  },
  {
   "cell_type": "code",
   "execution_count": null,
   "metadata": {},
   "outputs": [],
   "source": [
    "samplerenamedict = {\n",
    "\"name\": \"Kelly\",\n",
    "\"age\":25,\n",
    "\"salary\": 8000,\n",
    "\"city\": \"New york\"\n",
    "}\n",
    "\n",
    "samplerenamedict[\"location\"] = samplerenamedict.pop(\"city\")\n",
    "print(samplerenamedict)"
   ]
  },
  {
   "cell_type": "markdown",
   "metadata": {},
   "source": [
    "Exercise 9: Get the key of a minimum value from the following dictionary"
   ]
  },
  {
   "cell_type": "code",
   "execution_count": null,
   "metadata": {},
   "outputs": [],
   "source": [
    "samplemindict = {\n",
    "'Physics': 82,\n",
    "'Math': 65,\n",
    "'history': 75\n",
    "}\n",
    "print(min(samplemindict, key=samplemindict.get))\n"
   ]
  },
  {
   "cell_type": "markdown",
   "metadata": {},
   "source": [
    "Exercise 10: Write a Python program to change Brad’s salary to 8500 in the following dictionary."
   ]
  },
  {
   "cell_type": "code",
   "execution_count": null,
   "metadata": {},
   "outputs": [],
   "source": [
    "samplechangedict = {\n",
    "    'emp1': {'name': 'Jhon', 'salary': 7500},\n",
    "    'emp2': {'name': 'Emma', 'salary': 8000},\n",
    "    'emp3': {'name': 'Brad', 'salary': 500}\n",
    "}\n",
    "\n",
    "samplechangedict['emp3']['salary'] = 8500\n",
    "print(samplechangedict)\n"
   ]
  },
  {
   "cell_type": "code",
   "execution_count": null,
   "metadata": {},
   "outputs": [],
   "source": []
  }
 ],
 "metadata": {
  "kernelspec": {
   "display_name": "Python 3",
   "language": "python",
   "name": "python3"
  },
  "language_info": {
   "codemirror_mode": {
    "name": "ipython",
    "version": 3
   },
   "file_extension": ".py",
   "mimetype": "text/x-python",
   "name": "python",
   "nbconvert_exporter": "python",
   "pygments_lexer": "ipython3",
   "version": "3.8.10"
  },
  "orig_nbformat": 4
 },
 "nbformat": 4,
 "nbformat_minor": 2
}
