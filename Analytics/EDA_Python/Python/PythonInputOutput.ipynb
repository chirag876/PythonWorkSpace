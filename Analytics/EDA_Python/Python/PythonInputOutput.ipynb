{
 "cells": [
  {
   "cell_type": "markdown",
   "metadata": {},
   "source": [
    "# Input Output Exercise"
   ]
  },
  {
   "cell_type": "markdown",
   "metadata": {},
   "source": [
    "Exercise 1: Accept a list of 5 float numbers as an input from the user"
   ]
  },
  {
   "cell_type": "code",
   "execution_count": null,
   "metadata": {},
   "outputs": [],
   "source": [
    "num2 = int(input())\n",
    "list1 = []\n",
    "for i in range(0,num2):\n",
    "    num = float(input())\n",
    "    list1.append(num)\n",
    "print(list1)"
   ]
  },
  {
   "cell_type": "markdown",
   "metadata": {},
   "source": [
    "Exercise 2: Write all content of a given file into a new file by skipping line number 5                            "
   ]
  },
  {
   "cell_type": "code",
   "execution_count": null,
   "metadata": {},
   "outputs": [],
   "source": [
    "with open(\"file1.txt\", \"r\") as file1:\n",
    "    readcontent = file1.readlines()\n",
    "    print(readcontent)\n",
    "with open(\"file2.txt\", 'w') as file2:\n",
    "    counter = 0\n",
    "    for i in readcontent:\n",
    "        if counter==4:\n",
    "            counter+=1\n",
    "            continue\n",
    "        else:\n",
    "            file2.write(i)\n",
    "            counter+=1\n",
    "            "
   ]
  },
  {
   "cell_type": "markdown",
   "metadata": {},
   "source": [
    "Exercise 3: Write a program to take three names as input from a user in the single input() function call."
   ]
  },
  {
   "cell_type": "code",
   "execution_count": 9,
   "metadata": {},
   "outputs": [
    {
     "name": "stdout",
     "output_type": "stream",
     "text": [
      "kjh\n",
      "kjh\n",
      "jb\n"
     ]
    }
   ],
   "source": [
    "str1, str2, str3 = input(\"Enter three string\").split()\n",
    "print(str1,str2,str3,sep='\\n')\n",
    "# print('Name1:', str1)\n",
    "# print('Name2:', str2)\n",
    "# print('Name3:', str3)"
   ]
  },
  {
   "cell_type": "markdown",
   "metadata": {},
   "source": [
    "Exercise 4: Write a program to use string.format() method to format the following three variables as per the expected output\n",
    "\n",
    "Given:\n",
    "\n",
    "totalMoney = 1000\n",
    "\n",
    "quantity = 3\n",
    "\n",
    "price = 450\n",
    "\n",
    "Expected Output:\n",
    "\n",
    "I have 1000 dollars so I can buy 3 football for 450.00 dollars."
   ]
  },
  {
   "cell_type": "code",
   "execution_count": null,
   "metadata": {},
   "outputs": [],
   "source": [
    "\n",
    "totalMoney = 1000\n",
    "quantity = 3\n",
    "price = 450\n",
    "\n",
    "finaloutput = 'I have {1} dollars so I can buy {0} football for {2:.2f} dollars'\n",
    "\n",
    "print(finaloutput.format(quantity,totalMoney,price))"
   ]
  },
  {
   "cell_type": "markdown",
   "metadata": {},
   "source": [
    "Exercise 5: Write a program to check if the given file is empty or not"
   ]
  },
  {
   "cell_type": "code",
   "execution_count": null,
   "metadata": {},
   "outputs": [],
   "source": [
    "import os\n",
    "emptyfile =  os.stat('file1.txt').st_size\n",
    "if emptyfile ==0:\n",
    "    print('file is empty')"
   ]
  },
  {
   "cell_type": "markdown",
   "metadata": {},
   "source": [
    "Exercise 5: Read line number 4 from the following file"
   ]
  },
  {
   "cell_type": "code",
   "execution_count": null,
   "metadata": {},
   "outputs": [],
   "source": [
    "# read file\n",
    "with open(\"file2.txt\", \"r\") as fp:\n",
    "    # read all lines from a file\n",
    "    lines = fp.readlines()\n",
    "    # get line number 4\n",
    "    print(\"Line number 4:\", lines[3])"
   ]
  }
 ],
 "metadata": {
  "kernelspec": {
   "display_name": "Python 3",
   "language": "python",
   "name": "python3"
  },
  "language_info": {
   "codemirror_mode": {
    "name": "ipython",
    "version": 3
   },
   "file_extension": ".py",
   "mimetype": "text/x-python",
   "name": "python",
   "nbconvert_exporter": "python",
   "pygments_lexer": "ipython3",
   "version": "3.8.10"
  },
  "orig_nbformat": 4
 },
 "nbformat": 4,
 "nbformat_minor": 2
}
