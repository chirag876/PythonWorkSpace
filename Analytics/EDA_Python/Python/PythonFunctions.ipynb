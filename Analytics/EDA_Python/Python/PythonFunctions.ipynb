{
 "cells": [
  {
   "cell_type": "markdown",
   "metadata": {},
   "source": [
    "**Function Introduction:** Function is a block of code defined with a name. We use functions whenever we need to perform the same task multiple times without writing the same code again. It can take arguments and returns the value.\n",
    "\n",
    "Python has a DRY (Don't repeat yourself) principle like other programming languages. Consider a scenario where we need to do some action/task many times. We can define that action only once using a function and call that function whenever required to do the same activity.\n",
    "\n",
    "The benefit of using a function is reusability and modularity."
   ]
  },
  {
   "cell_type": "markdown",
   "metadata": {},
   "source": [
    "**Types of Functions:**\n",
    "\n",
    "1. **Built-in function:** The functions which are come along with Python itself are called a built-in function or **predefined function**. Example: range(), id(), type(), input(), eval() etc.\n",
    "   \n",
    "2. **User-defined function:** Functions which are created by programmer explicitly according to the requirement are called a user-defined function."
   ]
  },
  {
   "cell_type": "markdown",
   "metadata": {},
   "source": [
    "**Creating a function:** \n",
    "\n",
    "1. Use the `def` keyword with the function name to define a function.\n",
    "2. Next, pass the number of parameters as per your requirement. (Optional).\n",
    "3. Next, define the function body with a block of code. This block of code is nothing but the action you wanted to perform.\n",
    "\n",
    "**NOTE:** We can create functions with or without passing parameters as per our requirement.\n",
    "\n",
    "**Syntax:**\n",
    "\n",
    "def function_name(parameter1, parameter2):\n",
    "\n",
    "       # function body    \n",
    "\n",
    "       # write some action\n",
    "       \n",
    "return value\n",
    "\n",
    "-> **function_name:** Function name is the name of the function. We can give any name to function.\n",
    "\n",
    "-> **parameter:** Parameter is the value passed to the function. We can pass any number of parameters. Function body uses the parameter’s value to perform an action\n",
    "\n",
    "-> **function_body:** The function body is a block of code that performs some task. This block of code is nothing but the action you wanted to accomplish.\n",
    "\n",
    "-> **return value:** Return value is the output of the function."
   ]
  },
  {
   "cell_type": "markdown",
   "metadata": {},
   "source": [
    "**Calling a function:** Once we defined a function or finalized structure, we can call that function by using its name. We can also call that function from another function or program by importing it.\n",
    "\n",
    "To call a function, use the name of the function with the parenthesis, and if the function accepts parameters, then pass those parameters in the parenthesis.\n",
    "\n",
    "**Calling a function of a module:** we can call some built functions defined in a module."
   ]
  },
  {
   "cell_type": "code",
   "execution_count": null,
   "metadata": {},
   "outputs": [],
   "source": [
    "def evenodd(n):\n",
    "    if n%2==0:\n",
    "        return True\n",
    "    else:\n",
    "        return False\n",
    "evenodd(4)"
   ]
  },
  {
   "cell_type": "markdown",
   "metadata": {},
   "source": [
    "**Docstrings:**\n",
    "\n",
    "1. Known as documentation string, it is a descriptive text (like a comment) written by a programmer to let others know what block of code does.\n",
    "   \n",
    "2. We write docstring in source code and define it immediately after module, class, function, or method definition.\n",
    "   \n",
    "3. It is being declared using triple single quotes (''' ''') or triple-double quote(\"\"\" \"\"\").\n",
    "   \n",
    "4. We can access docstring using doc attribute (`__doc__`) for any object like list, tuple, dict, and user-defined function, etc."
   ]
  },
  {
   "cell_type": "markdown",
   "metadata": {},
   "source": [
    "**Single line docstring:** The single-line docstring is a docstring that fits in one line. We can use the triple single or triple-double quotes to define it. The Opening and closing quotes need to be the same. By convention, we should use to use the triple-double quotes to define docstring.\n",
    "\n",
    "When you use the `help function` to get the information of any function, it returns the docstring.\n",
    "\n",
    "**Syntax:**\n",
    "\n",
    "`print(help(functionname))`"
   ]
  },
  {
   "cell_type": "markdown",
   "metadata": {},
   "source": [
    "**Multi-line docstring:** A multi-line Docstrings is the same single-line Docstrings, but it is followed by a single blank line with the descriptive text."
   ]
  },
  {
   "cell_type": "markdown",
   "metadata": {},
   "source": [
    "**Return value of function:** \n",
    "\n",
    "1. The return statement ends the function execution.\n",
    "2. For a function, it is not mandatory to return a value.\n",
    "3. If a return statement is used without any expression, then the None is returned.\n",
    "4. The return statement should be inside of the function block.\n",
    "\n",
    "**Return multiple values:**\n",
    "\n",
    "You can also return multiple values from a function. Use the return statement by separating each expression by a comma."
   ]
  },
  {
   "cell_type": "markdown",
   "metadata": {},
   "source": [
    "**Pass statement:** In Python, the pass is the keyword, which won’t do anything. Sometimes there is a situation where we need to define a syntactically empty block. We can define that block using the pass keyword. When the interpreter finds a pass statement in the program, it returns no operation."
   ]
  },
  {
   "cell_type": "code",
   "execution_count": null,
   "metadata": {},
   "outputs": [],
   "source": [
    "# example of pass statement\n",
    "def functionname():\n",
    "    pass\n",
    "functionname()"
   ]
  },
  {
   "cell_type": "markdown",
   "metadata": {},
   "source": [
    "**Scope and lifetime of variables:**\n",
    "When we define a function with variables, then those variables’ scope is limited to that function. In Python, the scope of a variable is an area where a variable is declared. It is called the variable’s local scope.\n",
    "\n",
    "We cannot access the local variables from outside of the function. Because the scope is local, those variables are not visible from the outside of the function.\n",
    "\n",
    "**Note:** The inner function does have access to the outer function’s local scope.\n",
    "\n",
    "When we are executing a function, the life of the variables is up to running time. Once we return from the function, those variables get destroyed. So function does no need to remember the value of a variable from its previous call.\n",
    "\n",
    "**local variable is not accessible from outside of the function.**"
   ]
  },
  {
   "cell_type": "code",
   "execution_count": null,
   "metadata": {},
   "outputs": [],
   "source": [
    "# scope of variable inside a function\n",
    "\n",
    "globalvariable = 'python'\n",
    "\n",
    "def varibalescopetest():\n",
    "    \n",
    "    localvariable = 'data science'\n",
    "    print(localvariable)\n",
    "    \n",
    "varibalescopetest() # output data science\n",
    "print(globalvariable) # outside the function, output python\n",
    "# print(localvariable) # error name localvariable is not defined"
   ]
  },
  {
   "cell_type": "markdown",
   "metadata": {},
   "source": [
    "**local variable in function:** It is declared inside the function and it is not accessible from outside the function. its scope limited to function where it is declared. if we try to access the local variable from outside the function we will get the Nameerror."
   ]
  },
  {
   "cell_type": "markdown",
   "metadata": {},
   "source": [
    "**Global Variable in function:** declared outside the function. it has broad scope. it is accessible in all functions of the same module."
   ]
  },
  {
   "cell_type": "markdown",
   "metadata": {},
   "source": [
    "**Global keyword in function:** we use the global variable for twop purposes:\n",
    "\n",
    "1. To declare a global variable inside the function.\n",
    "   \n",
    "2. Declaring a variable as global, which makes it available to function to perform the modification.\n",
    "\n",
    "Let’s see what happens when we don’t use global keyword to access the global variable in the function."
   ]
  },
  {
   "cell_type": "code",
   "execution_count": null,
   "metadata": {},
   "outputs": [],
   "source": [
    "global_variable = 56\n",
    "def globalvariablescope():\n",
    "    print(\"Global variable without modification:\", global_variable)\n",
    "\n",
    "def globalvariablescope2():\n",
    "    \n",
    "    # modifying the global then it will be treated as local variable\n",
    "    global_variable = 567\n",
    "    print(\"Global variable after modification:\", global_variable)\n",
    "    \n",
    "def globalvariablescope3():\n",
    "    print(\"global variable in 3rd function:\", global_variable)\n",
    "    \n",
    "globalvariablescope()\n",
    "globalvariablescope2()\n",
    "globalvariablescope3()"
   ]
  },
  {
   "cell_type": "code",
   "execution_count": null,
   "metadata": {},
   "outputs": [],
   "source": [
    "name = 'Chirag'\n",
    "\n",
    "def globalfunc1():\n",
    "    print(\"Global variable without modification:\", name)\n",
    "    \n",
    "def globalfunc2():\n",
    "    \n",
    "    # modify global variable using global keyword\n",
    "    global name\n",
    "    name = 'Suresh'\n",
    "    print(\"Global variable after modification:\", name)\n",
    "    \n",
    "def globalfunc3():\n",
    "    print(\"global variable in 3rd function:\", name)\n",
    "    \n",
    "globalfunc1()\n",
    "globalfunc2()\n",
    "globalfunc3()"
   ]
  },
  {
   "cell_type": "markdown",
   "metadata": {},
   "source": [
    "**Nonlocal variable in function:** nonlocal keyword is used to declare a variable which acts as global variable for nested function. A nested function is a function within another function.\n",
    "\n",
    "we can use nonlocal variable when we want to declare a variable in a local scope but act as global scope."
   ]
  },
  {
   "cell_type": "code",
   "execution_count": null,
   "metadata": {},
   "outputs": [],
   "source": [
    "def outerfunc():\n",
    "    tech = 'Python'\n",
    "    \n",
    "    def innerfunc():\n",
    "        \n",
    "        # local variable tech will now act a global variable\n",
    "        nonlocal tech\n",
    "        tech = 'JavaScript'\n",
    "        print(\"The value of tech inside the inner function is:\", tech)\n",
    "        \n",
    "    innerfunc()\n",
    "    print(\"the value of tech inside the outer function is:\", tech)\n",
    "outerfunc()"
   ]
  },
  {
   "cell_type": "markdown",
   "metadata": {},
   "source": [
    "**Recursive Function:** A recursive function is a function which calls itself again and again.\n",
    "\n",
    "**Advantages:** \n",
    "\n",
    "1. By using recursive, we can reduce the length of the code.\n",
    "   \n",
    "2. The readability of code improves due to code reduction.\n",
    "   \n",
    "3. Useful for solving a complex problem.\n",
    "\n",
    "**Disadvantages:**\n",
    "\n",
    "1. The recursive function takes more memory and time for execution.\n",
    "   \n",
    "2. Debugging is not easy for the recursive function."
   ]
  },
  {
   "cell_type": "markdown",
   "metadata": {},
   "source": [
    "**Python Anonymous/Lambda Function:** A lambda/anonymous function is a function without any name. the reason for using such a function is one time use or instant use. it is declared using `lambda keyword`.\n",
    "\n",
    "In opposite to a normal function, a Python lambda function is a single expression. But, in a lambda body, we can expand with expressions over multiple lines using parentheses or a multiline string.\n",
    "\n",
    "lambda function can have any number of arguments but return only one value after the function evaluation.\n",
    "\n",
    "We are not required to write explicitly return statements in the lambda function because the lambda internally returns expression value.\n",
    "\n",
    "Lambda functions are more useful when we pass a function as an argument to another function. We can also use the lambda function with built-in functions such as `filter, map, reduce` because this function requires another function as an argument.\n",
    "\n",
    "**example: lambda n:n+n**\n",
    "\n",
    "**Syntax:** `lambda: argument_list:expression`"
   ]
  },
  {
   "cell_type": "markdown",
   "metadata": {},
   "source": [
    "**filter() function in Python:** In Python, the filter() function is used to return the filtered value. We use this function to filter values based on some conditions.\n",
    "\n",
    "**Syntax:** `filter(function, sequence)`\n",
    "\n",
    "`sequence` can be anything like list, tuple, string"
   ]
  },
  {
   "cell_type": "markdown",
   "metadata": {},
   "source": [
    "**map() function:** the map() function is used to apply some functionality for every element present in the given sequence and generate a new series with a required modification.\n",
    "\n",
    "**Syntax:** `map(function, sequence)`"
   ]
  },
  {
   "cell_type": "markdown",
   "metadata": {},
   "source": [
    "**reduce() function in python:** the reduce() function is used to minimize sequence elements into a single value by applying the specified condition.\n",
    "\n",
    "The reduce() function is present in the functools module; hence, we need to import it using the import statement before using it.\n",
    "\n",
    "**Syntax:** `reduce(function, sequence)`"
   ]
  },
  {
   "cell_type": "code",
   "execution_count": 24,
   "metadata": {},
   "outputs": [
    {
     "name": "stdout",
     "output_type": "stream",
     "text": [
      "the list of even numbers from the given list is: [10, 78, 90, 24]\n"
     ]
    }
   ],
   "source": [
    "evenlist = [10,3,5,5,78,90,24,45]\n",
    "\n",
    "evenlist2 =list(filter(lambda x:x%2==0,evenlist))\n",
    "print(\"the list of even numbers from the given list is:\", evenlist2)"
   ]
  },
  {
   "cell_type": "code",
   "execution_count": null,
   "metadata": {},
   "outputs": [],
   "source": [
    "from functools import reduce\n",
    "\n",
    "namelist = ['Pre', 'Rajunization']\n",
    "add = reduce(lambda x,y: x+y, namelist)\n",
    "print(\"Addition of list elements:\", add)"
   ]
  },
  {
   "cell_type": "code",
   "execution_count": null,
   "metadata": {},
   "outputs": [],
   "source": [
    "numlist = [2,3,4,5]\n",
    "numlist2 = list(map(lambda x:x*x*x, numlist))\n",
    "print(\"cubes value are:\" ,numlist2)"
   ]
  },
  {
   "cell_type": "markdown",
   "metadata": {},
   "source": [
    "# Functions Exercise"
   ]
  },
  {
   "cell_type": "markdown",
   "metadata": {},
   "source": [
    "Exercise 1: Write a program to create a function that takes two arguments, name and age, and print their value."
   ]
  },
  {
   "cell_type": "code",
   "execution_count": null,
   "metadata": {},
   "outputs": [],
   "source": [
    "# def function1(name, age):\n",
    "#     yield name\n",
    "#     yield age\n",
    "# obj = function1('chirag', 23)\n",
    "# next(obj), next(obj)\n",
    "\n",
    "def function1(name, age):\n",
    "    return name, age\n",
    "function1('chirag', 23)"
   ]
  },
  {
   "cell_type": "markdown",
   "metadata": {},
   "source": [
    "Exercise 2: Write a program to create function func1() to accept a variable length of arguments and print their value."
   ]
  },
  {
   "cell_type": "code",
   "execution_count": null,
   "metadata": {},
   "outputs": [],
   "source": [
    "def multiplearguments(*multiple):\n",
    "    # addition = 0\n",
    "    for i in multiple:\n",
    "        # addition = addition+i\n",
    "        print(i)\n",
    "multiplearguments(45,56,78,8999)"
   ]
  },
  {
   "cell_type": "markdown",
   "metadata": {},
   "source": [
    "Exercise 3: Write a program to create function calculation() such that it can accept two variables and calculate addition and subtraction. Also, it must return both addition and subtraction in a single return call."
   ]
  },
  {
   "cell_type": "code",
   "execution_count": null,
   "metadata": {},
   "outputs": [],
   "source": [
    "def calculation(a, b):\n",
    "    # Your Code\n",
    "    addition = a+b\n",
    "    subtraction = a-b\n",
    "    return addition, subtraction\n",
    "\n",
    "res = calculation(40, 10)\n",
    "print(res)\n"
   ]
  },
  {
   "cell_type": "markdown",
   "metadata": {},
   "source": [
    "Exercise 4: Create a function with a default argument\n",
    "\n",
    "-> Write a program to create a function show_employee() using the following conditions.\n",
    "\n",
    "It should accept the employee’s name and salary and display both.\n",
    "If the salary is missing in the function call then assign default value 9000 to salary"
   ]
  },
  {
   "cell_type": "code",
   "execution_count": null,
   "metadata": {},
   "outputs": [],
   "source": [
    "def show_employee(name, salary=9000):\n",
    "    print( \"name:\", name, '', \"Salary:\", salary)\n",
    "show_employee(\"Chirag\", 23000)\n",
    "show_employee(\"Chirag\")"
   ]
  },
  {
   "cell_type": "markdown",
   "metadata": {},
   "source": [
    "Exercise 5: Create an inner function to calculate the addition in the following way\n",
    "\n",
    "Create an outer function that will accept two parameters, a and b\n",
    "\n",
    "Create an inner function inside an outer function that will calculate the addition of a and b\n",
    "\n",
    "At last, an outer function will add 5 into addition and return it"
   ]
  },
  {
   "cell_type": "code",
   "execution_count": null,
   "metadata": {},
   "outputs": [],
   "source": []
  },
  {
   "cell_type": "markdown",
   "metadata": {},
   "source": [
    "Exercise 6: Write a program to create a recursive function to calculate the sum of numbers from 0 to 10.\n",
    "\n",
    "A recursive function is a function that calls itself again and again."
   ]
  },
  {
   "cell_type": "code",
   "execution_count": null,
   "metadata": {},
   "outputs": [],
   "source": [
    "# def recursiveadditionfunction(number):\n",
    "#     resadd = 0\n",
    "#     for i in range(1,number+1):\n",
    "#         resadd = resadd+i\n",
    "#     return resadd\n",
    "# recursiveadditionfunction(10)\n",
    "\n",
    "def addition(num):\n",
    "    if num:\n",
    "        # call same function by reducing number by 1\n",
    "        return num + addition(num - 1)\n",
    "    else:\n",
    "        return 0\n",
    "res = addition(10)\n",
    "print(\"Addition of numbers from 0 to 10 using recursion:\", res)"
   ]
  },
  {
   "cell_type": "markdown",
   "metadata": {},
   "source": [
    "Exercise 7: Assign a different name to function and call it through the new name\n",
    "\n",
    "Below is the function display_student(name, age). Assign a new name show_student(name, age) to it and call it using the new name.\n",
    "\n",
    "def display_student(name, age):\n",
    "\n",
    "    print(name, age)\n",
    "\n",
    "display_student(\"Emma\", 26)\n",
    "\n",
    "You should be able to call the same function using\n",
    "\n",
    "show_student(name, age)"
   ]
  },
  {
   "cell_type": "code",
   "execution_count": null,
   "metadata": {},
   "outputs": [],
   "source": [
    "def displayname(age,name):\n",
    "    return age, name\n",
    "showname = displayname\n",
    "showname(23, 'chirag')\n"
   ]
  },
  {
   "cell_type": "markdown",
   "metadata": {},
   "source": [
    "Exercise 8: Generate a Python list of all the even numbers between 4 to 30"
   ]
  },
  {
   "cell_type": "code",
   "execution_count": null,
   "metadata": {},
   "outputs": [],
   "source": [
    "[i for i in range(4, 30) if i%2==0]"
   ]
  },
  {
   "cell_type": "markdown",
   "metadata": {},
   "source": [
    "Exercise 9: Find the largest item from a given list"
   ]
  },
  {
   "cell_type": "code",
   "execution_count": null,
   "metadata": {},
   "outputs": [],
   "source": [
    "x = [4, 6, 8, 24, 12, 2]\n",
    "maxelement = x[1]\n",
    "for max in x[1:]:\n",
    "    if max > maxelement:\n",
    "        maxelement = max\n",
    "print(maxelement)\n",
    "        "
   ]
  },
  {
   "cell_type": "code",
   "execution_count": null,
   "metadata": {},
   "outputs": [],
   "source": [
    "listfunc = []\n",
    "def listfunction(*values):\n",
    "    listfunc.append(values)\n",
    "    return listfunc\n",
    "listfunction(10,20,30,40)"
   ]
  },
  {
   "cell_type": "markdown",
   "metadata": {},
   "source": [
    "Exercise 10: write a program to create Pascal triangle"
   ]
  },
  {
   "cell_type": "code",
   "execution_count": null,
   "metadata": {},
   "outputs": [],
   "source": [
    "# def pascal(n):\n",
    "#     for i in range(n):\n",
    "#         print(' '*(n-i),end=' ')\n",
    "#         for j in str(11**i):\n",
    "#             print(j,end=' ')\n",
    "#         print()\n",
    "# pascal(5)      \n",
    "\n",
    "\n",
    "\n",
    "def factorial(x):\n",
    "    if x<=1:\n",
    "        return 1\n",
    "    else:\n",
    "        return x*factorial(x-1)\n",
    "def pascal(n):\n",
    "    for i in range(n):\n",
    "        print(' '*(n-i),end=' ')\n",
    "        for j in range(i+1):\n",
    "            num = factorial(i)//(factorial(i-j)*factorial(j))\n",
    "            print(num,end=' ')\n",
    "        print()\n",
    "pascal(5)\n",
    "            "
   ]
  },
  {
   "cell_type": "markdown",
   "metadata": {},
   "source": [
    "Exercise 11: write a program to find out number of steps to climb stairs."
   ]
  },
  {
   "cell_type": "code",
   "execution_count": null,
   "metadata": {},
   "outputs": [],
   "source": [
    "def ways_of_climbing(n):\n",
    "    if n < 0:\n",
    "        return 0\n",
    "    if n == 0:\n",
    "        return 1\n",
    "    else:\n",
    "        return ways_of_climbing(n-1)+ways_of_climbing(n-2)+ways_of_climbing(n-3)\n",
    "ways_of_climbing(5)"
   ]
  },
  {
   "cell_type": "code",
   "execution_count": null,
   "metadata": {},
   "outputs": [],
   "source": []
  }
 ],
 "metadata": {
  "kernelspec": {
   "display_name": "Python 3",
   "language": "python",
   "name": "python3"
  },
  "language_info": {
   "codemirror_mode": {
    "name": "ipython",
    "version": 3
   },
   "file_extension": ".py",
   "mimetype": "text/x-python",
   "name": "python",
   "nbconvert_exporter": "python",
   "pygments_lexer": "ipython3",
   "version": "3.8.10"
  },
  "orig_nbformat": 4
 },
 "nbformat": 4,
 "nbformat_minor": 2
}
