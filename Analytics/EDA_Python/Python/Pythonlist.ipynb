{
 "cells": [
  {
   "cell_type": "markdown",
   "metadata": {},
   "source": [
    "**Python Lists Properties:**\n",
    "\n",
    "| Property     | Description |\n",
    "|--------------|------------------------------------------------------------------------------------------------------------------------------\n",
    "| Mutable      | The elements of the list can be modified. We can add or remove items to the list after it has been created. |\n",
    "| Ordered      | The items in the lists are ordered. Each item has a unique index value. The new items will be added to the end of the list. |\n",
    "| Heterogenous | The list can contain different kinds of elements i.e; they can contain elements of string, integer, boolean, or any type. |\n",
    "| Duplicates   | The list can contain duplicates i.e., lists can have two items with the same values. |\n",
    "\n",
    "The list data structure is very flexible It has many unique inbuilt functionalities like **pop()**, **append()**, etc which makes it easier, where the data keeps changing."
   ]
  },
  {
   "cell_type": "markdown",
   "metadata": {},
   "source": [
    "**Creating a list:**\n",
    "\n",
    "1. **Using list() constructor:** In general, the constructor of a class has its class name. Similarly, Create a list by passing the comma-separated values inside the list().\n",
    "2. **Using square bracket ([]):** In this method, we can create a list simply by enclosing the items inside the square brackets."
   ]
  },
  {
   "cell_type": "code",
   "execution_count": null,
   "metadata": {},
   "outputs": [],
   "source": [
    "# Example\n",
    "print(\"creating list using list() constructor:\")\n",
    "mylist = list((1,2,24))\n",
    "print(mylist, '\\n')\n",
    "\n",
    "print(\"creating list using square brackets:\")\n",
    "mylist2 = [1,2,24]\n",
    "print(mylist2, '\\n')\n",
    "\n",
    "\n",
    "# Length of a list\n",
    "print(\"Length of the list is:\", len(mylist))"
   ]
  },
  {
   "cell_type": "markdown",
   "metadata": {},
   "source": [
    "**Accessing list items:**\n",
    "\n",
    "1. **Using indexing:** we can access any item from the list using its index number\n",
    "   \n",
    "2. **Using slicing:** we can access a range of items from a list using slicing"
   ]
  },
  {
   "cell_type": "markdown",
   "metadata": {},
   "source": [
    "**Using indexing to access list items:** To access the elements in the list from left to right, the index value starts from **zero to (length of the list-1)** can be used. For example, if we want to access the 3rd element we need to use 2 since the index value starts from 0.\n",
    "\n",
    "**NOTE:**\n",
    "1. As Lists are ordered sequences of items, the index values start from 0 to the Lists length.\n",
    "   \n",
    "2. Whenever we try to access an item with an index more than the Lists length, it will throw the 'Index Error'.\n",
    "   \n",
    "3. Similarly, the index values are always an integer. If we give any other type, then it will throw Type Error."
   ]
  },
  {
   "cell_type": "code",
   "execution_count": null,
   "metadata": {},
   "outputs": [],
   "source": [
    "# example of indexing \n",
    "\n",
    "# Postive indexing\n",
    "mylist = [1,2,4]\n",
    "print(\"the second item in the list is:\", mylist[1])\n",
    "\n",
    "\n",
    "# negative indexing\n",
    "mylist = [1,2,3,4]\n",
    "print(\"the last item in the list is:\", mylist[-1])"
   ]
  },
  {
   "cell_type": "markdown",
   "metadata": {},
   "source": [
    "**Using list slicing for accessing list items:** Slicing a list implies, accessing a range of elements in a list. For example, if we want to get the elements in the position from 3 to 7, we can use the slicing method. We can even modify the values in a range by using this slicing technique.\n",
    "\n",
    "**Syntax:**\n",
    "`listname[start_index : end_index : step]`\n",
    "\n",
    "1. The **start_index** denotes the index position from where the slicing should begin and the **end_index** parameter denotes the index positions till which the slicing should be done.\n",
    "   \n",
    "2. The step allows you to take each nth-element within a start_index:end_index range."
   ]
  },
  {
   "cell_type": "code",
   "execution_count": null,
   "metadata": {},
   "outputs": [],
   "source": [
    "# example of list slicing\n",
    "\n",
    "mylist =  [10, 20, 'Jessa', 12.50, 'Emma', 25, 50]\n",
    "\n",
    "\n",
    "print(\"Extracting a portion of the list from 2nd till 5th element:\", mylist[2:5])\n",
    "\n",
    "# print every second element\n",
    "# with a skip count 2\n",
    "print(mylist[::2])\n",
    "\n",
    "# reversing the list\n",
    "print(\"reversing the list:\", mylist[::-1])"
   ]
  },
  {
   "cell_type": "markdown",
   "metadata": {},
   "source": [
    "**Iterating a list:** The objects in the list can be iterated over one by one, by using a for a loop."
   ]
  },
  {
   "cell_type": "code",
   "execution_count": null,
   "metadata": {},
   "outputs": [],
   "source": [
    "mylist = [5, 8, 'Tom', 7.50, 'Emma']\n",
    "\n",
    "for item in mylist:\n",
    "    print(item)"
   ]
  },
  {
   "cell_type": "markdown",
   "metadata": {},
   "source": [
    "**Iterate along with an index number:** The index value starts from 0 to (length of the list-1). Hence using the **function range()** is ideal for this scenario.\n",
    "\n",
    "The range function returns a sequence of numbers. By default, it returns starting from 0 to the specified number (increments by 1). The starting and ending values can be passed according to our needs."
   ]
  },
  {
   "cell_type": "code",
   "execution_count": null,
   "metadata": {},
   "outputs": [],
   "source": [
    "mylist = [5, 8, 'Raj', 7.50, 'Chirag']\n",
    "\n",
    "for i in range(0, len(mylist)):\n",
    "    print(mylist[i])"
   ]
  },
  {
   "cell_type": "markdown",
   "metadata": {},
   "source": [
    "**Adding elements to the list:** We can add a new element/list of elements to the list using the list methods such as **append(), insert(), and extend()**.\n",
    "\n",
    "1. **append():** will accept only one parameter and add it at the end of the list.\n",
    "   \n",
    "2. **insert() method** to add the object/item at the specified position in the list. The insert method accepts two parameters position and object. the syntax for insert method is: **insert(index, object)**.\n",
    "   \n",
    "3. **extend() method** will accept the list of elements and add them at the end of the list. We can even add another list by using this method. All the values get added in the order they were passed and it gets appended at the end of the list.\n",
    "   \n",
    "4. using **+** operator for concatenation it is same as extend which is also used for concatenation of list."
   ]
  },
  {
   "cell_type": "code",
   "execution_count": null,
   "metadata": {},
   "outputs": [],
   "source": [
    "# append() method\n",
    "list1 = [\"Chirag\"]\n",
    "list1.append(\"Gupta\")\n",
    "print(list1)\n",
    "\n",
    "list1.append([\"Arjun\", \"Farhan\"])\n",
    "print(\"append the nested list at the end:\" ,list1)"
   ]
  },
  {
   "cell_type": "code",
   "execution_count": null,
   "metadata": {},
   "outputs": [],
   "source": [
    "# insert() method\n",
    "\n",
    "mylist = [\"Chirag\", \"Gupta\"]\n",
    "mylist.insert(0, \"Raju\")\n",
    "print(\"Inserting raju at 0th index:\" ,mylist)"
   ]
  },
  {
   "cell_type": "code",
   "execution_count": null,
   "metadata": {},
   "outputs": [],
   "source": [
    "# extend method\n",
    "\n",
    "mylist = [\"Chirag\", \"Gupta\"]\n",
    "mylist.extend([0, \"Raju\"])\n",
    "print(\"extending mylist:\" ,mylist)"
   ]
  },
  {
   "cell_type": "markdown",
   "metadata": {},
   "source": [
    "**Modify the items of a list:** The list is a mutable sequence of iterable objects. It means we can modify the items of a list. Use the index number and assignment operator (=) to assign a new value to an item.\n",
    "\n",
    "1. Modify the individual item.\n",
    "2. Modify the range of items"
   ]
  },
  {
   "cell_type": "code",
   "execution_count": null,
   "metadata": {},
   "outputs": [],
   "source": [
    "my_list = list([2, 4, 6, 8, 10, 12])\n",
    "\n",
    "# modify single item\n",
    "my_list[0] = 20\n",
    "print(my_list)\n",
    "# Output [20, 4, 6, 8, 10, 12]\n",
    "\n",
    "# modify range of items\n",
    "# modify from 1st index to 4th\n",
    "my_list[1:4] = [40, 60, 80]\n",
    "print(my_list)\n",
    "# Output [20, 40, 60, 80, 10, 12]\n",
    "\n",
    "# modify from 3rd index to end\n",
    "my_list[3:] = [80, 100, 120]\n",
    "print(my_list)\n",
    "# Output [20, 40, 60, 80, 100, 120]\n"
   ]
  },
  {
   "cell_type": "code",
   "execution_count": null,
   "metadata": {},
   "outputs": [],
   "source": [
    "# Modify all items in the list at once using for loop \n",
    "\n",
    "my_list = list([2, 4, 6, 8])\n",
    "result = []\n",
    "# change value of all items\n",
    "for i in range(len(my_list)):\n",
    "    # calculate square of each number\n",
    "    square = my_list[i] * my_list[i]\n",
    "    result.append(square)\n",
    "    # my_list[i] = square\n",
    "print(result)\n",
    "# Output [4, 16, 36, 64]"
   ]
  },
  {
   "cell_type": "markdown",
   "metadata": {},
   "source": [
    "**Removing elements from a list:**\n",
    "\n",
    "| Method       | Description                                                                                      |\n",
    "|--------------|--------------------------------------------------------------------------------------------------|\n",
    "| remove(item) | To remove the first occurrence of the item from the list.                                       |\n",
    "| pop(index)   | Removes and returns the item at the given index from the list.                                   |\n",
    "| clear()      | To remove all items from the list. The output will be an empty list.                              |\n",
    "| del list_name| Delete the entire list.                                                                         |\n"
   ]
  },
  {
   "cell_type": "markdown",
   "metadata": {},
   "source": [
    "**Remove specific item:**\n",
    "Use the **remove(**) method to remove the first occurrence of the item from the list.\n",
    "\n",
    "**Note:**  It Throws a keyerror if an item not present in the original list."
   ]
  },
  {
   "cell_type": "code",
   "execution_count": null,
   "metadata": {},
   "outputs": [],
   "source": [
    "my_list = list([2, 4, 6, 8, 10, 12])\n",
    "\n",
    "# remove item 6\n",
    "my_list.remove(6)\n",
    "# remove item 8\n",
    "my_list.remove(8)\n",
    "\n",
    "print(my_list)\n",
    "# Output [2, 4, 10, 12]"
   ]
  },
  {
   "cell_type": "markdown",
   "metadata": {},
   "source": [
    "**Remove all occurrence of a specific item:** Use a loop to remove all occurrence of a specific item"
   ]
  },
  {
   "cell_type": "code",
   "execution_count": null,
   "metadata": {},
   "outputs": [],
   "source": [
    "my_list = list([6, 4, 6, 6, 8, 12])\n",
    "\n",
    "for item in my_list:\n",
    "    my_list.remove(6)\n",
    "\n",
    "print(my_list)\n",
    "# Output [4, 8, 12]"
   ]
  },
  {
   "cell_type": "markdown",
   "metadata": {},
   "source": [
    "**Remove item present at given index:** Use the pop() method to remove the item at the given index. The **pop()** method removes and returns the item present at the given index.\n",
    "\n",
    "**Note:** It will remove the last item from the list if the index number is not passed."
   ]
  },
  {
   "cell_type": "code",
   "execution_count": null,
   "metadata": {},
   "outputs": [],
   "source": [
    "my_list = list([2, 4, 6, 8, 10, 12])\n",
    "\n",
    "# remove item present at index 2\n",
    "my_list.pop(2)\n",
    "print(my_list)\n",
    "# Output [2, 4, 8, 10, 12]\n",
    "\n",
    "# remove item without passing index number\n",
    "my_list.pop()\n",
    "print(my_list)\n",
    "# Output [2, 4, 8, 10]"
   ]
  },
  {
   "cell_type": "markdown",
   "metadata": {},
   "source": [
    "**Remove the range of items:** Use del keyword along with list slicing to remove the range of items"
   ]
  },
  {
   "cell_type": "code",
   "execution_count": null,
   "metadata": {},
   "outputs": [],
   "source": [
    "my_list = list([2, 4, 6, 8, 10, 12])\n",
    "\n",
    "# remove range of items\n",
    "# remove item from index 2 to 5\n",
    "del my_list[2:5]\n",
    "print(my_list)\n",
    "# Output [2, 4, 12]\n",
    "\n",
    "# remove all items starting from index 3\n",
    "my_list = list([2, 4, 6, 8, 10, 12])\n",
    "del my_list[3:]\n",
    "print(my_list)\n",
    "# Output [2, 4, 6]"
   ]
  },
  {
   "cell_type": "markdown",
   "metadata": {},
   "source": [
    "**Remove all items:** Use the list’ clear() method to remove all items from the list. The clear() method truncates the list."
   ]
  },
  {
   "cell_type": "code",
   "execution_count": null,
   "metadata": {},
   "outputs": [],
   "source": [
    "my_list = list([2, 4, 6, 8, 10, 12])\n",
    "\n",
    "# clear list\n",
    "my_list.clear()\n",
    "print(my_list)\n",
    "# Output []\n",
    "\n",
    "# Delete entire list\n",
    "del my_list"
   ]
  },
  {
   "cell_type": "markdown",
   "metadata": {},
   "source": [
    "**Finding an element in the list:** Use the **index()** function to find an item in a list.\n",
    "\n",
    "The **index()** function will accept the value of the element as a parameter and returns the first occurrence of the element or returns ValueError if the element does not exist."
   ]
  },
  {
   "cell_type": "code",
   "execution_count": null,
   "metadata": {},
   "outputs": [],
   "source": [
    "my_list = list([2, 4, 6, 8, 10, 12])\n",
    "\n",
    "# it will return the index of the element\n",
    "print(my_list.index(8))\n",
    "# Output 3\n",
    "\n",
    "# returns error since the element does not exist in the list.\n",
    "# my_list.index(100)"
   ]
  },
  {
   "cell_type": "markdown",
   "metadata": {},
   "source": [
    "**Copying a list:**\n",
    "1. Using assignment operator (=) is the straightforward way of creating a copy. In this method, the new list will be a deep copy. The changes that we make in the original list will be reflected in the new list. **This is called deep copying**.\n",
    "\n",
    "2. **Using the copy() method**  used to create a copy of a list. This will create a new list and any changes made in the original list will not reflect in the new list. **This is shallow copying**."
   ]
  },
  {
   "cell_type": "code",
   "execution_count": null,
   "metadata": {},
   "outputs": [],
   "source": [
    "# deep copy example\n",
    "my_list1 = [1, 2, 3]\n",
    "\n",
    "# Using = operator\n",
    "new_list = my_list1\n",
    "# printing the new list\n",
    "print(new_list)\n",
    "# Output [1, 2, 3]\n",
    "\n",
    "# making changes in the original list\n",
    "my_list1.append(4)\n",
    "\n",
    "# print both copies\n",
    "print(my_list1)\n",
    "# result [1, 2, 3, 4]\n",
    "print(new_list)\n",
    "# result [1, 2, 3, 4]"
   ]
  },
  {
   "cell_type": "code",
   "execution_count": null,
   "metadata": {},
   "outputs": [],
   "source": [
    "# shallow copying example\n",
    "my_list1 = [1, 2, 3]\n",
    "\n",
    "# Using copy() method\n",
    "new_list = my_list1.copy()\n",
    "# printing the new list\n",
    "print(new_list)\n",
    "# Output [1, 2, 3]\n",
    "\n",
    "# making changes in the original list\n",
    "my_list1.append(4)\n",
    "\n",
    "# print both copies\n",
    "print(my_list1)\n",
    "# result [1, 2, 3, 4]\n",
    "print(new_list)\n",
    "# result [1, 2, 3]"
   ]
  },
  {
   "cell_type": "markdown",
   "metadata": {},
   "source": [
    "**List operations:**"
   ]
  },
  {
   "cell_type": "markdown",
   "metadata": {},
   "source": [
    "**Sort List using sort()**"
   ]
  },
  {
   "cell_type": "code",
   "execution_count": null,
   "metadata": {},
   "outputs": [],
   "source": [
    "mylist = [3,2,1]\n",
    "mylist.sort()\n",
    "print(\"This is the sorted list:\", mylist)"
   ]
  },
  {
   "cell_type": "markdown",
   "metadata": {},
   "source": [
    "**Reverse a List using reverse()**"
   ]
  },
  {
   "cell_type": "code",
   "execution_count": null,
   "metadata": {},
   "outputs": [],
   "source": [
    "mylist = [3, 4, 5, 6, 1]\n",
    "mylist.reverse()\n",
    "print(\"reverse list:\", mylist)"
   ]
  },
  {
   "cell_type": "markdown",
   "metadata": {},
   "source": [
    "**Nested list :** `mylist = [3, 4, 5, 6, 3, [1, 2, 3], 4]`"
   ]
  },
  {
   "cell_type": "markdown",
   "metadata": {},
   "source": [
    "**Retrieve the elements of the inner list we need a nested For-Loop.**"
   ]
  },
  {
   "cell_type": "code",
   "execution_count": null,
   "metadata": {},
   "outputs": [],
   "source": [
    "nestedlist = [[2,4,6,8,10],[1,3,5,7,9]]\n",
    "\n",
    "print(\"Accessing the third element of the second list:\", nestedlist[1][2])\n",
    "\n",
    "for i in nestedlist:\n",
    "    print(\"list:\", i, \"elements:\")\n",
    "    for j in i:\n",
    "        print(j)"
   ]
  },
  {
   "cell_type": "markdown",
   "metadata": {},
   "source": [
    "**List comprehension:** simpler method to create a list from an existing list. it is generally a list of iterable generated with an option to include only the items which satisfy a condition.\n",
    "\n",
    "**Syntax:**\n",
    "outputlist = {expression(variable) for variable in inputlist [if variable condition1][if variable condition2]}\n",
    "\n",
    "1. **expression:** optional, computes the members of the output list which satisfies the optional conditions.\n",
    "2. **variable:** required, represents the members of the input list\n",
    "3. **input list:** required, represent the input set.\n",
    "4. **condition1 etc.:** optional, filter conditions for the members of the output list."
   ]
  },
  {
   "cell_type": "code",
   "execution_count": null,
   "metadata": {},
   "outputs": [],
   "source": [
    "inputlist = [3,4,5,56,667]\n",
    "\n",
    "# creating a list with square of only the even numbers\n",
    "squarelist = [var**2 for var in inputlist if var%2==0]\n",
    "print(\"List of squares of even numbers from the input list:\" ,squarelist)"
   ]
  },
  {
   "cell_type": "markdown",
   "metadata": {},
   "source": [
    "**List Exercise**"
   ]
  },
  {
   "cell_type": "markdown",
   "metadata": {},
   "source": [
    "**Exercise 1: Reverse a list in Python**"
   ]
  },
  {
   "cell_type": "code",
   "execution_count": null,
   "metadata": {},
   "outputs": [],
   "source": [
    "list1 = [100, 200, 300, 400, 500]\n",
    "# list1.reverse()\n",
    "# print(list1)\n",
    "for i in list1:\n",
    "    finallist = list1[::-1]\n",
    "print( \"Reverse list:\", finallist)"
   ]
  },
  {
   "cell_type": "markdown",
   "metadata": {},
   "source": [
    "Exercise 2: Write a program to add two lists index-wise. Create a new list that contains the 0th index item from both the list, then the 1st index item, and so on till the last element. any leftover items will get added at the end of the new list."
   ]
  },
  {
   "cell_type": "code",
   "execution_count": null,
   "metadata": {},
   "outputs": [],
   "source": [
    "list1 = [\"M\", \"na\", \"i\", \"Ke\"]\n",
    "list2 = [\"y\", \"me\", \"s\", \"lly\"]\n",
    "\n",
    "list3 = [i + j for i, j in zip(list1, list2)]\n",
    "print(list3)\n",
    "# list3=[]\n",
    "# for i in list1:\n",
    "#     for j in list2:\n",
    "#         list3.append(i+j)\n",
    "# print(list3)"
   ]
  },
  {
   "cell_type": "markdown",
   "metadata": {},
   "source": [
    "Exercise 3: Given a list of numbers. write a program to turn every item of a list into its square."
   ]
  },
  {
   "cell_type": "code",
   "execution_count": null,
   "metadata": {},
   "outputs": [],
   "source": [
    "numbers = [1, 2, 3, 4, 5, 6, 7]\n",
    "squarelist = []\n",
    "for i in numbers:\n",
    "    square = i*i\n",
    "    squarelist.append(square)\n",
    "print(\"The square of number of elements in the list:\")\n",
    "print(squarelist)"
   ]
  },
  {
   "cell_type": "markdown",
   "metadata": {},
   "source": [
    "Exercise 4: Concatenate two lists in the following order.\n",
    "\n",
    "list1 = [\"Hello \", \"take \"]\n",
    "\n",
    "list2 = [\"Dear\", \"Sir\"]\n",
    "\n",
    "['Hello Dear', 'Hello Sir', 'take Dear', 'take Sir']\n"
   ]
  },
  {
   "cell_type": "code",
   "execution_count": null,
   "metadata": {},
   "outputs": [],
   "source": [
    "listname1 = [\"Hello \", \"take \"]\n",
    "listname2 = [\"Dear\", \"Sir\"]\n",
    "res = [x + y for x in listname1 for y in listname2]\n",
    "print(res)"
   ]
  },
  {
   "cell_type": "markdown",
   "metadata": {},
   "source": [
    "Exercise 5: Given a two Python list. Write a program to iterate both lists simultaneously and display items from list1 in original order and items from list2 in reverse order.\n",
    "\n",
    "list1 = [10, 20, 30, 40]\n",
    "\n",
    "list2 = [100, 200, 300, 400]"
   ]
  },
  {
   "cell_type": "code",
   "execution_count": null,
   "metadata": {},
   "outputs": [],
   "source": [
    "# Expected output:\n",
    "# 10 400\n",
    "# 20 300\n",
    "# 30 200\n",
    "# 40 100\n",
    "\n",
    "iteratelist1 = [10, 20, 30, 40]\n",
    "\n",
    "iteratelist2 = [100, 200, 300, 400]\n",
    "\n",
    "output = []\n",
    "\n",
    "for i in range(len(iteratelist1)):\n",
    "    print(iteratelist1[i],iteratelist2[len(iteratelist2)-(i+1)])\n",
    "    output.append((iteratelist1[i],iteratelist2[len(iteratelist2)-(i+1)]))\n",
    "    \n",
    "output\n",
    "    \n",
    "# list(zip(iteratelist1,iteratelist2[::-1])) using zip"
   ]
  },
  {
   "cell_type": "markdown",
   "metadata": {},
   "source": [
    "Exercise 6: Remove empty strings from the list of strings\n",
    "\n"
   ]
  },
  {
   "cell_type": "code",
   "execution_count": null,
   "metadata": {},
   "outputs": [],
   "source": [
    "# # initializing list\n",
    "# test_list = [\"\", \"GeeksforGeeks\", \"\", \"is\", \"best\", \"\"]\n",
    "# # Printing original list\n",
    "# print(\"Original list is : \" + str(test_list))\n",
    "# # using remove() to\n",
    "# # perform removal\n",
    "# while(\"\" in test_list):\n",
    "# \ttest_list.remove(\"\")\n",
    "# # Printing modified list\n",
    "# print(\"Modified list is : \" + str(test_list))\n",
    "\n",
    "listspace1 = [\"Mike\", \"\", \"Emma\", \"Kelly\", \"\", \"Brad\"]\n",
    "listspace2 = [i for i in listspace1 if i]\n",
    "print(listspace2)\n",
    "type(listspace2)\n",
    "\n"
   ]
  },
  {
   "cell_type": "markdown",
   "metadata": {},
   "source": [
    "Exercise 7: Add new item to list after a specified item\n",
    "\n",
    "Given:\n",
    "\n",
    "list1 = [10, 20, [300, 400, [5000, 6000], 500], 30, 40]\n",
    "\n",
    "Expected Output:\n",
    "\n",
    "[10, 20, [300, 400, [5000, 6000, 7000], 500], 30, 40]"
   ]
  },
  {
   "cell_type": "code",
   "execution_count": null,
   "metadata": {},
   "outputs": [],
   "source": [
    "nestedlist1 = [10, 20, [300, 400, [5000, 6000], 500], 30, 40]\n",
    "nestedlist1[2][2].append(7000)\n",
    "nestedlist1"
   ]
  },
  {
   "cell_type": "markdown",
   "metadata": {},
   "source": [
    "Exercise 8: Reversing a list with different methods"
   ]
  },
  {
   "cell_type": "code",
   "execution_count": null,
   "metadata": {},
   "outputs": [],
   "source": [
    "# Using reverse()\n",
    "l1 = [10,20,30,40,50]\n",
    "l1.reverse()\n",
    "l1"
   ]
  },
  {
   "cell_type": "code",
   "execution_count": null,
   "metadata": {},
   "outputs": [],
   "source": [
    "# using reversed()\n",
    "l1 = [10,20,30,40,50]\n",
    "l2 = list(reversed(l1))\n",
    "l2"
   ]
  },
  {
   "cell_type": "code",
   "execution_count": null,
   "metadata": {},
   "outputs": [],
   "source": [
    "# list slicing\n",
    "l1[::-1]"
   ]
  },
  {
   "cell_type": "markdown",
   "metadata": {},
   "source": [
    "Exercise 9: Create a recursive function for reversing the list"
   ]
  },
  {
   "cell_type": "code",
   "execution_count": null,
   "metadata": {},
   "outputs": [],
   "source": [
    "def reverse_list(org_list):\n",
    "    out_list =[]\n",
    "    if len(org_list) <= 1:\n",
    "        return org_list\n",
    "    elif len(org_list) >=1:\n",
    "        out_list.append(org_list[::-1])\n",
    "        return out_list[0]\n",
    "    reverse_list(org_list)\n",
    "reverse_list([2,1,3,4])"
   ]
  },
  {
   "cell_type": "markdown",
   "metadata": {},
   "source": [
    "Exercise 10: You have given a nested list. Write a program to extend it by adding the sublist [\"h\", \"i\", \"j\"] in such a way that it will look like the following list.\n",
    "\n",
    "list1 = [\"a\", \"b\", [\"c\", [\"d\", \"e\", [\"f\", \"g\"], \"k\"], \"l\"], \"m\", \"n\"]\n",
    "\n",
    "sub_list = [\"h\", \"i\", \"j\"]\n",
    "\n",
    "Expected output\n",
    "\n",
    "['a', 'b', ['c', ['d', 'e', ['f', 'g', 'h', 'i', 'j'], 'k'], 'l'], 'm', 'n']"
   ]
  },
  {
   "cell_type": "code",
   "execution_count": null,
   "metadata": {},
   "outputs": [],
   "source": [
    "listaddingsublist1 = [\"a\", \"b\", [\"c\", [\"d\", \"e\", [\"f\", \"g\"], \"k\"], \"l\"], \"m\", \"n\"]\n",
    "sub_list = [\"h\", \"i\", \"j\"]\n",
    "listaddingsublist1[2][1][2].extend(sub_list)\n",
    "print(listaddingsublist1)\n",
    "# for i in listaddingsublist1:\n",
    "#     outputlist = listaddingsublist1[2][1][2] + sub_list \n",
    "# print(outputlist)"
   ]
  },
  {
   "cell_type": "markdown",
   "metadata": {},
   "source": [
    "Exercise 11: Replace list’s item with new value if found\n",
    "\n",
    "You have given a Python list. Write a program to find value 20 in the list, and if it is present, replace it with 200. Only update the first occurrence of an item.\n",
    "Given:\n",
    "\n",
    "list1 = [5, 10, 15, 20, 25, 50, 20]\n",
    "\n",
    "Expected Output:\n",
    "\n",
    "[5, 10, 15, 200, 25, 50, 20]\n"
   ]
  },
  {
   "cell_type": "code",
   "execution_count": null,
   "metadata": {},
   "outputs": [],
   "source": [
    "listaddingnewitem = [5, 10, 15, 20, 25, 50, 20]\n",
    "index = listaddingnewitem.index(20)\n",
    "listaddingnewitem[index]=200\n",
    "print(listaddingnewitem)"
   ]
  },
  {
   "cell_type": "markdown",
   "metadata": {},
   "source": [
    "Exercise 12: Remove all occurrences of a specific item from a list.\n",
    "\n",
    "Given a Python list, write a program to remove all occurrences of item 20.\n",
    "\n",
    "list1 = [5, 20, 15, 20, 25, 50, 20]\n",
    "\n",
    "Expected output:\n",
    "\n",
    "[5, 15, 25, 50]"
   ]
  },
  {
   "cell_type": "code",
   "execution_count": null,
   "metadata": {},
   "outputs": [],
   "source": [
    "listreplace = [5, 20, 15, 20, 25, 50, 20]\n",
    "while 20 in listreplace:\n",
    "    listreplace.remove(20)\n",
    "print(listreplace)\n",
    "    "
   ]
  },
  {
   "cell_type": "markdown",
   "metadata": {},
   "source": [
    "Exercise 13: Given the string list extract the list from string and its type should be list\n",
    "\n",
    "Expected Output:\n",
    "\n",
    "['Chirag', 'Nagesh', 'Jaipur']\n"
   ]
  },
  {
   "cell_type": "code",
   "execution_count": null,
   "metadata": {},
   "outputs": [],
   "source": [
    "str1 = '[\"Chirag\", \"Nagesh\", \"Jaipur\"]'\n",
    "str2 = str1.strip('[]').replace('\"',\"\").replace(\" \",\"\")\n",
    "str3 = str2.split(',')\n",
    "print(str3)\n",
    "type(str3)"
   ]
  },
  {
   "cell_type": "markdown",
   "metadata": {},
   "source": [
    "Exercise 14: Use regex for extracting the list from the given list and its type should be list\n",
    "\n",
    "Expected Output:\n",
    "\n",
    "['Chirag', 'Nagesh', 'Jaipur']"
   ]
  },
  {
   "cell_type": "code",
   "execution_count": null,
   "metadata": {},
   "outputs": [],
   "source": [
    "import re\n",
    "\n",
    "strregx1 = '[\"Chirag\", \"Nagesh\", \"Jaipur\"]'\n",
    "strregx2 = re.sub(\"[^a-zA-Z0-9,]\",\"\",strregx1)\n",
    "# str2 = str1.strip('[]').replace('\"',\"\").replace(\" \",\"\")\n",
    "strregx3 = strregx2.split(',')\n",
    "print(strregx3)\n",
    "type(strregx3)\n",
    "\n",
    "\n",
    "# import re\n",
    "\n",
    "# str1 = '[\"Chirag\", \"Nagesh\", \"Jaipur\"]'\n",
    "# str3 = re.sub(\"[^a-zA-Z0-9,]\",\"\",str1).split(',')\n",
    "# # str2 = str1.strip('[]').replace('\"',\"\").replace(\" \",\"\")\n",
    "# # str3 = str2.split(',')\n",
    "# print(str3)\n",
    "# type(str3)"
   ]
  },
  {
   "cell_type": "markdown",
   "metadata": {},
   "source": [
    "Exercise 15: Use eval for extracting list from the string and its type should be list"
   ]
  },
  {
   "cell_type": "code",
   "execution_count": null,
   "metadata": {},
   "outputs": [],
   "source": [
    "streval1 = '[\"Chirag\", \"Nagesh\", \"Jaipur\"]'\n",
    "streval4  = eval(streval1)\n",
    "print(streval4)\n",
    "type(streval4)"
   ]
  },
  {
   "cell_type": "markdown",
   "metadata": {},
   "source": [
    "Exercise 16: Use list comprehension for printing number and their square in list"
   ]
  },
  {
   "cell_type": "code",
   "execution_count": null,
   "metadata": {},
   "outputs": [],
   "source": [
    "[(i,i**2) for i in range(1,10) if i%2==0]"
   ]
  },
  {
   "cell_type": "markdown",
   "metadata": {},
   "source": [
    "Exercise 17: Quicksort a list"
   ]
  },
  {
   "cell_type": "code",
   "execution_count": null,
   "metadata": {},
   "outputs": [],
   "source": [
    "def quicksort(arr):\n",
    "    if len(arr) <=1:\n",
    "        return arr\n",
    "    pivot = arr[0]\n",
    "    left = [x for x in arr[1:] if x<pivot]\n",
    "    right = [x for x in arr[1:] if x>=pivot]\n",
    "    return quicksort(left) + [pivot] + quicksort(right)\n",
    "quicksort(arr = [4,7,1,5,9,11,0,2,1])"
   ]
  },
  {
   "cell_type": "code",
   "execution_count": null,
   "metadata": {},
   "outputs": [],
   "source": []
  }
 ],
 "metadata": {
  "kernelspec": {
   "display_name": "Python 3",
   "language": "python",
   "name": "python3"
  },
  "language_info": {
   "codemirror_mode": {
    "name": "ipython",
    "version": 3
   },
   "file_extension": ".py",
   "mimetype": "text/x-python",
   "name": "python",
   "nbconvert_exporter": "python",
   "pygments_lexer": "ipython3",
   "version": "3.8.10"
  },
  "orig_nbformat": 4
 },
 "nbformat": 4,
 "nbformat_minor": 2
}
